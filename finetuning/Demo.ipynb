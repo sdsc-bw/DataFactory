{
 "cells": [
  {
   "cell_type": "markdown",
   "id": "85fe1f22",
   "metadata": {},
   "source": [
    "# Finetuning"
   ]
  },
  {
   "cell_type": "markdown",
   "id": "8e7d63d5",
   "metadata": {},
   "source": [
    "To find a suitable model for your ML problem is very important. Not every model has the same performane on every task. Some models can be to simple (underfitting) and some models can be to complex for for a problem (overfitting). Also a model has different hyperparameters which also have an impact on the performance. Therefor exist libraries that can be used to find a appropriate model and its hyperparameters. Popular ones are [auto-sklearn](https://github.com/automl/auto-sklearn) and [hyperopt](https://github.com/hyperopt/hyperopt)."
   ]
  },
  {
   "cell_type": "markdown",
   "id": "a8364c25",
   "metadata": {},
   "source": [
    "## Import packages"
   ]
  },
  {
   "cell_type": "code",
   "execution_count": 1,
   "id": "1e2df4e4",
   "metadata": {},
   "outputs": [],
   "source": [
    "import sys"
   ]
  },
  {
   "cell_type": "code",
   "execution_count": 2,
   "id": "8205e07f",
   "metadata": {},
   "outputs": [],
   "source": [
    "if 'google.colab' in sys.modules:\n",
    "    ! git clone https://github.com/sdsc-bw/DataFactory.git\n",
    "    ! ls\n",
    "    \n",
    "    !sudo apt-get install build-essential swig\n",
    "    !curl https://raw.githubusercontent.com/automl/auto-sklearn/master/requirements.txt | xargs -n 1 -L 1 pip install\n",
    "    !pip install auto-sklearn\n",
    "    \n",
    "    !pip install scipy"
   ]
  },
  {
   "cell_type": "code",
   "execution_count": 3,
   "id": "46a0a167",
   "metadata": {},
   "outputs": [],
   "source": [
    "import warnings\n",
    "warnings.filterwarnings('ignore')"
   ]
  },
  {
   "cell_type": "code",
   "execution_count": 4,
   "id": "b9289706",
   "metadata": {},
   "outputs": [],
   "source": [
    "import matplotlib.pyplot as plt\n",
    "import pandas as pd\n",
    "from sklearn.datasets import load_wine, load_digits\n",
    "from hyperopt import hp\n",
    "\n",
    "if 'google.colab' in sys.modules:\n",
    "    root = 'Datafactory/'\n",
    "else:\n",
    "    root = '../'\n",
    "    \n",
    "sys.path.insert(0, root + \"codes\")\n",
    "\n",
    "from DataFactory import DataFactory"
   ]
  },
  {
   "cell_type": "markdown",
   "id": "9259c4c0",
   "metadata": {},
   "source": [
    "## Load dataset: MNIST digit dataset"
   ]
  },
  {
   "cell_type": "code",
   "execution_count": 5,
   "id": "0eb83d73",
   "metadata": {},
   "outputs": [],
   "source": [
    "X, y = load_digits(return_X_y=True)"
   ]
  },
  {
   "cell_type": "code",
   "execution_count": 6,
   "id": "6c70b473",
   "metadata": {
    "scrolled": false
   },
   "outputs": [
    {
     "data": {
      "image/png": "[encoded data removed]",
      "text/plain": [
       "<Figure size 432x288 with 1 Axes>"
      ]
     },
     "metadata": {
      "needs_background": "light"
     },
     "output_type": "display_data"
    }
   ],
   "source": [
    "plt.imshow(X[0].reshape(8, 8))\n",
    "plt.show()"
   ]
  },
  {
   "cell_type": "markdown",
   "id": "527d1d73",
   "metadata": {},
   "source": [
    "## Use DataFactory"
   ]
  },
  {
   "cell_type": "code",
   "execution_count": 9,
   "id": "ec311175",
   "metadata": {},
   "outputs": [],
   "source": [
    "datafactory = DataFactory()"
   ]
  },
  {
   "cell_type": "markdown",
   "id": "6a5253ff",
   "metadata": {},
   "source": [
    "### Hyperopt"
   ]
  },
  {
   "cell_type": "markdown",
   "id": "100cca6b",
   "metadata": {},
   "source": [
    "We also can provide a function to use hyperopt. It can be used the same way"
   ]
  },
  {
   "cell_type": "code",
   "execution_count": 17,
   "id": "515994ca",
   "metadata": {},
   "outputs": [],
   "source": [
    "# list with models to try out\n",
    "models = ['decision_tree', 'random_forest', 'adaboost']\n",
    "# list with params for every model to try out (search strategy of hyperparameters should be in ['parzen', 'random'])\n",
    "params = {'strategy': 'random'}"
   ]
  },
  {
   "cell_type": "code",
   "execution_count": 18,
   "id": "da3da630",
   "metadata": {},
   "outputs": [
    {
     "name": "stderr",
     "output_type": "stream",
     "text": [
      "2021-11-22 14:23:11,750 - DataFactory - INFO - Start finetuning...\n"
     ]
    },
    {
     "name": "stdout",
     "output_type": "stream",
     "text": [
      "100%|███████████████████████████████████████████████| 32/32 [00:18<00:00,  1.73trial/s, best loss: -0.9372110765409446]"
     ]
    },
    {
     "name": "stderr",
     "output_type": "stream",
     "text": [
      "2021-11-22 14:23:30,508 - DataFactory - INFO - ...End finetuning\n",
      "2021-11-22 14:23:30,508 - DataFactory - INFO - Best model is: random_forest with parameters: {'max_depth': 10, 'min_samples_leaf': 2, 'min_samples_split': 5, 'n_estimators': 200}\n"
     ]
    },
    {
     "name": "stdout",
     "output_type": "stream",
     "text": [
      "\n"
     ]
    }
   ],
   "source": [
    "model, score = datafactory.finetune(X, y, strategy='hyperopt', models=models, cv=3, mtype='C', params=params.copy())"
   ]
  },
  {
   "cell_type": "code",
   "execution_count": 19,
   "id": "45578809",
   "metadata": {},
   "outputs": [
    {
     "data": {
      "text/plain": [
       "0.9372110765409446"
      ]
     },
     "execution_count": 19,
     "metadata": {},
     "output_type": "execute_result"
    }
   ],
   "source": [
    "score"
   ]
  },
  {
   "cell_type": "markdown",
   "id": "2265eb63",
   "metadata": {},
   "source": [
    "If we want to define custom parameters, they should be defined with the functions of hyperopt."
   ]
  },
  {
   "cell_type": "code",
   "execution_count": 20,
   "id": "2b60853f",
   "metadata": {},
   "outputs": [],
   "source": [
    "models = ['decision_tree', 'random_forest', 'adaboost']\n",
    "# attention the label has to be unique for every parameter (also between models)\n",
    "params = {'strategy': 'random', 'decision_tree': {'max_depth': hp.quniform('max_depth_dt', 1, 10, 1), 'criterion': hp.choice('criterion_dt', ['gini', 'entropy']), 'min_samples_leaf': hp.choice('min_samples_leaf_dt', [1, 2, 4])}, 'random_forest': {'max_depth': hp.choice('max_depth_rf', [1, 2, 3, 5, 10, 20, 50]), 'n_estimators': hp.choice('n_estimators_rf', [50, 100, 200])}, 'adaboost': {'n_estimators': hp.choice('n_estimators_ab', [50, 100, 200]), 'learning_rate': hp.choice('learning_rate_ab', [0.001,0.01,.1,1.0])}}"
   ]
  },
  {
   "cell_type": "code",
   "execution_count": 21,
   "id": "e3676483",
   "metadata": {},
   "outputs": [
    {
     "name": "stderr",
     "output_type": "stream",
     "text": [
      "2021-11-22 14:23:30,560 - DataFactory - INFO - Start finetuning...\n"
     ]
    },
    {
     "name": "stdout",
     "output_type": "stream",
     "text": [
      "100%|███████████████████████████████████████████████| 32/32 [00:42<00:00,  1.33s/trial, best loss: -0.9393121200815602]"
     ]
    },
    {
     "name": "stderr",
     "output_type": "stream",
     "text": [
      "2021-11-22 14:24:13,297 - DataFactory - INFO - ...End finetuning\n",
      "2021-11-22 14:24:13,298 - DataFactory - INFO - Best model is: random_forest with parameters: {'max_depth': 50, 'n_estimators': 200}\n"
     ]
    },
    {
     "name": "stdout",
     "output_type": "stream",
     "text": [
      "\n"
     ]
    }
   ],
   "source": [
    "model, score = datafactory.finetune(X, y, strategy='hyperopt', models=models, cv=5, mtype='C', params=params.copy())"
   ]
  },
  {
   "cell_type": "code",
   "execution_count": 22,
   "id": "e9e16290",
   "metadata": {},
   "outputs": [
    {
     "data": {
      "text/plain": [
       "0.9393121200815602"
      ]
     },
     "execution_count": 22,
     "metadata": {},
     "output_type": "execute_result"
    }
   ],
   "source": [
    "score"
   ]
  },
  {
   "cell_type": "markdown",
   "id": "9612271e",
   "metadata": {},
   "source": [
    "### Sklearn with Search"
   ]
  },
  {
   "cell_type": "markdown",
   "id": "57a96a3b",
   "metadata": {},
   "source": [
    "Sklearn also provides functions to tune the hyperparameters for a specific model. We implemented a function to also find the best model:\n",
    "\n",
    "We can define the models that we want to test. Then we have to define a *param* variable that defines the strategy how to examine the search space. There we also can define the parameters of the search space. If parameters for models are not given, it uses the standard search space. Like we do it here:"
   ]
  },
  {
   "cell_type": "code",
   "execution_count": 11,
   "id": "56cfafde",
   "metadata": {},
   "outputs": [],
   "source": [
    "# list with models to try out\n",
    "models = ['decision_tree', 'random_forest', 'adaboost']"
   ]
  },
  {
   "cell_type": "code",
   "execution_count": 12,
   "id": "52cb31c4",
   "metadata": {},
   "outputs": [
    {
     "name": "stderr",
     "output_type": "stream",
     "text": [
      "2021-11-22 14:22:54,705 - DataFactory - INFO - Start finetuning...\n",
      "2021-11-22 14:22:54,706 - DataFactory - INFO - Start search for best parameters of: decision_tree...\n",
      "2021-11-22 14:22:56,162 - DataFactory - INFO - ...End search\n",
      "2021-11-22 14:22:56,162 - DataFactory - INFO - Best parameters are: {'min_samples_split': 9, 'min_samples_leaf': 1, 'max_depth': 9, 'criterion': 'entropy'} with score 0.88\n",
      "2021-11-22 14:22:56,163 - DataFactory - INFO - Start search for best parameters of: random_forest...\n",
      "2021-11-22 14:22:59,700 - DataFactory - INFO - ...End search\n",
      "2021-11-22 14:22:59,701 - DataFactory - INFO - Best parameters are: {'n_estimators': 200, 'min_samples_split': 2, 'min_samples_leaf': 2, 'max_depth': 50} with score 0.97\n",
      "2021-11-22 14:22:59,701 - DataFactory - INFO - Start search for best parameters of: adaboost...\n",
      "2021-11-22 14:23:03,845 - DataFactory - INFO - ...End search\n",
      "2021-11-22 14:23:03,845 - DataFactory - INFO - Best parameters are: {'n_estimators': 200, 'learning_rate': 0.01} with score 0.77\n",
      "2021-11-22 14:23:03,846 - DataFactory - INFO - ...End finetuning\n",
      "2021-11-22 14:23:03,846 - DataFactory - INFO - Best model is: random_forest with parameters: {'bootstrap': True, 'ccp_alpha': 0.0, 'class_weight': None, 'criterion': 'gini', 'max_depth': 50, 'max_features': 'auto', 'max_leaf_nodes': None, 'max_samples': None, 'min_impurity_decrease': 0.0, 'min_samples_leaf': 2, 'min_samples_split': 2, 'min_weight_fraction_leaf': 0.0, 'n_estimators': 200, 'n_jobs': None, 'oob_score': False, 'random_state': None, 'verbose': 0, 'warm_start': False}\n"
     ]
    }
   ],
   "source": [
    "model, score = datafactory.finetune(X, y, strategy='sklearn', models=models, cv=5, mtype='C')"
   ]
  },
  {
   "cell_type": "code",
   "execution_count": 13,
   "id": "36e59a0a",
   "metadata": {},
   "outputs": [
    {
     "data": {
      "text/plain": [
       "0.9711905101320953"
      ]
     },
     "execution_count": 13,
     "metadata": {},
     "output_type": "execute_result"
    }
   ],
   "source": [
    "score"
   ]
  },
  {
   "cell_type": "markdown",
   "id": "d9731807",
   "metadata": {},
   "source": [
    "Here we defined a custom search space:"
   ]
  },
  {
   "cell_type": "code",
   "execution_count": 14,
   "id": "932d113c",
   "metadata": {},
   "outputs": [],
   "source": [
    "# list with params for every model to try out (search strategy of hyperparameters should be in ['grid', 'random'])\n",
    "params = {'strategy': 'random', 'decision_tree': {\"criterion\": ['gini', 'entropy'], \"max_depth\": range(1, 50), \"min_samples_split\": range(1, 20), \"min_samples_leaf\": range(1, 5)}, 'random_forest': {'max_depth': [1, 2, 3, 5, 10, 20, 50], 'min_samples_leaf': [1, 5, 10], 'min_samples_split': [2, 5, 10], 'n_estimators': [50, 100, 200]}, 'adaboost': {'n_estimators': [50, 100, 200], 'learning_rate':[0.001,0.01,.1]}}"
   ]
  },
  {
   "cell_type": "code",
   "execution_count": 15,
   "id": "851c456c",
   "metadata": {
    "scrolled": true
   },
   "outputs": [
    {
     "name": "stderr",
     "output_type": "stream",
     "text": [
      "2021-11-22 14:23:03,896 - DataFactory - INFO - Start finetuning...\n",
      "2021-11-22 14:23:03,897 - DataFactory - INFO - Start search for best parameters of: decision_tree...\n",
      "2021-11-22 14:23:04,099 - DataFactory - INFO - ...End search\n",
      "2021-11-22 14:23:04,099 - DataFactory - INFO - Best parameters are: {'min_samples_split': 6, 'min_samples_leaf': 3, 'max_depth': 45, 'criterion': 'entropy'} with score 0.86\n",
      "2021-11-22 14:23:04,100 - DataFactory - INFO - Start search for best parameters of: random_forest...\n",
      "2021-11-22 14:23:07,561 - DataFactory - INFO - ...End search\n",
      "2021-11-22 14:23:07,561 - DataFactory - INFO - Best parameters are: {'n_estimators': 200, 'min_samples_split': 5, 'min_samples_leaf': 5, 'max_depth': 50} with score 0.97\n",
      "2021-11-22 14:23:07,562 - DataFactory - INFO - Start search for best parameters of: adaboost...\n",
      "2021-11-22 14:23:11,697 - DataFactory - INFO - ...End search\n",
      "2021-11-22 14:23:11,697 - DataFactory - INFO - Best parameters are: {'n_estimators': 200, 'learning_rate': 0.01} with score 0.80\n",
      "2021-11-22 14:23:11,698 - DataFactory - INFO - ...End finetuning\n",
      "2021-11-22 14:23:11,699 - DataFactory - INFO - Best model is: random_forest with parameters: {'bootstrap': True, 'ccp_alpha': 0.0, 'class_weight': None, 'criterion': 'gini', 'max_depth': 50, 'max_features': 'auto', 'max_leaf_nodes': None, 'max_samples': None, 'min_impurity_decrease': 0.0, 'min_samples_leaf': 5, 'min_samples_split': 5, 'min_weight_fraction_leaf': 0.0, 'n_estimators': 200, 'n_jobs': None, 'oob_score': False, 'random_state': None, 'verbose': 0, 'warm_start': False}\n"
     ]
    }
   ],
   "source": [
    "model, score = datafactory.finetune(X, y, strategy='sklearn', models=models, cv=5, mtype='C', params=params)"
   ]
  },
  {
   "cell_type": "code",
   "execution_count": 16,
   "id": "73f0b1d2",
   "metadata": {},
   "outputs": [
    {
     "data": {
      "text/plain": [
       "0.9659340954615522"
      ]
     },
     "execution_count": 16,
     "metadata": {},
     "output_type": "execute_result"
    }
   ],
   "source": [
    "score"
   ]
  },
  {
   "cell_type": "markdown",
   "id": "fef5fbef",
   "metadata": {},
   "source": [
    "### Auto-sklearn"
   ]
  },
  {
   "cell_type": "markdown",
   "id": "326ab775",
   "metadata": {},
   "source": [
    "Auto-sklearn requires a linux OS (otherwise it can be run on colab). It is an automated machine learning toolkit using sklearn models. It automatically trains different ML models with different hyperparameters. At the end it selects the best model. In the DataFactory you can use it like that:"
   ]
  },
  {
   "cell_type": "code",
   "execution_count": 10,
   "id": "2de3192f",
   "metadata": {},
   "outputs": [],
   "source": [
    "model, score = datafactory.finetune(X, y, strategy='auto_sklearn', mtype='C')"
   ]
  },
  {
   "cell_type": "code",
   "execution_count": null,
   "id": "f795c544",
   "metadata": {},
   "outputs": [],
   "source": [
    "score"
   ]
  }
 ],
 "metadata": {
  "kernelspec": {
   "display_name": "datafactory",
   "language": "python",
   "name": "datafactory"
  },
  "language_info": {
   "codemirror_mode": {
    "name": "ipython",
    "version": 3
   },
   "file_extension": ".py",
   "mimetype": "text/x-python",
   "name": "python",
   "nbconvert_exporter": "python",
   "pygments_lexer": "ipython3",
   "version": "3.8.12"
  }
 },
 "nbformat": 4,
 "nbformat_minor": 5
}
