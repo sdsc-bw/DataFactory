{
 "cells": [
  {
   "cell_type": "code",
   "execution_count": 1,
   "id": "60bde7a9",
   "metadata": {},
   "outputs": [],
   "source": [
    "# if running in colab\n",
    "import sys\n",
    "if 'google.colab' in sys.modules:\n",
    "    !git clone https://github.com/sdsc-bw/DataFactory.git # clone repository for colab\n",
    "    !ls\n",
    "    \n",
    "    !pip install cloudpickle==1.6.0\n",
    "    !pip install imgaug==0.2.6\n",
    "    !pip install scipy==1.7.3 # install scipy to use hyperopt, RESTART RUNTIME AFTER THAT\n",
    "    \n",
    "    !pip install mlflow # install mlflow to use hyperopt\n",
    "    \n",
    "    # install auto-sklearn\n",
    "    !sudo apt-get install build-essential swig\n",
    "    !curl https://raw.githubusercontent.com/automl/auto-sklearn/master/requirements.txt | xargs -n 1 -L 1 pip install\n",
    "    \n",
    "    !pip install tsai # install tsai"
   ]
  },
  {
   "cell_type": "code",
   "execution_count": 2,
   "id": "e679097c",
   "metadata": {},
   "outputs": [],
   "source": [
    "import warnings # igorne irrelevant warnings\n",
    "warnings.filterwarnings('ignore')"
   ]
  },
  {
   "cell_type": "code",
   "execution_count": 3,
   "id": "666004e6",
   "metadata": {},
   "outputs": [
    {
     "name": "stderr",
     "output_type": "stream",
     "text": [
      "2022-03-10 14:32:23,086 - init\n"
     ]
    }
   ],
   "source": [
    "if 'google.colab' in sys.modules:\n",
    "    root = 'DataFactory/'\n",
    "else:\n",
    "    root = '../'\n",
    "sys.path.append(root)\n",
    "\n",
    "from datafactory.ts.pipline.basic import run_pipline"
   ]
  },
  {
   "cell_type": "code",
   "execution_count": null,
   "id": "299331d8",
   "metadata": {},
   "outputs": [
    {
     "name": "stderr",
     "output_type": "stream",
     "text": [
      "2022-03-10 14:32:25,980 - Start to check the given dataset...\n",
      "2022-03-10 14:32:25,988 - - start to label target feature y for classification task\n",
      "2022-03-10 14:32:25,989 - + end with label encoding the target feature\n",
      "2022-03-10 14:32:25,989 - ...finish with data check\n",
      "2022-03-10 14:32:25,995 - Start to clean the given dataframe...\n",
      "2022-03-10 14:32:26,002 - ...End with Data cleaning, number of INF- and NAN-values are now: (0, 0)\n",
      "2022-03-10 14:32:26,004 - Start to transform the categorical columns...\n",
      "2022-03-10 14:32:26,006 - ...End with categorical feature transformation\n",
      "2022-03-10 14:32:26,008 - Start to detect outlier for the whole data set...\n",
      "2022-03-10 14:32:26,017 - ...End with outlier detection, \u001b[95m\u001b[1m77\u001b[0m outliers found\n"
     ]
    },
    {
     "name": "stdout",
     "output_type": "stream",
     "text": [
      "preg    0/768\n",
      "plas    0/768\n",
      "pres    0/768\n",
      "skin    0/768\n",
      "insu    0/768\n",
      "mass    0/768\n",
      "pedi    0/768\n",
      "age     0/768\n",
      "dtype: object\n",
      "Continue with the given target\n",
      "***0*** k-term features are extracted \n",
      "\n",
      "Shape of dataframe after processing is ***(768, 8)***\n",
      "##############################\n",
      "Outliear detection\n",
      "##############################\n",
      "Detect outlier with strategy: density\n",
      "\u001b[95m\u001b[1m77\u001b[0m outliers found\n",
      "Elapsed time to compute the importances: 0.009 seconds\n",
      "Dash is running on http://127.0.0.1:8050/\n",
      "\n"
     ]
    },
    {
     "name": "stderr",
     "output_type": "stream",
     "text": [
      "2022-03-10 14:32:29,368 - Dash is running on http://127.0.0.1:8050/\n",
      "\n"
     ]
    },
    {
     "name": "stdout",
     "output_type": "stream",
     "text": [
      " * Serving Flask app 'datafactory.ts.pipline.basic' (lazy loading)\n",
      " * Environment: production\n",
      "\u001b[31m   WARNING: This is a development server. Do not use it in a production deployment.\u001b[0m\n",
      "\u001b[2m   Use a production WSGI server instead.\u001b[0m\n",
      " * Debug mode: off\n"
     ]
    },
    {
     "name": "stderr",
     "output_type": "stream",
     "text": [
      "2022-03-10 14:32:29,379 -  * Running on http://127.0.0.1:8050/ (Press CTRL+C to quit)\n",
      "2022-03-10 14:32:30,917 - 127.0.0.1 - - [10/Mar/2022 14:32:30] \"GET / HTTP/1.1\" 200 -\n",
      "2022-03-10 14:32:31,061 - 127.0.0.1 - - [10/Mar/2022 14:32:31] \"GET /_dash-layout HTTP/1.1\" 200 -\n",
      "2022-03-10 14:32:31,065 - 127.0.0.1 - - [10/Mar/2022 14:32:31] \"GET /_dash-dependencies HTTP/1.1\" 200 -\n",
      "2022-03-10 14:32:31,083 - 127.0.0.1 - - [10/Mar/2022 14:32:31] \"GET /_dash-component-suites/dash/dash_table/async-highlight.js HTTP/1.1\" 200 -\n",
      "2022-03-10 14:32:31,090 - 127.0.0.1 - - [10/Mar/2022 14:32:31] \"GET /_dash-component-suites/dash/dash_table/async-table.js HTTP/1.1\" 200 -\n",
      "2022-03-10 14:32:31,092 - 127.0.0.1 - - [10/Mar/2022 14:32:31] \"GET /_dash-component-suites/dash/dcc/async-markdown.js HTTP/1.1\" 200 -\n",
      "2022-03-10 14:32:31,099 - 127.0.0.1 - - [10/Mar/2022 14:32:31] \"GET /_dash-component-suites/dash/dcc/async-graph.js HTTP/1.1\" 200 -\n",
      "2022-03-10 14:32:31,102 - 127.0.0.1 - - [10/Mar/2022 14:32:31] \"GET /_dash-component-suites/dash/dcc/async-plotlyjs.js HTTP/1.1\" 200 -\n",
      "2022-03-10 14:32:31,105 - 127.0.0.1 - - [10/Mar/2022 14:32:31] \"GET /_dash-component-suites/dash/dcc/async-dropdown.js HTTP/1.1\" 200 -\n",
      "2022-03-10 14:32:31,180 - 127.0.0.1 - - [10/Mar/2022 14:32:31] \"GET /_dash-component-suites/dash/dcc/async-highlight.js HTTP/1.1\" 200 -\n",
      "  0%|                                                                                            | 0/2 [00:00<?, ?it/s]2022-03-10 14:32:31,499 - 127.0.0.1 - - [10/Mar/2022 14:32:31] \"POST /_dash-update-component HTTP/1.1\" 200 -\n",
      "2022-03-10 14:32:31,504 - 127.0.0.1 - - [10/Mar/2022 14:32:31] \"POST /_dash-update-component HTTP/1.1\" 200 -\n",
      "2022-03-10 14:32:31,508 - 127.0.0.1 - - [10/Mar/2022 14:32:31] \"POST /_dash-update-component HTTP/1.1\" 200 -\n",
      "2022-03-10 14:32:31,568 - 127.0.0.1 - - [10/Mar/2022 14:32:31] \"POST /_dash-update-component HTTP/1.1\" 200 -\n",
      "100%|████████████████████████████████████████████████████████████████████████████████████| 2/2 [00:02<00:00,  1.03s/it]\n",
      "2022-03-10 14:32:33,320 - 127.0.0.1 - - [10/Mar/2022 14:32:33] \"POST /_dash-update-component HTTP/1.1\" 200 -\n",
      "100%|████████████████████████████████████████████████████████████████████████████████████| 1/1 [00:00<00:00, 14.32it/s]\n",
      "2022-03-10 14:32:36,042 - 127.0.0.1 - - [10/Mar/2022 14:32:36] \"POST /_dash-update-component HTTP/1.1\" 200 -\n",
      "100%|████████████████████████████████████████████████████████████████████████████████████| 2/2 [00:00<00:00, 22.28it/s]\n",
      "2022-03-10 14:32:38,132 - 127.0.0.1 - - [10/Mar/2022 14:32:38] \"POST /_dash-update-component HTTP/1.1\" 200 -\n"
     ]
    }
   ],
   "source": [
    "run_pipline('csv', '../data/dataset_37_diabetes.csv', index_col=None, target_col='class')"
   ]
  },
  {
   "cell_type": "code",
   "execution_count": null,
   "id": "00595d90",
   "metadata": {},
   "outputs": [],
   "source": []
  }
 ],
 "metadata": {
  "kernelspec": {
   "display_name": "dfgpu",
   "language": "python",
   "name": "dfgpu"
  },
  "language_info": {
   "codemirror_mode": {
    "name": "ipython",
    "version": 3
   },
   "file_extension": ".py",
   "mimetype": "text/x-python",
   "name": "python",
   "nbconvert_exporter": "python",
   "pygments_lexer": "ipython3",
   "version": "3.8.12"
  }
 },
 "nbformat": 4,
 "nbformat_minor": 5
}
