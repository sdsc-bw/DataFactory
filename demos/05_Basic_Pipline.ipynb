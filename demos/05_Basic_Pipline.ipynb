{
 "cells": [
  {
   "cell_type": "code",
   "execution_count": 1,
   "metadata": {
    "ExecuteTime": {
     "end_time": "2022-06-04T14:08:22.974745Z",
     "start_time": "2022-06-04T14:08:22.937667Z"
    }
   },
   "outputs": [],
   "source": [
    "# if running in colab\n",
    "import sys\n",
    "if 'google.colab' in sys.modules:\n",
    "    !git clone https://github.com/sdsc-bw/DataFactory.git # clone repository for colab\n",
    "    !ls\n",
    "    \n",
    "    !pip install cloudpickle==1.6.0\n",
    "    !pip install imgaug==0.2.6\n",
    "    !pip install scipy==1.7.3 # install scipy to use hyperopt, RESTART RUNTIME AFTER THAT\n",
    "    \n",
    "    !pip install mlflow # install mlflow to use hyperopt\n",
    "    \n",
    "    # install auto-sklearn\n",
    "    !sudo apt-get install build-essential swig\n",
    "    !curl https://raw.githubusercontent.com/automl/auto-sklearn/master/requirements.txt | xargs -n 1 -L 1 pip install\n",
    "    \n",
    "    !pip install tsai # install tsai"
   ]
  },
  {
   "cell_type": "code",
   "execution_count": 2,
   "metadata": {
    "ExecuteTime": {
     "end_time": "2022-06-04T14:08:22.983048Z",
     "start_time": "2022-06-04T14:08:22.977745Z"
    }
   },
   "outputs": [],
   "source": [
    "import warnings # igorne irrelevant warnings\n",
    "warnings.filterwarnings('ignore')"
   ]
  },
  {
   "cell_type": "code",
   "execution_count": 3,
   "metadata": {
    "ExecuteTime": {
     "end_time": "2022-06-04T14:08:30.047200Z",
     "start_time": "2022-06-04T14:08:22.986030Z"
    }
   },
   "outputs": [],
   "source": [
    "if 'google.colab' in sys.modules:\n",
    "    root = 'DataFactory/'\n",
    "else:\n",
    "    root = '../'\n",
    "sys.path.append(root)\n",
    "\n",
    "from datafactory.db.pipline.basic import run_pipline"
   ]
  },
  {
   "cell_type": "code",
   "execution_count": null,
   "metadata": {
    "ExecuteTime": {
     "start_time": "2022-06-04T14:08:22.942Z"
    },
    "scrolled": false
   },
   "outputs": [
    {
     "name": "stderr",
     "output_type": "stream",
     "text": [
      "2022-06-04 16:08:30,104 - Continue with the given target: class\n",
      "2022-06-04 16:08:30,106 - Start to clean the given dataframe...\n",
      "2022-06-04 16:08:30,127 - ...End with Data cleaning, number of INF- and NAN-values are now: (0, 0)\n",
      "2022-06-04 16:08:30,131 - Start to transform the categorical columns...\n",
      "2022-06-04 16:08:30,143 - ...End with categorical feature transformation\n",
      "2022-06-04 16:08:30,148 - Shape of the dataframe after processing is ***(768, 8)***\n",
      "2022-06-04 16:08:30,150 - Start to detect outlier for the whole data set...\n",
      "2022-06-04 16:08:30,195 - ...End with outlier detection, \u001b[95m\u001b[1m77\u001b[0m outliers found\n"
     ]
    },
    {
     "name": "stdout",
     "output_type": "stream",
     "text": [
      "preg    0/768\n",
      "plas    0/768\n",
      "pres    0/768\n",
      "skin    0/768\n",
      "insu    0/768\n",
      "mass    0/768\n",
      "pedi    0/768\n",
      "age     0/768\n",
      "dtype: object\n",
      "***0*** k-term features are extracted \n",
      "\n",
      "##############################\n",
      "Outliear detection\n",
      "##############################\n",
      "Detect outlier with strategy: density\n",
      "\u001b[95m\u001b[1m77\u001b[0m outliers found\n"
     ]
    },
    {
     "name": "stderr",
     "output_type": "stream",
     "text": [
      "2022-06-04 16:08:32,080 - Elapsed time to compute the importances: 0.012 seconds\n",
      "2022-06-04 16:08:32,081 - Start computing basic models...\n",
      " 67%|██████████████████████████████               | 6/9 [00:02<00:01,  1.67it/s]"
     ]
    }
   ],
   "source": [
    "run_pipline('csv', '../data/dataset_37_diabetes.csv', index_col=None, target_col='class')"
   ]
  },
  {
   "cell_type": "code",
   "execution_count": null,
   "metadata": {},
   "outputs": [],
   "source": []
  }
 ],
 "metadata": {
  "kernelspec": {
   "display_name": "dash-dev",
   "language": "python",
   "name": "dash-dev"
  },
  "language_info": {
   "codemirror_mode": {
    "name": "ipython",
    "version": 3
   },
   "file_extension": ".py",
   "mimetype": "text/x-python",
   "name": "python",
   "nbconvert_exporter": "python",
   "pygments_lexer": "ipython3",
   "version": "3.7.12"
  },
  "toc": {
   "base_numbering": 1,
   "nav_menu": {},
   "number_sections": true,
   "sideBar": true,
   "skip_h1_title": false,
   "title_cell": "Table of Contents",
   "title_sidebar": "Contents",
   "toc_cell": false,
   "toc_position": {},
   "toc_section_display": true,
   "toc_window_display": false
  }
 },
 "nbformat": 4,
 "nbformat_minor": 5
}
