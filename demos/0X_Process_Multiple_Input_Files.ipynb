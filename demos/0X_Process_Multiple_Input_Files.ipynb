{
 "cells": [
  {
   "cell_type": "markdown",
   "id": "0b7de143",
   "metadata": {},
   "source": [
    "<a href=\"https://colab.research.google.com/github/sdsc-bw/DataFactory/blob/develop/demos/04_Finetuning.ipynb\" target=\"_parent\"><img src=\"https://colab.research.google.com/assets/colab-badge.svg\" alt=\"Open In Colab\"/></a>"
   ]
  },
  {
   "cell_type": "markdown",
   "id": "b213bf38",
   "metadata": {},
   "source": [
    "# Multiple Input Files"
   ]
  },
  {
   "cell_type": "markdown",
   "id": "57397aa2",
   "metadata": {},
   "source": [
    "For the observation of a process there are often used multiple sensors. So when saving the data of the sensors, multiple files are created. However for training, all these files need to be correctly combined to one dataset. This Demo will show how to handle multiple input files."
   ]
  },
  {
   "cell_type": "markdown",
   "id": "bfaae384",
   "metadata": {},
   "source": [
    "# How To use in the Datafactory"
   ]
  },
  {
   "cell_type": "markdown",
   "id": "a8364c25",
   "metadata": {},
   "source": [
    "## Import packages"
   ]
  },
  {
   "cell_type": "code",
   "execution_count": 1,
   "id": "8205e07f",
   "metadata": {},
   "outputs": [],
   "source": [
    "# if running in colab\n",
    "import sys\n",
    "if 'google.colab' in sys.modules:\n",
    "    !git clone https://github.com/sdsc-bw/DataFactory.git # clone repository for colab\n",
    "    !ls\n",
    "    \n",
    "    !pip install cloudpickle==1.6.0\n",
    "    !pip install imgaug==0.2.6\n",
    "    !pip install scipy==1.7.3 # install scipy to use hyperopt, RESTART RUNTIME AFTER THAT\n",
    "    \n",
    "    !pip install mlflow # install mlflow to use hyperopt\n",
    "    \n",
    "    # install auto-sklearn\n",
    "    !sudo apt-get install build-essential swig\n",
    "    !curl https://raw.githubusercontent.com/automl/auto-sklearn/master/requirements.txt | xargs -n 1 -L 1 pip install\n",
    "    \n",
    "    !pip install tsai # install tsai"
   ]
  },
  {
   "cell_type": "code",
   "execution_count": 2,
   "id": "46a0a167",
   "metadata": {},
   "outputs": [],
   "source": [
    "import warnings # igorne irrelevant warnings\n",
    "warnings.filterwarnings('ignore')"
   ]
  },
  {
   "cell_type": "code",
   "execution_count": 3,
   "id": "b9289706",
   "metadata": {},
   "outputs": [
    {
     "name": "stderr",
     "output_type": "stream",
     "text": [
      "2022-03-05 12:52:53,928 - init\n"
     ]
    }
   ],
   "source": [
    "import pandas as pd # library for creating tables\n",
    "import numpy as np # library for efficient list calculations\n",
    "\n",
    "# add path to import datafactory \n",
    "import sys\n",
    "if 'google.colab' in sys.modules:\n",
    "    root = 'DataFactory/'\n",
    "else:\n",
    "    root = '../'\n",
    "sys.path.append(root)\n",
    "\n",
    "# Time series\n",
    "from datafactory.ts.preprocessing.loading import load_dataset_from_file\n",
    "from datafactory.ts.preprocessing.cleaning import combine_dataframes"
   ]
  },
  {
   "cell_type": "markdown",
   "id": "9259c4c0",
   "metadata": {},
   "source": [
    "## Load Multiple Files"
   ]
  },
  {
   "cell_type": "markdown",
   "id": "3a4d4bdc",
   "metadata": {},
   "source": [
    "First, we need to define the paths to the Sensordata."
   ]
  },
  {
   "cell_type": "code",
   "execution_count": 4,
   "id": "aa8d8c85",
   "metadata": {},
   "outputs": [],
   "source": [
    "paths = []\n",
    "for i in range(1, 4):\n",
    "    paths.append('../data/sensor_' + str(i) + '.csv')"
   ]
  },
  {
   "cell_type": "code",
   "execution_count": 5,
   "id": "3550a86b",
   "metadata": {},
   "outputs": [],
   "source": [
    "dfs = load_dataset_from_file('csv', paths, shuffle=False, index_col='date')"
   ]
  },
  {
   "cell_type": "markdown",
   "id": "732d4f39",
   "metadata": {},
   "source": []
  },
  {
   "cell_type": "code",
   "execution_count": 6,
   "id": "703e28f6",
   "metadata": {
    "scrolled": true
   },
   "outputs": [
    {
     "data": {
      "text/html": [
       "<div>\n",
       "<style scoped>\n",
       "    .dataframe tbody tr th:only-of-type {\n",
       "        vertical-align: middle;\n",
       "    }\n",
       "\n",
       "    .dataframe tbody tr th {\n",
       "        vertical-align: top;\n",
       "    }\n",
       "\n",
       "    .dataframe thead th {\n",
       "        text-align: right;\n",
       "    }\n",
       "</style>\n",
       "<table border=\"1\" class=\"dataframe\">\n",
       "  <thead>\n",
       "    <tr style=\"text-align: right;\">\n",
       "      <th></th>\n",
       "      <th>Unnamed: 0</th>\n",
       "      <th>val1</th>\n",
       "      <th>val2</th>\n",
       "      <th>val3</th>\n",
       "      <th>target</th>\n",
       "    </tr>\n",
       "    <tr>\n",
       "      <th>date</th>\n",
       "      <th></th>\n",
       "      <th></th>\n",
       "      <th></th>\n",
       "      <th></th>\n",
       "      <th></th>\n",
       "    </tr>\n",
       "  </thead>\n",
       "  <tbody>\n",
       "    <tr>\n",
       "      <th>2015-02-24 00:00:00</th>\n",
       "      <td>0</td>\n",
       "      <td>0.107112</td>\n",
       "      <td>0.148927</td>\n",
       "      <td>-0.022579</td>\n",
       "      <td>0</td>\n",
       "    </tr>\n",
       "    <tr>\n",
       "      <th>2015-02-24 00:01:00</th>\n",
       "      <td>1</td>\n",
       "      <td>-0.308293</td>\n",
       "      <td>-1.432239</td>\n",
       "      <td>-0.221532</td>\n",
       "      <td>1</td>\n",
       "    </tr>\n",
       "    <tr>\n",
       "      <th>2015-02-24 00:02:00</th>\n",
       "      <td>2</td>\n",
       "      <td>1.064629</td>\n",
       "      <td>-1.346123</td>\n",
       "      <td>0.545769</td>\n",
       "      <td>1</td>\n",
       "    </tr>\n",
       "    <tr>\n",
       "      <th>2015-02-24 00:03:00</th>\n",
       "      <td>3</td>\n",
       "      <td>-0.914620</td>\n",
       "      <td>1.503748</td>\n",
       "      <td>0.608795</td>\n",
       "      <td>0</td>\n",
       "    </tr>\n",
       "    <tr>\n",
       "      <th>2015-02-24 00:04:00</th>\n",
       "      <td>4</td>\n",
       "      <td>-1.333540</td>\n",
       "      <td>-0.392790</td>\n",
       "      <td>0.276805</td>\n",
       "      <td>1</td>\n",
       "    </tr>\n",
       "  </tbody>\n",
       "</table>\n",
       "</div>"
      ],
      "text/plain": [
       "                     Unnamed: 0      val1      val2      val3  target\n",
       "date                                                                 \n",
       "2015-02-24 00:00:00           0  0.107112  0.148927 -0.022579       0\n",
       "2015-02-24 00:01:00           1 -0.308293 -1.432239 -0.221532       1\n",
       "2015-02-24 00:02:00           2  1.064629 -1.346123  0.545769       1\n",
       "2015-02-24 00:03:00           3 -0.914620  1.503748  0.608795       0\n",
       "2015-02-24 00:04:00           4 -1.333540 -0.392790  0.276805       1"
      ]
     },
     "execution_count": 6,
     "metadata": {},
     "output_type": "execute_result"
    }
   ],
   "source": [
    "dfs[0]"
   ]
  },
  {
   "cell_type": "code",
   "execution_count": 7,
   "id": "392e1f46",
   "metadata": {},
   "outputs": [
    {
     "data": {
      "text/html": [
       "<div>\n",
       "<style scoped>\n",
       "    .dataframe tbody tr th:only-of-type {\n",
       "        vertical-align: middle;\n",
       "    }\n",
       "\n",
       "    .dataframe tbody tr th {\n",
       "        vertical-align: top;\n",
       "    }\n",
       "\n",
       "    .dataframe thead th {\n",
       "        text-align: right;\n",
       "    }\n",
       "</style>\n",
       "<table border=\"1\" class=\"dataframe\">\n",
       "  <thead>\n",
       "    <tr style=\"text-align: right;\">\n",
       "      <th></th>\n",
       "      <th>Unnamed: 0</th>\n",
       "      <th>val1</th>\n",
       "      <th>val2</th>\n",
       "      <th>val3</th>\n",
       "      <th>target</th>\n",
       "    </tr>\n",
       "    <tr>\n",
       "      <th>date</th>\n",
       "      <th></th>\n",
       "      <th></th>\n",
       "      <th></th>\n",
       "      <th></th>\n",
       "      <th></th>\n",
       "    </tr>\n",
       "  </thead>\n",
       "  <tbody>\n",
       "    <tr>\n",
       "      <th>2015-02-24 00:00:00</th>\n",
       "      <td>0</td>\n",
       "      <td>-1.553171</td>\n",
       "      <td>-1.566580</td>\n",
       "      <td>-0.505230</td>\n",
       "      <td>1</td>\n",
       "    </tr>\n",
       "    <tr>\n",
       "      <th>2015-02-24 00:02:00</th>\n",
       "      <td>1</td>\n",
       "      <td>0.151971</td>\n",
       "      <td>-1.291708</td>\n",
       "      <td>0.839898</td>\n",
       "      <td>1</td>\n",
       "    </tr>\n",
       "    <tr>\n",
       "      <th>2015-02-24 00:04:00</th>\n",
       "      <td>2</td>\n",
       "      <td>0.639565</td>\n",
       "      <td>0.691188</td>\n",
       "      <td>-1.382240</td>\n",
       "      <td>0</td>\n",
       "    </tr>\n",
       "    <tr>\n",
       "      <th>2015-02-24 00:06:00</th>\n",
       "      <td>3</td>\n",
       "      <td>0.489976</td>\n",
       "      <td>-0.534892</td>\n",
       "      <td>-0.346734</td>\n",
       "      <td>1</td>\n",
       "    </tr>\n",
       "    <tr>\n",
       "      <th>2015-02-24 00:08:00</th>\n",
       "      <td>4</td>\n",
       "      <td>-0.974679</td>\n",
       "      <td>1.231506</td>\n",
       "      <td>2.555207</td>\n",
       "      <td>0</td>\n",
       "    </tr>\n",
       "  </tbody>\n",
       "</table>\n",
       "</div>"
      ],
      "text/plain": [
       "                     Unnamed: 0      val1      val2      val3  target\n",
       "date                                                                 \n",
       "2015-02-24 00:00:00           0 -1.553171 -1.566580 -0.505230       1\n",
       "2015-02-24 00:02:00           1  0.151971 -1.291708  0.839898       1\n",
       "2015-02-24 00:04:00           2  0.639565  0.691188 -1.382240       0\n",
       "2015-02-24 00:06:00           3  0.489976 -0.534892 -0.346734       1\n",
       "2015-02-24 00:08:00           4 -0.974679  1.231506  2.555207       0"
      ]
     },
     "execution_count": 7,
     "metadata": {},
     "output_type": "execute_result"
    }
   ],
   "source": [
    "dfs[1]"
   ]
  },
  {
   "cell_type": "code",
   "execution_count": 8,
   "id": "1f7d3501",
   "metadata": {
    "scrolled": true
   },
   "outputs": [
    {
     "data": {
      "text/html": [
       "<div>\n",
       "<style scoped>\n",
       "    .dataframe tbody tr th:only-of-type {\n",
       "        vertical-align: middle;\n",
       "    }\n",
       "\n",
       "    .dataframe tbody tr th {\n",
       "        vertical-align: top;\n",
       "    }\n",
       "\n",
       "    .dataframe thead th {\n",
       "        text-align: right;\n",
       "    }\n",
       "</style>\n",
       "<table border=\"1\" class=\"dataframe\">\n",
       "  <thead>\n",
       "    <tr style=\"text-align: right;\">\n",
       "      <th></th>\n",
       "      <th>Unnamed: 0</th>\n",
       "      <th>val1</th>\n",
       "      <th>val2</th>\n",
       "      <th>val3</th>\n",
       "      <th>target</th>\n",
       "    </tr>\n",
       "    <tr>\n",
       "      <th>date</th>\n",
       "      <th></th>\n",
       "      <th></th>\n",
       "      <th></th>\n",
       "      <th></th>\n",
       "      <th></th>\n",
       "    </tr>\n",
       "  </thead>\n",
       "  <tbody>\n",
       "    <tr>\n",
       "      <th>2015-02-24 00:00:10</th>\n",
       "      <td>0</td>\n",
       "      <td>-0.484630</td>\n",
       "      <td>-0.379543</td>\n",
       "      <td>0.952757</td>\n",
       "      <td>1</td>\n",
       "    </tr>\n",
       "    <tr>\n",
       "      <th>2015-02-24 00:01:10</th>\n",
       "      <td>1</td>\n",
       "      <td>-0.857693</td>\n",
       "      <td>0.777133</td>\n",
       "      <td>1.244604</td>\n",
       "      <td>0</td>\n",
       "    </tr>\n",
       "    <tr>\n",
       "      <th>2015-02-24 00:02:10</th>\n",
       "      <td>2</td>\n",
       "      <td>-0.056405</td>\n",
       "      <td>0.457560</td>\n",
       "      <td>-1.921964</td>\n",
       "      <td>0</td>\n",
       "    </tr>\n",
       "    <tr>\n",
       "      <th>2015-02-24 00:03:10</th>\n",
       "      <td>3</td>\n",
       "      <td>1.057107</td>\n",
       "      <td>1.475887</td>\n",
       "      <td>1.016144</td>\n",
       "      <td>1</td>\n",
       "    </tr>\n",
       "    <tr>\n",
       "      <th>2015-02-24 00:04:10</th>\n",
       "      <td>4</td>\n",
       "      <td>-0.820045</td>\n",
       "      <td>0.827722</td>\n",
       "      <td>-1.172019</td>\n",
       "      <td>0</td>\n",
       "    </tr>\n",
       "  </tbody>\n",
       "</table>\n",
       "</div>"
      ],
      "text/plain": [
       "                     Unnamed: 0      val1      val2      val3  target\n",
       "date                                                                 \n",
       "2015-02-24 00:00:10           0 -0.484630 -0.379543  0.952757       1\n",
       "2015-02-24 00:01:10           1 -0.857693  0.777133  1.244604       0\n",
       "2015-02-24 00:02:10           2 -0.056405  0.457560 -1.921964       0\n",
       "2015-02-24 00:03:10           3  1.057107  1.475887  1.016144       1\n",
       "2015-02-24 00:04:10           4 -0.820045  0.827722 -1.172019       0"
      ]
     },
     "execution_count": 8,
     "metadata": {},
     "output_type": "execute_result"
    }
   ],
   "source": [
    "dfs[2]"
   ]
  },
  {
   "cell_type": "code",
   "execution_count": 11,
   "id": "0eb03aee",
   "metadata": {
    "scrolled": true
   },
   "outputs": [],
   "source": [
    "l = [dfs[0].index.to_series().diff().median(), dfs[1].index.to_series().diff().median(), dfs[2].index.to_series().diff().median()]"
   ]
  },
  {
   "cell_type": "code",
   "execution_count": 12,
   "id": "6a8c3106",
   "metadata": {},
   "outputs": [
    {
     "data": {
      "text/plain": [
       "[Timedelta('0 days 00:01:00'),\n",
       " Timedelta('0 days 00:02:00'),\n",
       " Timedelta('0 days 00:01:00')]"
      ]
     },
     "execution_count": 12,
     "metadata": {},
     "output_type": "execute_result"
    }
   ],
   "source": [
    "l"
   ]
  },
  {
   "cell_type": "code",
   "execution_count": 13,
   "id": "22785459",
   "metadata": {
    "scrolled": true
   },
   "outputs": [
    {
     "data": {
      "text/plain": [
       "[Timedelta('0 days 00:01:00'),\n",
       " Timedelta('0 days 00:01:00'),\n",
       " Timedelta('0 days 00:02:00')]"
      ]
     },
     "execution_count": 13,
     "metadata": {},
     "output_type": "execute_result"
    }
   ],
   "source": [
    "sorted(l)"
   ]
  },
  {
   "cell_type": "markdown",
   "id": "7bedd5f5",
   "metadata": {},
   "source": [
    "## Combine Files"
   ]
  },
  {
   "cell_type": "code",
   "execution_count": null,
   "id": "ea03f521",
   "metadata": {},
   "outputs": [],
   "source": []
  }
 ],
 "metadata": {
  "kernelspec": {
   "display_name": "dfgpu",
   "language": "python",
   "name": "dfgpu"
  },
  "language_info": {
   "codemirror_mode": {
    "name": "ipython",
    "version": 3
   },
   "file_extension": ".py",
   "mimetype": "text/x-python",
   "name": "python",
   "nbconvert_exporter": "python",
   "pygments_lexer": "ipython3",
   "version": "3.8.12"
  }
 },
 "nbformat": 4,
 "nbformat_minor": 5
}
