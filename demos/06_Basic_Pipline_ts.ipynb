{
 "cells": [
  {
   "cell_type": "markdown",
   "id": "7f6e90f4",
   "metadata": {},
   "source": [
    "<a href=\"https://colab.research.google.com/github/sdsc-bw/DataFactory/blob/develop/demos/06_Basic_Pipline.ipynb\" target=\"_parent\"><img src=\"https://colab.research.google.com/assets/colab-badge.svg\" alt=\"Open In Colab\"/></a>"
   ]
  },
  {
   "cell_type": "markdown",
   "id": "f7170644",
   "metadata": {},
   "source": [
    "# How to run the basic Pipline"
   ]
  },
  {
   "cell_type": "code",
   "execution_count": 1,
   "id": "60bde7a9",
   "metadata": {},
   "outputs": [],
   "source": [
    "# if running in colab\n",
    "import sys\n",
    "if 'google.colab' in sys.modules:\n",
    "    !git clone https://github.com/sdsc-bw/DataFactory.git # clone repository for colab\n",
    "    !ls\n",
    "    \n",
    "    !pip install cloudpickle==1.6.0\n",
    "    !pip install imgaug==0.2.6\n",
    "    !pip install scipy==1.7.3 # install scipy to use hyperopt, RESTART RUNTIME AFTER THAT\n",
    "    \n",
    "    !pip install mlflow # install mlflow to use hyperopt\n",
    "    !pip install dtreeviz \n",
    "    !pip install dash \n",
    "    !pip install dash-interactive-graphviz \n",
    "    !pip install -U kaleido \n",
    "    !pip install pytorchcv \n",
    "    \n",
    "    # install auto-sklearn\n",
    "    !sudo apt-get install build-essential swig\n",
    "    !curl https://raw.githubusercontent.com/automl/auto-sklearn/master/requirements.txt | xargs -n 1 -L 1 pip install\n",
    "    \n",
    "    !pip install tsai # install tsai"
   ]
  },
  {
   "cell_type": "code",
   "execution_count": 2,
   "id": "e679097c",
   "metadata": {},
   "outputs": [],
   "source": [
    "import warnings # igorne irrelevant warnings\n",
    "warnings.filterwarnings('ignore')"
   ]
  },
  {
   "cell_type": "code",
   "execution_count": 3,
   "id": "666004e6",
   "metadata": {},
   "outputs": [],
   "source": [
    "if 'google.colab' in sys.modules:\n",
    "    root = 'DataFactory/'\n",
    "else:\n",
    "    root = '../'\n",
    "sys.path.append(root)\n",
    "\n",
    "from datafactory.ts.pipline.basic import run_pipline"
   ]
  },
  {
   "cell_type": "code",
   "execution_count": null,
   "id": "00595d90",
   "metadata": {},
   "outputs": [
    {
     "name": "stderr",
     "output_type": "stream",
     "text": [
      "100%|████████████████████████████████████████████████████████████████████████████████████| 1/1 [00:00<00:00, 11.52it/s]\n",
      "2022-10-10 13:51:24,412 - Start to transform the categorical columns...\n"
     ]
    },
    {
     "name": "stdout",
     "output_type": "stream",
     "text": [
      "#### Encoding and categorical features extraction \n",
      "\n",
      "K-term function is activated, try to extract the k-term for each object feature \n",
      "\n",
      "***5*** k-term features are extracted \n",
      "\n"
     ]
    },
    {
     "name": "stderr",
     "output_type": "stream",
     "text": [
      "2022-10-10 13:51:24,658 - ...End with categorical feature transformation\n"
     ]
    },
    {
     "name": "stdout",
     "output_type": "stream",
     "text": [
      "Start to do the label encoding for the following categoric features: ['CO(GT)', 'C6H6(GT)', 'T', 'RH', 'AH'] \n",
      "\n",
      "Shape of the given dataframe after encoding is: ***(9357, 18)*** \n",
      "\n",
      "Dash is running on http://127.0.0.1:8050/\n",
      "\n"
     ]
    },
    {
     "name": "stderr",
     "output_type": "stream",
     "text": [
      "2022-10-10 13:51:26,149 - Dash is running on http://127.0.0.1:8050/\n",
      "\n"
     ]
    },
    {
     "name": "stdout",
     "output_type": "stream",
     "text": [
      " * Serving Flask app 'datafactory.ts.pipline.basic' (lazy loading)\n",
      " * Environment: production\n",
      "\u001b[31m   WARNING: This is a development server. Do not use it in a production deployment.\u001b[0m\n",
      "\u001b[2m   Use a production WSGI server instead.\u001b[0m\n",
      " * Debug mode: off\n"
     ]
    },
    {
     "name": "stderr",
     "output_type": "stream",
     "text": [
      "2022-10-10 13:51:26,159 - \u001b[31m\u001b[1mWARNING: This is a development server. Do not use it in a production deployment. Use a production WSGI server instead.\u001b[0m\n",
      " * Running on http://127.0.0.1:8050\n",
      "2022-10-10 13:51:26,160 - \u001b[33mPress CTRL+C to quit\u001b[0m\n",
      "2022-10-10 13:51:30,334 - 127.0.0.1 - - [10/Oct/2022 13:51:30] \"GET / HTTP/1.1\" 200 -\n",
      "2022-10-10 13:51:30,357 - 127.0.0.1 - - [10/Oct/2022 13:51:30] \"GET /assets/style.css?m=1663062892.8609295 HTTP/1.1\" 200 -\n",
      "2022-10-10 13:51:30,365 - 127.0.0.1 - - [10/Oct/2022 13:51:30] \"GET /assets/style_custom.css?m=1661511351.7908404 HTTP/1.1\" 200 -\n",
      "2022-10-10 13:51:30,379 - 127.0.0.1 - - [10/Oct/2022 13:51:30] \"GET /_dash-component-suites/dash/deps/react@16.v2_6_2m1665069340.14.0.min.js HTTP/1.1\" 200 -\n",
      "2022-10-10 13:51:30,386 - 127.0.0.1 - - [10/Oct/2022 13:51:30] \"GET /_dash-component-suites/dash/deps/polyfill@7.v2_6_2m1665069340.12.1.min.js HTTP/1.1\" 200 -\n",
      "2022-10-10 13:51:30,391 - 127.0.0.1 - - [10/Oct/2022 13:51:30] \"GET /_dash-component-suites/dash/deps/prop-types@15.v2_6_2m1665069340.8.1.min.js HTTP/1.1\" 200 -\n",
      "2022-10-10 13:51:30,393 - 127.0.0.1 - - [10/Oct/2022 13:51:30] \"GET /_dash-component-suites/dash/deps/react-dom@16.v2_6_2m1665069340.14.0.min.js HTTP/1.1\" 200 -\n",
      "2022-10-10 13:51:30,403 - 127.0.0.1 - - [10/Oct/2022 13:51:30] \"GET /_dash-component-suites/dash_extensions/dash_extensions.v0_1_6m1665069360.min.js HTTP/1.1\" 200 -\n",
      "2022-10-10 13:51:30,412 - 127.0.0.1 - - [10/Oct/2022 13:51:30] \"GET /_dash-component-suites/dash/dcc/dash_core_components-shared.v2_6_2m1665069340.js HTTP/1.1\" 200 -\n",
      "2022-10-10 13:51:30,421 - 127.0.0.1 - - [10/Oct/2022 13:51:30] \"GET /_dash-component-suites/dash/dash-renderer/build/dash_renderer.v2_6_2m1665069340.min.js HTTP/1.1\" 200 -\n",
      "2022-10-10 13:51:30,426 - 127.0.0.1 - - [10/Oct/2022 13:51:30] \"GET /_dash-component-suites/dash/html/dash_html_components.v2_0_5m1665069340.min.js HTTP/1.1\" 200 -\n",
      "2022-10-10 13:51:30,444 - 127.0.0.1 - - [10/Oct/2022 13:51:30] \"GET /_dash-component-suites/dash/dash_table/bundle.v5_1_6m1665069340.js HTTP/1.1\" 200 -\n",
      "2022-10-10 13:51:30,457 - 127.0.0.1 - - [10/Oct/2022 13:51:30] \"GET /_dash-component-suites/dash/dcc/dash_core_components.v2_6_2m1665069340.js HTTP/1.1\" 200 -\n",
      "2022-10-10 13:51:31,360 - 127.0.0.1 - - [10/Oct/2022 13:51:31] \"GET /_dash-dependencies HTTP/1.1\" 200 -\n",
      "2022-10-10 13:51:31,373 - 127.0.0.1 - - [10/Oct/2022 13:51:31] \"GET /_dash-layout HTTP/1.1\" 200 -\n",
      "2022-10-10 13:51:31,407 - 127.0.0.1 - - [10/Oct/2022 13:51:31] \"GET /_dash-component-suites/dash/dash_table/async-highlight.js HTTP/1.1\" 200 -\n",
      "2022-10-10 13:51:31,412 - 127.0.0.1 - - [10/Oct/2022 13:51:31] \"GET /_dash-component-suites/dash/dash_table/async-table.js HTTP/1.1\" 200 -\n",
      "2022-10-10 13:51:32,205 - 127.0.0.1 - - [10/Oct/2022 13:51:32] \"GET /_dash-component-suites/dash/dcc/async-dropdown.js HTTP/1.1\" 200 -\n",
      "2022-10-10 13:51:39,724 - 127.0.0.1 - - [10/Oct/2022 13:51:39] \"POST /_dash-update-component HTTP/1.1\" 200 -\n",
      "2022-10-10 13:51:39,731 - 127.0.0.1 - - [10/Oct/2022 13:51:39] \"POST /_dash-update-component HTTP/1.1\" 200 -\n",
      "2022-10-10 13:51:39,741 - Start calculation of feature importance...\n",
      "  0%|                                                                                            | 0/4 [00:00<?, ?it/s]2022-10-10 13:51:39,746 - Running cross validation for: Baseline...\n",
      "2022-10-10 13:51:39,784 - 127.0.0.1 - - [10/Oct/2022 13:51:39] \"POST /_dash-update-component HTTP/1.1\" 200 -\n",
      "2022-10-10 13:51:39,795 - 127.0.0.1 - - [10/Oct/2022 13:51:39] \"POST /_dash-update-component HTTP/1.1\" 200 -\n",
      "\n",
      "  0%|                                                                                            | 0/3 [00:00<?, ?it/s]\u001b[A2022-10-10 13:51:39,835 - Running cross validation for: Decision Tree...\n",
      "2022-10-10 13:51:39,927 - 127.0.0.1 - - [10/Oct/2022 13:51:39] \"POST /_dash-update-component HTTP/1.1\" 200 -\n",
      " 50%|██████████████████████████████████████████                                          | 2/4 [00:02<00:02,  1.10s/it]2022-10-10 13:51:41,950 - Running cross validation for: Random Forest...\n",
      "\n",
      " 33%|████████████████████████████                                                        | 1/3 [00:14<00:28, 14.31s/it]\u001b[A\n",
      " 67%|████████████████████████████████████████████████████████                            | 2/3 [00:42<00:22, 22.22s/it]\u001b[A\n",
      "100%|████████████████████████████████████████████████████████████████████████████████████| 3/3 [00:56<00:00, 18.89s/it]\u001b[A\n",
      "2022-10-10 13:52:36,901 - 127.0.0.1 - - [10/Oct/2022 13:52:36] \"POST /_dash-update-component HTTP/1.1\" 200 -\n",
      "2022-10-10 13:52:37,069 - 127.0.0.1 - - [10/Oct/2022 13:52:37] \"POST /_dash-update-component HTTP/1.1\" 200 -\n",
      "2022-10-10 13:52:37,295 - 127.0.0.1 - - [10/Oct/2022 13:52:37] \"POST /_dash-update-component HTTP/1.1\" 200 -\n",
      " 75%|███████████████████████████████████████████████████████████████                     | 3/4 [01:16<00:31, 31.58s/it]2022-10-10 13:52:56,188 - Running cross validation for: AdaBoost...\n",
      "100%|████████████████████████████████████████████████████████████████████████████████████| 4/4 [01:21<00:00, 20.43s/it]\n",
      "2022-10-10 13:53:01,488 - 127.0.0.1 - - [10/Oct/2022 13:53:01] \"POST /_dash-update-component HTTP/1.1\" 200 -\n",
      "2022-10-10 13:53:01,508 - 127.0.0.1 - - [10/Oct/2022 13:53:01] \"POST /_dash-update-component HTTP/1.1\" 200 -\n",
      "2022-10-10 13:53:20,220 - 127.0.0.1 - - [10/Oct/2022 13:53:20] \"GET /_dash-component-suites/dash/dcc/async-graph.js HTTP/1.1\" 200 -\n",
      "2022-10-10 13:53:20,240 - 127.0.0.1 - - [10/Oct/2022 13:53:20] \"GET /_dash-component-suites/dash/dcc/async-plotlyjs.js HTTP/1.1\" 200 -\n",
      "2022-10-10 13:53:22,493 - 127.0.0.1 - - [10/Oct/2022 13:53:22] \"POST /_dash-update-component HTTP/1.1\" 200 -\n",
      "2022-10-10 13:53:26,475 - 127.0.0.1 - - [10/Oct/2022 13:53:26] \"POST /_dash-update-component HTTP/1.1\" 200 -\n",
      "2022-10-10 13:53:28,717 - 127.0.0.1 - - [10/Oct/2022 13:53:28] \"POST /_dash-update-component HTTP/1.1\" 200 -\n",
      "2022-10-10 13:53:35,023 - 127.0.0.1 - - [10/Oct/2022 13:53:35] \"POST /_dash-update-component HTTP/1.1\" 200 -\n",
      "2022-10-10 13:53:36,852 - 127.0.0.1 - - [10/Oct/2022 13:53:36] \"POST /_dash-update-component HTTP/1.1\" 200 -\n",
      "2022-10-10 13:53:45,638 - 127.0.0.1 - - [10/Oct/2022 13:53:45] \"POST /_dash-update-component HTTP/1.1\" 200 -\n",
      "2022-10-10 13:53:45,849 - 127.0.0.1 - - [10/Oct/2022 13:53:45] \"POST /_dash-update-component HTTP/1.1\" 200 -\n",
      "2022-10-10 13:53:48,209 - 127.0.0.1 - - [10/Oct/2022 13:53:48] \"POST /_dash-update-component HTTP/1.1\" 200 -\n",
      "2022-10-10 13:53:48,423 - 127.0.0.1 - - [10/Oct/2022 13:53:48] \"POST /_dash-update-component HTTP/1.1\" 200 -\n"
     ]
    }
   ],
   "source": [
    "run_pipline('csv', 'R', '../data/AirQualityUCI/', is_file=False, time_col={'date': 'Date', 'time': 'Time'}, time_format='%d.%m.%Y %H.%M.%S',index_col=None, sep=';')"
   ]
  },
  {
   "cell_type": "code",
   "execution_count": null,
   "id": "11c883ee",
   "metadata": {},
   "outputs": [],
   "source": []
  }
 ],
 "metadata": {
  "kernelspec": {
   "display_name": "dfenv",
   "language": "python",
   "name": "dfenv"
  },
  "language_info": {
   "codemirror_mode": {
    "name": "ipython",
    "version": 3
   },
   "file_extension": ".py",
   "mimetype": "text/x-python",
   "name": "python",
   "nbconvert_exporter": "python",
   "pygments_lexer": "ipython3",
   "version": "3.8.13"
  }
 },
 "nbformat": 4,
 "nbformat_minor": 5
}
