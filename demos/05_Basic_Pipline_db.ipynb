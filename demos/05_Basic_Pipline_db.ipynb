{
 "cells": [
  {
   "cell_type": "code",
   "execution_count": 1,
   "metadata": {
    "ExecuteTime": {
     "end_time": "2022-06-04T14:08:22.974745Z",
     "start_time": "2022-06-04T14:08:22.937667Z"
    }
   },
   "outputs": [],
   "source": [
    "# if running in colab\n",
    "import sys\n",
    "if 'google.colab' in sys.modules:\n",
    "    !git clone https://github.com/sdsc-bw/DataFactory.git # clone repository for colab\n",
    "    !ls\n",
    "    \n",
    "    !pip install cloudpickle==1.6.0\n",
    "    !pip install imgaug==0.2.6\n",
    "    !pip install scipy==1.7.3 # install scipy to use hyperopt, RESTART RUNTIME AFTER THAT\n",
    "    \n",
    "    !pip install mlflow # install mlflow to use hyperopt\n",
    "    \n",
    "    # install auto-sklearn\n",
    "    !sudo apt-get install build-essential swig\n",
    "    !curl https://raw.githubusercontent.com/automl/auto-sklearn/master/requirements.txt | xargs -n 1 -L 1 pip install\n",
    "    \n",
    "    !pip install tsai # install tsai"
   ]
  },
  {
   "cell_type": "code",
   "execution_count": 2,
   "metadata": {
    "ExecuteTime": {
     "end_time": "2022-06-04T14:08:22.983048Z",
     "start_time": "2022-06-04T14:08:22.977745Z"
    }
   },
   "outputs": [],
   "source": [
    "import warnings # igorne irrelevant warnings\n",
    "warnings.filterwarnings('ignore')"
   ]
  },
  {
   "cell_type": "code",
   "execution_count": 3,
   "metadata": {
    "ExecuteTime": {
     "end_time": "2022-06-04T14:08:30.047200Z",
     "start_time": "2022-06-04T14:08:22.986030Z"
    }
   },
   "outputs": [],
   "source": [
    "if 'google.colab' in sys.modules:\n",
    "    root = 'DataFactory/'\n",
    "else:\n",
    "    root = '../'\n",
    "sys.path.append(root)\n",
    "\n",
    "from datafactory.db.pipline.basic import run_pipline"
   ]
  },
  {
   "cell_type": "code",
   "execution_count": null,
   "metadata": {
    "ExecuteTime": {
     "start_time": "2022-06-04T14:08:22.942Z"
    },
    "scrolled": false
   },
   "outputs": [
    {
     "name": "stderr",
     "output_type": "stream",
     "text": [
      "2022-06-04 16:08:30,104 - Continue with the given target: class\n",
      "2022-06-04 16:08:30,106 - Start to clean the given dataframe...\n",
      "2022-06-04 16:08:30,127 - ...End with Data cleaning, number of INF- and NAN-values are now: (0, 0)\n",
      "2022-06-04 16:08:30,131 - Start to transform the categorical columns...\n",
      "2022-06-04 16:08:30,143 - ...End with categorical feature transformation\n",
      "2022-06-04 16:08:30,148 - Shape of the dataframe after processing is ***(768, 8)***\n",
      "2022-06-04 16:08:30,150 - Start to detect outlier for the whole data set...\n",
      "2022-06-04 16:08:30,195 - ...End with outlier detection, \u001b[95m\u001b[1m77\u001b[0m outliers found\n"
     ]
    },
    {
     "name": "stdout",
     "output_type": "stream",
     "text": [
      "preg    0/768\n",
      "plas    0/768\n",
      "pres    0/768\n",
      "skin    0/768\n",
      "insu    0/768\n",
      "mass    0/768\n",
      "pedi    0/768\n",
      "age     0/768\n",
      "dtype: object\n",
      "***0*** k-term features are extracted \n",
      "\n",
      "##############################\n",
      "Outliear detection\n",
      "##############################\n",
      "Detect outlier with strategy: density\n",
      "\u001b[95m\u001b[1m77\u001b[0m outliers found\n"
     ]
    },
    {
     "name": "stderr",
     "output_type": "stream",
     "text": [
      "2022-06-04 16:08:32,080 - Elapsed time to compute the importances: 0.012 seconds\n",
      "2022-06-04 16:08:32,081 - Start computing basic models...\n",
      "100%|█████████████████████████████████████████████| 9/9 [00:03<00:00,  2.73it/s]\n"
     ]
    },
    {
     "name": "stdout",
     "output_type": "stream",
     "text": [
      "Dash is running on http://127.0.0.1:8050/\n",
      "\n"
     ]
    },
    {
     "name": "stderr",
     "output_type": "stream",
     "text": [
      "2022-06-04 16:08:41,108 - Dash is running on http://127.0.0.1:8050/\n",
      "\n"
     ]
    },
    {
     "name": "stdout",
     "output_type": "stream",
     "text": [
      " * Serving Flask app 'datafactory.db.pipline.basic' (lazy loading)\n",
      " * Environment: production\n",
      "\u001b[31m   WARNING: This is a development server. Do not use it in a production deployment.\u001b[0m\n",
      "\u001b[2m   Use a production WSGI server instead.\u001b[0m\n",
      " * Debug mode: off\n"
     ]
    },
    {
     "name": "stderr",
     "output_type": "stream",
     "text": [
      "2022-06-04 16:08:41,132 -  * Running on http://127.0.0.1:8050/ (Press CTRL+C to quit)\n",
      "2022-06-04 16:08:48,114 - 127.0.0.1 - - [04/Jun/2022 16:08:48] \"GET / HTTP/1.1\" 200 -\n",
      "2022-06-04 16:08:48,236 - 127.0.0.1 - - [04/Jun/2022 16:08:48] \"GET /assets/style.css?m=1654349378.6454282 HTTP/1.1\" 200 -\n",
      "2022-06-04 16:08:48,255 - 127.0.0.1 - - [04/Jun/2022 16:08:48] \"GET /_dash-component-suites/dash_interactive_graphviz/dash_interactive_graphviz.v0_3_0m1649144160.min.js HTTP/1.1\" 200 -\n",
      "2022-06-04 16:08:49,527 - 127.0.0.1 - - [04/Jun/2022 16:08:49] \"GET /_dash-layout HTTP/1.1\" 200 -\n",
      "2022-06-04 16:08:49,529 - 127.0.0.1 - - [04/Jun/2022 16:08:49] \"GET /_dash-dependencies HTTP/1.1\" 200 -\n",
      "2022-06-04 16:08:49,779 - 127.0.0.1 - - [04/Jun/2022 16:08:49] \"POST /_dash-update-component HTTP/1.1\" 200 -\n",
      "2022-06-04 16:08:49,839 - 127.0.0.1 - - [04/Jun/2022 16:08:49] \"POST /_dash-update-component HTTP/1.1\" 200 -\n",
      "2022-06-04 16:08:49,933 - 127.0.0.1 - - [04/Jun/2022 16:08:49] \"POST /_dash-update-component HTTP/1.1\" 200 -\n",
      "2022-06-04 16:08:50,079 - 127.0.0.1 - - [04/Jun/2022 16:08:50] \"POST /_dash-update-component HTTP/1.1\" 200 -\n",
      "2022-06-04 16:08:50,381 - 127.0.0.1 - - [04/Jun/2022 16:08:50] \"POST /_dash-update-component HTTP/1.1\" 200 -\n",
      "2022-06-04 16:08:50,529 - 127.0.0.1 - - [04/Jun/2022 16:08:50] \"POST /_dash-update-component HTTP/1.1\" 200 -\n",
      "2022-06-04 16:08:50,534 - 127.0.0.1 - - [04/Jun/2022 16:08:50] \"POST /_dash-update-component HTTP/1.1\" 200 -\n",
      "2022-06-04 16:08:55,447 - 127.0.0.1 - - [04/Jun/2022 16:08:55] \"\u001b[36mGET /_dash-component-suites/dash/dcc/async-dropdown.js HTTP/1.1\u001b[0m\" 304 -\n",
      "2022-06-04 16:08:55,462 - 127.0.0.1 - - [04/Jun/2022 16:08:55] \"\u001b[36mGET /_dash-component-suites/dash/dcc/async-plotlyjs.js HTTP/1.1\u001b[0m\" 304 -\n",
      "2022-06-04 16:08:55,472 - 127.0.0.1 - - [04/Jun/2022 16:08:55] \"\u001b[36mGET /_dash-component-suites/dash/dcc/async-graph.js HTTP/1.1\u001b[0m\" 304 -\n",
      "2022-06-04 16:09:02,839 - 127.0.0.1 - - [04/Jun/2022 16:09:02] \"GET /_dash-component-suites/dash/dash_table/async-highlight.js HTTP/1.1\" 200 -\n",
      "2022-06-04 16:09:02,840 - 127.0.0.1 - - [04/Jun/2022 16:09:02] \"GET /_dash-component-suites/dash/dash_table/async-table.js HTTP/1.1\" 200 -\n"
     ]
    }
   ],
   "source": [
    "run_pipline('csv', '../data/dataset_37_diabetes.csv', index_col=None, target_col='class')"
   ]
  },
  {
   "cell_type": "code",
   "execution_count": null,
   "metadata": {},
   "outputs": [],
   "source": []
  }
 ],
 "metadata": {
  "kernelspec": {
   "display_name": "dash-dev",
   "language": "python",
   "name": "dash-dev"
  },
  "language_info": {
   "codemirror_mode": {
    "name": "ipython",
    "version": 3
   },
   "file_extension": ".py",
   "mimetype": "text/x-python",
   "name": "python",
   "nbconvert_exporter": "python",
   "pygments_lexer": "ipython3",
   "version": "3.7.12"
  },
  "toc": {
   "base_numbering": 1,
   "nav_menu": {},
   "number_sections": true,
   "sideBar": true,
   "skip_h1_title": false,
   "title_cell": "Table of Contents",
   "title_sidebar": "Contents",
   "toc_cell": false,
   "toc_position": {},
   "toc_section_display": true,
   "toc_window_display": false
  }
 },
 "nbformat": 4,
 "nbformat_minor": 5
}
