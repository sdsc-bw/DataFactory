{
 "cells": [
  {
   "cell_type": "code",
   "execution_count": 1,
   "metadata": {},
   "outputs": [],
   "source": [
    "# if running in colab\n",
    "import sys\n",
    "if 'google.colab' in sys.modules:\n",
    "    !git clone https://github.com/sdsc-bw/DataFactory.git # clone repository for colab\n",
    "    !ls\n",
    "    \n",
    "    !pip install cloudpickle==1.6.0\n",
    "    !pip install imgaug==0.2.6\n",
    "    !pip install scipy==1.7.3 # install scipy to use hyperopt, RESTART RUNTIME AFTER THAT\n",
    "    \n",
    "    !pip install mlflow # install mlflow to use hyperopt\n",
    "    \n",
    "    # install auto-sklearn\n",
    "    !sudo apt-get install build-essential swig\n",
    "    !curl https://raw.githubusercontent.com/automl/auto-sklearn/master/requirements.txt | xargs -n 1 -L 1 pip install\n",
    "    \n",
    "    !pip install tsai # install tsai"
   ]
  },
  {
   "cell_type": "code",
   "execution_count": 2,
   "metadata": {},
   "outputs": [],
   "source": [
    "import warnings # igorne irrelevant warnings\n",
    "warnings.filterwarnings('ignore')"
   ]
  },
  {
   "cell_type": "code",
   "execution_count": 3,
   "metadata": {},
   "outputs": [
    {
     "name": "stderr",
     "output_type": "stream",
     "text": [
      "2022-03-12 15:58:46,056 - init\n"
     ]
    }
   ],
   "source": [
    "if 'google.colab' in sys.modules:\n",
    "    root = 'DataFactory/'\n",
    "else:\n",
    "    root = '../'\n",
    "sys.path.append(root)\n",
    "\n",
    "from datafactory.db.pipline.basic import run_pipline"
   ]
  },
  {
   "cell_type": "code",
   "execution_count": null,
   "metadata": {
    "scrolled": false
   },
   "outputs": [
    {
     "name": "stderr",
     "output_type": "stream",
     "text": [
      "2022-03-12 15:58:49,126 - Start to check the given dataset...\n",
      "2022-03-12 15:58:49,134 - - start to label target feature y for classification task\n",
      "2022-03-12 15:58:49,135 - + end with label encoding the target feature\n",
      "2022-03-12 15:58:49,136 - ...finish with data check\n",
      "2022-03-12 15:58:49,141 - Start to clean the given dataframe...\n",
      "2022-03-12 15:58:49,148 - ...End with Data cleaning, number of INF- and NAN-values are now: (0, 0)\n",
      "2022-03-12 15:58:49,150 - Start to transform the categorical columns...\n",
      "2022-03-12 15:58:49,153 - ...End with categorical feature transformation\n",
      "2022-03-12 15:58:49,154 - Start to detect outlier for the whole data set...\n",
      "2022-03-12 15:58:49,163 - ...End with outlier detection, \u001b[95m\u001b[1m77\u001b[0m outliers found\n"
     ]
    },
    {
     "name": "stdout",
     "output_type": "stream",
     "text": [
      "preg    0/768\n",
      "plas    0/768\n",
      "pres    0/768\n",
      "skin    0/768\n",
      "insu    0/768\n",
      "mass    0/768\n",
      "pedi    0/768\n",
      "age     0/768\n",
      "dtype: object\n",
      "Continue with the given target\n",
      "***0*** k-term features are extracted \n",
      "\n",
      "Shape of dataframe after processing is ***(768, 8)***\n",
      "##############################\n",
      "Outliear detection\n",
      "##############################\n",
      "Detect outlier with strategy: density\n",
      "\u001b[95m\u001b[1m77\u001b[0m outliers found\n",
      "Elapsed time to compute the importances: 0.009 seconds\n"
     ]
    },
    {
     "name": "stderr",
     "output_type": "stream",
     "text": [
      "2022-03-12 15:58:52,336 - Start computing basic models...\n",
      "100%|██████████████████████████████████████████████████████████████████████████████████| 10/10 [00:36<00:00,  3.68s/it]\n"
     ]
    },
    {
     "name": "stdout",
     "output_type": "stream",
     "text": [
      "Dash is running on http://127.0.0.1:8050/\n",
      "\n"
     ]
    },
    {
     "name": "stderr",
     "output_type": "stream",
     "text": [
      "2022-03-12 15:59:33,986 - Dash is running on http://127.0.0.1:8050/\n",
      "\n"
     ]
    },
    {
     "name": "stdout",
     "output_type": "stream",
     "text": [
      " * Serving Flask app 'datafactory.ts.pipline.basic' (lazy loading)\n",
      " * Environment: production\n",
      "\u001b[31m   WARNING: This is a development server. Do not use it in a production deployment.\u001b[0m\n",
      "\u001b[2m   Use a production WSGI server instead.\u001b[0m\n",
      " * Debug mode: off\n"
     ]
    },
    {
     "name": "stderr",
     "output_type": "stream",
     "text": [
      "2022-03-12 15:59:33,997 -  * Running on http://127.0.0.1:8050/ (Press CTRL+C to quit)\n",
      "2022-03-12 15:59:35,337 - 127.0.0.1 - - [12/Mar/2022 15:59:35] \"GET / HTTP/1.1\" 200 -\n",
      "2022-03-12 15:59:35,510 - 127.0.0.1 - - [12/Mar/2022 15:59:35] \"GET /_dash-layout HTTP/1.1\" 200 -\n",
      "2022-03-12 15:59:35,516 - 127.0.0.1 - - [12/Mar/2022 15:59:35] \"GET /_dash-dependencies HTTP/1.1\" 200 -\n",
      "2022-03-12 15:59:35,533 - 127.0.0.1 - - [12/Mar/2022 15:59:35] \"GET /_dash-component-suites/dash/dash_table/async-highlight.js HTTP/1.1\" 200 -\n",
      "2022-03-12 15:59:35,538 - 127.0.0.1 - - [12/Mar/2022 15:59:35] \"GET /_dash-component-suites/dash/dash_table/async-table.js HTTP/1.1\" 200 -\n",
      "2022-03-12 15:59:35,541 - 127.0.0.1 - - [12/Mar/2022 15:59:35] \"GET /_dash-component-suites/dash/dcc/async-markdown.js HTTP/1.1\" 200 -\n",
      "2022-03-12 15:59:35,547 - 127.0.0.1 - - [12/Mar/2022 15:59:35] \"GET /_dash-component-suites/dash/dcc/async-graph.js HTTP/1.1\" 200 -\n",
      "2022-03-12 15:59:35,549 - 127.0.0.1 - - [12/Mar/2022 15:59:35] \"GET /_dash-component-suites/dash/dcc/async-plotlyjs.js HTTP/1.1\" 200 -\n",
      "2022-03-12 15:59:35,553 - 127.0.0.1 - - [12/Mar/2022 15:59:35] \"GET /_dash-component-suites/dash/dcc/async-dropdown.js HTTP/1.1\" 200 -\n",
      "2022-03-12 15:59:35,591 - 127.0.0.1 - - [12/Mar/2022 15:59:35] \"POST /_dash-update-component HTTP/1.1\" 200 -\n",
      "2022-03-12 15:59:35,647 - 127.0.0.1 - - [12/Mar/2022 15:59:35] \"POST /_dash-update-component HTTP/1.1\" 200 -\n",
      "2022-03-12 15:59:35,651 - 127.0.0.1 - - [12/Mar/2022 15:59:35] \"GET /_dash-component-suites/dash/dcc/async-highlight.js HTTP/1.1\" 200 -\n"
     ]
    },
    {
     "name": "stdout",
     "output_type": "stream",
     "text": [
      "Figure({\n",
      "    'data': [{'error_y': {'array': array([0.0023246 , 0.0023246 , 0.02636834, 0.02853533, 0.02187727, 0.02956859,\n",
      "                                          0.03837943, 0.02894199, 0.01971504, 0.02321356]),\n",
      "                          'type': 'data',\n",
      "                          'visible': True},\n",
      "              'name': 'accuracy',\n",
      "              'type': 'bar',\n",
      "              'x': array(['baseline', 'SVC(C=1, gamma=2)', 'MLPClassifier(max_iter=1000)',\n",
      "                          'KNeighborsClassifier(n_neighbors=3)',\n",
      "                          'DecisionTreeClassifier(max_depth=5)', 'AdaBoostClassifier()',\n",
      "                          'QuadraticDiscriminantAnalysis()', 'GaussianNB()',\n",
      "                          'GaussianProcessClassifier(kernel=1**2 * RBF(length_scale=1))',\n",
      "                          'RandomForestClassifier()'], dtype=object),\n",
      "              'y': array([0.6510483 , 0.6510483 , 0.68236143, 0.69275953, 0.73046431, 0.73834989,\n",
      "                          0.73827349, 0.75002971, 0.76564808, 0.75651473])},\n",
      "             {'error_y': {'array': array([0.0023246 , 0.0084095 , 0.06583379, 0.03047515, 0.06387609, 0.09017441,\n",
      "                                          0.07314204, 0.08431918, 0.046563  , 0.04945009]),\n",
      "                          'type': 'data',\n",
      "                          'visible': True},\n",
      "              'name': 'average_precision',\n",
      "              'type': 'bar',\n",
      "              'x': array(['baseline', 'SVC(C=1, gamma=2)', 'MLPClassifier(max_iter=1000)',\n",
      "                          'KNeighborsClassifier(n_neighbors=3)',\n",
      "                          'DecisionTreeClassifier(max_depth=5)', 'AdaBoostClassifier()',\n",
      "                          'QuadraticDiscriminantAnalysis()', 'GaussianNB()',\n",
      "                          'GaussianProcessClassifier(kernel=1**2 * RBF(length_scale=1))',\n",
      "                          'RandomForestClassifier()'], dtype=object),\n",
      "              'y': array([0.3489517 , 0.35663997, 0.57734217, 0.54220146, 0.61007436, 0.67885017,\n",
      "                          0.67067191, 0.67571631, 0.71809832, 0.70207578])},\n",
      "             {'error_y': {'array': array([0.00294455, 0.00294455, 0.02337983, 0.02757337, 0.02147684, 0.02992083,\n",
      "                                          0.0378009 , 0.02842744, 0.02127377, 0.0242636 ]),\n",
      "                          'type': 'data',\n",
      "                          'visible': True},\n",
      "              'name': 'f1_weighted',\n",
      "              'type': 'bar',\n",
      "              'x': array(['baseline', 'SVC(C=1, gamma=2)', 'MLPClassifier(max_iter=1000)',\n",
      "                          'KNeighborsClassifier(n_neighbors=3)',\n",
      "                          'DecisionTreeClassifier(max_depth=5)', 'AdaBoostClassifier()',\n",
      "                          'QuadraticDiscriminantAnalysis()', 'GaussianNB()',\n",
      "                          'GaussianProcessClassifier(kernel=1**2 * RBF(length_scale=1))',\n",
      "                          'RandomForestClassifier()'], dtype=object),\n",
      "              'y': array([0.51345012, 0.51345012, 0.67362835, 0.69067351, 0.72686151, 0.73307601,\n",
      "                          0.73319059, 0.74655256, 0.75734991, 0.75142297])},\n",
      "             {'error_y': {'array': array([0.        , 0.01136791, 0.05128087, 0.02857161, 0.03411746, 0.05668758,\n",
      "                                          0.05234423, 0.04794465, 0.04087115, 0.03196866]),\n",
      "                          'type': 'data',\n",
      "                          'visible': True},\n",
      "              'name': 'roc_auc',\n",
      "              'type': 'bar',\n",
      "              'x': array(['baseline', 'SVC(C=1, gamma=2)', 'MLPClassifier(max_iter=1000)',\n",
      "                          'KNeighborsClassifier(n_neighbors=3)',\n",
      "                          'DecisionTreeClassifier(max_depth=5)', 'AdaBoostClassifier()',\n",
      "                          'QuadraticDiscriminantAnalysis()', 'GaussianNB()',\n",
      "                          'GaussianProcessClassifier(kernel=1**2 * RBF(length_scale=1))',\n",
      "                          'RandomForestClassifier()'], dtype=object),\n",
      "              'y': array([0.5       , 0.50883054, 0.69440671, 0.70752725, 0.77490915, 0.7990318 ,\n",
      "                          0.80586303, 0.81031516, 0.81660098, 0.81691999])}],\n",
      "    'layout': {'template': '...'}\n",
      "})\n"
     ]
    },
    {
     "name": "stderr",
     "output_type": "stream",
     "text": [
      "2022-03-12 15:59:35,879 - 127.0.0.1 - - [12/Mar/2022 15:59:35] \"POST /_dash-update-component HTTP/1.1\" 200 -\n",
      "2022-03-12 15:59:35,904 - 127.0.0.1 - - [12/Mar/2022 15:59:35] \"POST /_dash-update-component HTTP/1.1\" 200 -\n",
      "2022-03-12 15:59:35,910 - 127.0.0.1 - - [12/Mar/2022 15:59:35] \"POST /_dash-update-component HTTP/1.1\" 200 -\n",
      "2022-03-12 15:59:36,057 - 127.0.0.1 - - [12/Mar/2022 15:59:36] \"POST /_dash-update-component HTTP/1.1\" 200 -\n"
     ]
    }
   ],
   "source": [
    "run_pipline('csv', '../data/dataset_37_diabetes.csv', index_col=None, target_col='class')"
   ]
  },
  {
   "cell_type": "code",
   "execution_count": null,
   "metadata": {},
   "outputs": [],
   "source": []
  }
 ],
 "metadata": {
  "kernelspec": {
   "display_name": "dash-dev",
   "language": "python",
   "name": "dash-dev"
  },
  "language_info": {
   "codemirror_mode": {
    "name": "ipython",
    "version": 3
   },
   "file_extension": ".py",
   "mimetype": "text/x-python",
   "name": "python",
   "nbconvert_exporter": "python",
   "pygments_lexer": "ipython3",
   "version": "3.7.12"
  },
  "toc": {
   "base_numbering": 1,
   "nav_menu": {},
   "number_sections": true,
   "sideBar": true,
   "skip_h1_title": false,
   "title_cell": "Table of Contents",
   "title_sidebar": "Contents",
   "toc_cell": false,
   "toc_position": {},
   "toc_section_display": true,
   "toc_window_display": false
  }
 },
 "nbformat": 4,
 "nbformat_minor": 5
}
