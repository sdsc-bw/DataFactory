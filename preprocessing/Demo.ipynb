{
 "cells": [
  {
   "cell_type": "markdown",
   "metadata": {},
   "source": [
    "# Data Preprocessing\n",
    "<img src = '../images/data_cleaning.png'>\n",
    "The quality of the data directly determines quality of the prediction and generalization ability of the model. It involves many factors, including: accuracy, completeness, consistency, credibility. In the real world, the data we get may contain a lot of missing values, noise, or due to manual entry errors there may be outliers present, which is very unfavorable to the training of algorithmic models. The result of data preproessing is to process all kinds of dirty data in a corresponding way to get standard, clean and continuous data, which can be used for data statistics, data mining, etc."
   ]
  },
  {
   "cell_type": "markdown",
   "metadata": {},
   "source": [
    "# Import Packages"
   ]
  },
  {
   "cell_type": "code",
   "execution_count": 1,
   "metadata": {
    "ExecuteTime": {
     "end_time": "2021-07-15T08:18:38.355352Z",
     "start_time": "2021-07-15T08:18:38.341216Z"
    }
   },
   "outputs": [],
   "source": [
    "#root = './feature_engineering/'\n",
    "root = '../'"
   ]
  },
  {
   "cell_type": "code",
   "execution_count": 2,
   "metadata": {
    "ExecuteTime": {
     "end_time": "2021-07-15T08:18:43.263121Z",
     "start_time": "2021-07-15T08:18:38.363487Z"
    }
   },
   "outputs": [],
   "source": [
    "#import keras\n",
    "import matplotlib.pyplot as plt\n",
    "import numpy as np\n",
    "import pandas as pd\n",
    "import seaborn as sns\n",
    "import sys\n",
    "sys.path.insert(0, root + \"codes\")\n",
    "import warnings\n",
    "warnings.filterwarnings(\"ignore\")\n",
    "\n",
    "\n",
    "from abc import ABCMeta, abstractmethod\n",
    "from sklearn.ensemble import RandomForestClassifier, RandomForestRegressor\n",
    "from sklearn.metrics import roc_auc_score, mean_absolute_error, accuracy_score, f1_score\n",
    "from sklearn.model_selection import train_test_split\n",
    "from sklearn.preprocessing import LabelEncoder\n",
    "from typing import cast, Any, Dict, List, Tuple, Optional, Union\n",
    "\n",
    "from DataFactory import DataFactory\n",
    "from transforms import UnaryOpt, BinaryOpt, MultiOpt\n",
    "import transforms as tfd\n",
    "import logging"
   ]
  },
  {
   "cell_type": "markdown",
   "metadata": {},
   "source": [
    "# Data description\n",
    "credit-german"
   ]
  },
  {
   "cell_type": "markdown",
   "metadata": {},
   "source": [
    "# Data import "
   ]
  },
  {
   "cell_type": "markdown",
   "metadata": {},
   "source": [
    "When extracting csv files, there are three points to pay special attention to Delimiter, header, index_col. When they are set up incorrectly, it is easy to cause confusion in the data structure.\n",
    "Using the following data reading as examples:\n",
    "- we know that the delimiter for dataset_31_credit-g is ';'. When we use the default separator ',', all the data will be stacked into one property. \n",
    "- Similarly, if we extract the data with a note that there is no header, then the first row in the data will be treated as an attribute value."
   ]
  },
  {
   "cell_type": "code",
   "execution_count": 3,
   "metadata": {
    "ExecuteTime": {
     "end_time": "2021-07-15T08:18:43.295278Z",
     "start_time": "2021-07-15T08:18:43.266570Z"
    }
   },
   "outputs": [
    {
     "data": {
      "text/html": [
       "<div>\n",
       "<style scoped>\n",
       "    .dataframe tbody tr th:only-of-type {\n",
       "        vertical-align: middle;\n",
       "    }\n",
       "\n",
       "    .dataframe tbody tr th {\n",
       "        vertical-align: top;\n",
       "    }\n",
       "\n",
       "    .dataframe thead th {\n",
       "        text-align: right;\n",
       "    }\n",
       "</style>\n",
       "<table border=\"1\" class=\"dataframe\">\n",
       "  <thead>\n",
       "    <tr style=\"text-align: right;\">\n",
       "      <th></th>\n",
       "      <th>;checking_status;duration;credit_history;purpose;credit_amount;savings_status;employment;installment_commitment;personal_status;other_parties;residence_since;property_magnitude;age;other_payment_plans;housing;existing_credits;job;num_dependents;own_telephone;foreign_worker;class</th>\n",
       "    </tr>\n",
       "  </thead>\n",
       "  <tbody>\n",
       "    <tr>\n",
       "      <th>0</th>\n",
       "      <td>0;'&lt;0';6;'critical/other existing credit';radi...</td>\n",
       "    </tr>\n",
       "    <tr>\n",
       "      <th>1</th>\n",
       "      <td>1;'0&lt;=X&lt;200';48;'existing paid';radio/tv;5951;...</td>\n",
       "    </tr>\n",
       "    <tr>\n",
       "      <th>2</th>\n",
       "      <td>2;'no checking';12;'critical/other existing cr...</td>\n",
       "    </tr>\n",
       "    <tr>\n",
       "      <th>3</th>\n",
       "      <td>3;'&lt;0';42;'existing paid';furniture/equipment;...</td>\n",
       "    </tr>\n",
       "    <tr>\n",
       "      <th>4</th>\n",
       "      <td>4;'&lt;0';24;'delayed previously';'new car';4870;...</td>\n",
       "    </tr>\n",
       "  </tbody>\n",
       "</table>\n",
       "</div>"
      ],
      "text/plain": [
       "  ;checking_status;duration;credit_history;purpose;credit_amount;savings_status;employment;installment_commitment;personal_status;other_parties;residence_since;property_magnitude;age;other_payment_plans;housing;existing_credits;job;num_dependents;own_telephone;foreign_worker;class\n",
       "0  0;'<0';6;'critical/other existing credit';radi...                                                                                                                                                                                                                                     \n",
       "1  1;'0<=X<200';48;'existing paid';radio/tv;5951;...                                                                                                                                                                                                                                     \n",
       "2  2;'no checking';12;'critical/other existing cr...                                                                                                                                                                                                                                     \n",
       "3  3;'<0';42;'existing paid';furniture/equipment;...                                                                                                                                                                                                                                     \n",
       "4  4;'<0';24;'delayed previously';'new car';4870;...                                                                                                                                                                                                                                     "
      ]
     },
     "execution_count": 3,
     "metadata": {},
     "output_type": "execute_result"
    }
   ],
   "source": [
    "df = pd.read_csv('../data/dataset_31_credit-g.csv', sep = ',')\n",
    "df.head()"
   ]
  },
  {
   "cell_type": "code",
   "execution_count": 4,
   "metadata": {
    "ExecuteTime": {
     "end_time": "2021-07-15T08:18:43.347878Z",
     "start_time": "2021-07-15T08:18:43.301035Z"
    }
   },
   "outputs": [
    {
     "data": {
      "text/html": [
       "<div>\n",
       "<style scoped>\n",
       "    .dataframe tbody tr th:only-of-type {\n",
       "        vertical-align: middle;\n",
       "    }\n",
       "\n",
       "    .dataframe tbody tr th {\n",
       "        vertical-align: top;\n",
       "    }\n",
       "\n",
       "    .dataframe thead th {\n",
       "        text-align: right;\n",
       "    }\n",
       "</style>\n",
       "<table border=\"1\" class=\"dataframe\">\n",
       "  <thead>\n",
       "    <tr style=\"text-align: right;\">\n",
       "      <th></th>\n",
       "      <th>0</th>\n",
       "      <th>1</th>\n",
       "      <th>2</th>\n",
       "      <th>3</th>\n",
       "      <th>4</th>\n",
       "      <th>5</th>\n",
       "      <th>6</th>\n",
       "      <th>7</th>\n",
       "      <th>8</th>\n",
       "      <th>9</th>\n",
       "      <th>...</th>\n",
       "      <th>12</th>\n",
       "      <th>13</th>\n",
       "      <th>14</th>\n",
       "      <th>15</th>\n",
       "      <th>16</th>\n",
       "      <th>17</th>\n",
       "      <th>18</th>\n",
       "      <th>19</th>\n",
       "      <th>20</th>\n",
       "      <th>21</th>\n",
       "    </tr>\n",
       "  </thead>\n",
       "  <tbody>\n",
       "    <tr>\n",
       "      <th>0</th>\n",
       "      <td>NaN</td>\n",
       "      <td>checking_status</td>\n",
       "      <td>duration</td>\n",
       "      <td>credit_history</td>\n",
       "      <td>purpose</td>\n",
       "      <td>credit_amount</td>\n",
       "      <td>savings_status</td>\n",
       "      <td>employment</td>\n",
       "      <td>installment_commitment</td>\n",
       "      <td>personal_status</td>\n",
       "      <td>...</td>\n",
       "      <td>property_magnitude</td>\n",
       "      <td>age</td>\n",
       "      <td>other_payment_plans</td>\n",
       "      <td>housing</td>\n",
       "      <td>existing_credits</td>\n",
       "      <td>job</td>\n",
       "      <td>num_dependents</td>\n",
       "      <td>own_telephone</td>\n",
       "      <td>foreign_worker</td>\n",
       "      <td>class</td>\n",
       "    </tr>\n",
       "    <tr>\n",
       "      <th>1</th>\n",
       "      <td>0.0</td>\n",
       "      <td>'&lt;0'</td>\n",
       "      <td>6</td>\n",
       "      <td>'critical/other existing credit'</td>\n",
       "      <td>radio/tv</td>\n",
       "      <td>1169</td>\n",
       "      <td>'no known savings'</td>\n",
       "      <td>'&gt;=7'</td>\n",
       "      <td>4</td>\n",
       "      <td>'male single'</td>\n",
       "      <td>...</td>\n",
       "      <td>'real estate'</td>\n",
       "      <td>67.0</td>\n",
       "      <td>none</td>\n",
       "      <td>own</td>\n",
       "      <td>2</td>\n",
       "      <td>skilled</td>\n",
       "      <td>1</td>\n",
       "      <td>yes</td>\n",
       "      <td>yes</td>\n",
       "      <td>good</td>\n",
       "    </tr>\n",
       "    <tr>\n",
       "      <th>2</th>\n",
       "      <td>1.0</td>\n",
       "      <td>'0&lt;=X&lt;200'</td>\n",
       "      <td>48</td>\n",
       "      <td>'existing paid'</td>\n",
       "      <td>radio/tv</td>\n",
       "      <td>5951</td>\n",
       "      <td>'&lt;100'</td>\n",
       "      <td>'1&lt;=X&lt;4'</td>\n",
       "      <td>2</td>\n",
       "      <td>'female div/dep/mar'</td>\n",
       "      <td>...</td>\n",
       "      <td>'real estate'</td>\n",
       "      <td>22.0</td>\n",
       "      <td>none</td>\n",
       "      <td>own</td>\n",
       "      <td>1</td>\n",
       "      <td>skilled</td>\n",
       "      <td>1</td>\n",
       "      <td>none</td>\n",
       "      <td>yes</td>\n",
       "      <td>bad</td>\n",
       "    </tr>\n",
       "    <tr>\n",
       "      <th>3</th>\n",
       "      <td>2.0</td>\n",
       "      <td>'no checking'</td>\n",
       "      <td>12</td>\n",
       "      <td>'critical/other existing credit'</td>\n",
       "      <td>education</td>\n",
       "      <td>2096</td>\n",
       "      <td>'&lt;100'</td>\n",
       "      <td>'4&lt;=X&lt;7'</td>\n",
       "      <td>2</td>\n",
       "      <td>'male single'</td>\n",
       "      <td>...</td>\n",
       "      <td>'real estate'</td>\n",
       "      <td>49.0</td>\n",
       "      <td>none</td>\n",
       "      <td>own</td>\n",
       "      <td>1</td>\n",
       "      <td>'unskilled resident'</td>\n",
       "      <td>2</td>\n",
       "      <td>none</td>\n",
       "      <td>yes</td>\n",
       "      <td>good</td>\n",
       "    </tr>\n",
       "    <tr>\n",
       "      <th>4</th>\n",
       "      <td>3.0</td>\n",
       "      <td>'&lt;0'</td>\n",
       "      <td>42</td>\n",
       "      <td>'existing paid'</td>\n",
       "      <td>furniture/equipment</td>\n",
       "      <td>7882</td>\n",
       "      <td>'&lt;100'</td>\n",
       "      <td>'4&lt;=X&lt;7'</td>\n",
       "      <td>2</td>\n",
       "      <td>'male single'</td>\n",
       "      <td>...</td>\n",
       "      <td>'life insurance'</td>\n",
       "      <td>45.0</td>\n",
       "      <td>none</td>\n",
       "      <td>'for free'</td>\n",
       "      <td>1</td>\n",
       "      <td>skilled</td>\n",
       "      <td>2</td>\n",
       "      <td>none</td>\n",
       "      <td>yes</td>\n",
       "      <td>good</td>\n",
       "    </tr>\n",
       "  </tbody>\n",
       "</table>\n",
       "<p>5 rows × 22 columns</p>\n",
       "</div>"
      ],
      "text/plain": [
       "    0                1         2                                 3   \\\n",
       "0  NaN  checking_status  duration                    credit_history   \n",
       "1  0.0             '<0'         6  'critical/other existing credit'   \n",
       "2  1.0       '0<=X<200'        48                   'existing paid'   \n",
       "3  2.0    'no checking'        12  'critical/other existing credit'   \n",
       "4  3.0             '<0'        42                   'existing paid'   \n",
       "\n",
       "                    4              5                   6           7   \\\n",
       "0              purpose  credit_amount      savings_status  employment   \n",
       "1             radio/tv           1169  'no known savings'       '>=7'   \n",
       "2             radio/tv           5951              '<100'    '1<=X<4'   \n",
       "3            education           2096              '<100'    '4<=X<7'   \n",
       "4  furniture/equipment           7882              '<100'    '4<=X<7'   \n",
       "\n",
       "                       8                     9   ...                  12  \\\n",
       "0  installment_commitment       personal_status  ...  property_magnitude   \n",
       "1                       4         'male single'  ...       'real estate'   \n",
       "2                       2  'female div/dep/mar'  ...       'real estate'   \n",
       "3                       2         'male single'  ...       'real estate'   \n",
       "4                       2         'male single'  ...    'life insurance'   \n",
       "\n",
       "     13                   14          15                16  \\\n",
       "0   age  other_payment_plans     housing  existing_credits   \n",
       "1  67.0                 none         own                 2   \n",
       "2  22.0                 none         own                 1   \n",
       "3  49.0                 none         own                 1   \n",
       "4  45.0                 none  'for free'                 1   \n",
       "\n",
       "                     17              18             19              20     21  \n",
       "0                   job  num_dependents  own_telephone  foreign_worker  class  \n",
       "1               skilled               1            yes             yes   good  \n",
       "2               skilled               1           none             yes    bad  \n",
       "3  'unskilled resident'               2           none             yes   good  \n",
       "4               skilled               2           none             yes   good  \n",
       "\n",
       "[5 rows x 22 columns]"
      ]
     },
     "execution_count": 4,
     "metadata": {},
     "output_type": "execute_result"
    }
   ],
   "source": [
    "df = pd.read_csv('../data/dataset_31_credit-g.csv', sep = ';', header = None)\n",
    "df.head()"
   ]
  },
  {
   "cell_type": "markdown",
   "metadata": {},
   "source": [
    "Only after these parameters have been set correctly will the data be extracted"
   ]
  },
  {
   "cell_type": "code",
   "execution_count": 5,
   "metadata": {
    "ExecuteTime": {
     "end_time": "2021-07-15T08:18:43.490439Z",
     "start_time": "2021-07-15T08:18:43.351980Z"
    }
   },
   "outputs": [
    {
     "data": {
      "text/html": [
       "<div>\n",
       "<style scoped>\n",
       "    .dataframe tbody tr th:only-of-type {\n",
       "        vertical-align: middle;\n",
       "    }\n",
       "\n",
       "    .dataframe tbody tr th {\n",
       "        vertical-align: top;\n",
       "    }\n",
       "\n",
       "    .dataframe thead th {\n",
       "        text-align: right;\n",
       "    }\n",
       "</style>\n",
       "<table border=\"1\" class=\"dataframe\">\n",
       "  <thead>\n",
       "    <tr style=\"text-align: right;\">\n",
       "      <th></th>\n",
       "      <th>checking_status</th>\n",
       "      <th>duration</th>\n",
       "      <th>credit_history</th>\n",
       "      <th>purpose</th>\n",
       "      <th>credit_amount</th>\n",
       "      <th>savings_status</th>\n",
       "      <th>employment</th>\n",
       "      <th>installment_commitment</th>\n",
       "      <th>personal_status</th>\n",
       "      <th>other_parties</th>\n",
       "      <th>...</th>\n",
       "      <th>property_magnitude</th>\n",
       "      <th>age</th>\n",
       "      <th>other_payment_plans</th>\n",
       "      <th>housing</th>\n",
       "      <th>existing_credits</th>\n",
       "      <th>job</th>\n",
       "      <th>num_dependents</th>\n",
       "      <th>own_telephone</th>\n",
       "      <th>foreign_worker</th>\n",
       "      <th>class</th>\n",
       "    </tr>\n",
       "  </thead>\n",
       "  <tbody>\n",
       "    <tr>\n",
       "      <th>0</th>\n",
       "      <td>'&lt;0'</td>\n",
       "      <td>6</td>\n",
       "      <td>'critical/other existing credit'</td>\n",
       "      <td>radio/tv</td>\n",
       "      <td>1169</td>\n",
       "      <td>'no known savings'</td>\n",
       "      <td>'&gt;=7'</td>\n",
       "      <td>4</td>\n",
       "      <td>'male single'</td>\n",
       "      <td>none</td>\n",
       "      <td>...</td>\n",
       "      <td>'real estate'</td>\n",
       "      <td>67.0</td>\n",
       "      <td>none</td>\n",
       "      <td>own</td>\n",
       "      <td>2</td>\n",
       "      <td>skilled</td>\n",
       "      <td>1</td>\n",
       "      <td>yes</td>\n",
       "      <td>yes</td>\n",
       "      <td>good</td>\n",
       "    </tr>\n",
       "    <tr>\n",
       "      <th>1</th>\n",
       "      <td>'0&lt;=X&lt;200'</td>\n",
       "      <td>48</td>\n",
       "      <td>'existing paid'</td>\n",
       "      <td>radio/tv</td>\n",
       "      <td>5951</td>\n",
       "      <td>'&lt;100'</td>\n",
       "      <td>'1&lt;=X&lt;4'</td>\n",
       "      <td>2</td>\n",
       "      <td>'female div/dep/mar'</td>\n",
       "      <td>none</td>\n",
       "      <td>...</td>\n",
       "      <td>'real estate'</td>\n",
       "      <td>22.0</td>\n",
       "      <td>none</td>\n",
       "      <td>own</td>\n",
       "      <td>1</td>\n",
       "      <td>skilled</td>\n",
       "      <td>1</td>\n",
       "      <td>none</td>\n",
       "      <td>yes</td>\n",
       "      <td>bad</td>\n",
       "    </tr>\n",
       "    <tr>\n",
       "      <th>2</th>\n",
       "      <td>'no checking'</td>\n",
       "      <td>12</td>\n",
       "      <td>'critical/other existing credit'</td>\n",
       "      <td>education</td>\n",
       "      <td>2096</td>\n",
       "      <td>'&lt;100'</td>\n",
       "      <td>'4&lt;=X&lt;7'</td>\n",
       "      <td>2</td>\n",
       "      <td>'male single'</td>\n",
       "      <td>none</td>\n",
       "      <td>...</td>\n",
       "      <td>'real estate'</td>\n",
       "      <td>49.0</td>\n",
       "      <td>none</td>\n",
       "      <td>own</td>\n",
       "      <td>1</td>\n",
       "      <td>'unskilled resident'</td>\n",
       "      <td>2</td>\n",
       "      <td>none</td>\n",
       "      <td>yes</td>\n",
       "      <td>good</td>\n",
       "    </tr>\n",
       "    <tr>\n",
       "      <th>3</th>\n",
       "      <td>'&lt;0'</td>\n",
       "      <td>42</td>\n",
       "      <td>'existing paid'</td>\n",
       "      <td>furniture/equipment</td>\n",
       "      <td>7882</td>\n",
       "      <td>'&lt;100'</td>\n",
       "      <td>'4&lt;=X&lt;7'</td>\n",
       "      <td>2</td>\n",
       "      <td>'male single'</td>\n",
       "      <td>guarantor</td>\n",
       "      <td>...</td>\n",
       "      <td>'life insurance'</td>\n",
       "      <td>45.0</td>\n",
       "      <td>none</td>\n",
       "      <td>'for free'</td>\n",
       "      <td>1</td>\n",
       "      <td>skilled</td>\n",
       "      <td>2</td>\n",
       "      <td>none</td>\n",
       "      <td>yes</td>\n",
       "      <td>good</td>\n",
       "    </tr>\n",
       "    <tr>\n",
       "      <th>4</th>\n",
       "      <td>'&lt;0'</td>\n",
       "      <td>24</td>\n",
       "      <td>'delayed previously'</td>\n",
       "      <td>'new car'</td>\n",
       "      <td>4870</td>\n",
       "      <td>'&lt;100'</td>\n",
       "      <td>'1&lt;=X&lt;4'</td>\n",
       "      <td>3</td>\n",
       "      <td>'male single'</td>\n",
       "      <td>none</td>\n",
       "      <td>...</td>\n",
       "      <td>'no known property'</td>\n",
       "      <td>53.0</td>\n",
       "      <td>none</td>\n",
       "      <td>'for free'</td>\n",
       "      <td>2</td>\n",
       "      <td>skilled</td>\n",
       "      <td>2</td>\n",
       "      <td>none</td>\n",
       "      <td>yes</td>\n",
       "      <td>bad</td>\n",
       "    </tr>\n",
       "  </tbody>\n",
       "</table>\n",
       "<p>5 rows × 21 columns</p>\n",
       "</div>"
      ],
      "text/plain": [
       "  checking_status  duration                    credit_history  \\\n",
       "0            '<0'         6  'critical/other existing credit'   \n",
       "1      '0<=X<200'        48                   'existing paid'   \n",
       "2   'no checking'        12  'critical/other existing credit'   \n",
       "3            '<0'        42                   'existing paid'   \n",
       "4            '<0'        24              'delayed previously'   \n",
       "\n",
       "               purpose  credit_amount      savings_status employment  \\\n",
       "0             radio/tv           1169  'no known savings'      '>=7'   \n",
       "1             radio/tv           5951              '<100'   '1<=X<4'   \n",
       "2            education           2096              '<100'   '4<=X<7'   \n",
       "3  furniture/equipment           7882              '<100'   '4<=X<7'   \n",
       "4            'new car'           4870              '<100'   '1<=X<4'   \n",
       "\n",
       "   installment_commitment       personal_status other_parties  ...  \\\n",
       "0                       4         'male single'          none  ...   \n",
       "1                       2  'female div/dep/mar'          none  ...   \n",
       "2                       2         'male single'          none  ...   \n",
       "3                       2         'male single'     guarantor  ...   \n",
       "4                       3         'male single'          none  ...   \n",
       "\n",
       "    property_magnitude   age  other_payment_plans     housing  \\\n",
       "0        'real estate'  67.0                 none         own   \n",
       "1        'real estate'  22.0                 none         own   \n",
       "2        'real estate'  49.0                 none         own   \n",
       "3     'life insurance'  45.0                 none  'for free'   \n",
       "4  'no known property'  53.0                 none  'for free'   \n",
       "\n",
       "  existing_credits                   job num_dependents  own_telephone  \\\n",
       "0                2               skilled              1            yes   \n",
       "1                1               skilled              1           none   \n",
       "2                1  'unskilled resident'              2           none   \n",
       "3                1               skilled              2           none   \n",
       "4                2               skilled              2           none   \n",
       "\n",
       "  foreign_worker class  \n",
       "0            yes  good  \n",
       "1            yes   bad  \n",
       "2            yes  good  \n",
       "3            yes  good  \n",
       "4            yes   bad  \n",
       "\n",
       "[5 rows x 21 columns]"
      ]
     },
     "execution_count": 5,
     "metadata": {},
     "output_type": "execute_result"
    }
   ],
   "source": [
    "df = pd.read_csv('../data/dataset_31_credit-g.csv', sep = ';', header = 'infer', index_col = 0)\n",
    "df.head()"
   ]
  },
  {
   "cell_type": "code",
   "execution_count": 6,
   "metadata": {
    "ExecuteTime": {
     "end_time": "2021-07-15T08:18:43.513446Z",
     "start_time": "2021-07-15T08:18:43.495344Z"
    }
   },
   "outputs": [],
   "source": [
    "dfx = df.iloc[:, :-1]\n",
    "dfy = df.iloc[:, -1]"
   ]
  },
  {
   "cell_type": "code",
   "execution_count": 7,
   "metadata": {
    "ExecuteTime": {
     "end_time": "2021-07-15T08:18:43.588939Z",
     "start_time": "2021-07-15T08:18:43.519252Z"
    }
   },
   "outputs": [
    {
     "name": "stdout",
     "output_type": "stream",
     "text": [
      "<class 'pandas.core.frame.DataFrame'>\n",
      "Int64Index: 1000 entries, 0 to 999\n",
      "Data columns (total 21 columns):\n",
      " #   Column                  Non-Null Count  Dtype  \n",
      "---  ------                  --------------  -----  \n",
      " 0   checking_status         1000 non-null   object \n",
      " 1   duration                1000 non-null   int64  \n",
      " 2   credit_history          1000 non-null   object \n",
      " 3   purpose                 1000 non-null   object \n",
      " 4   credit_amount           1000 non-null   int64  \n",
      " 5   savings_status          1000 non-null   object \n",
      " 6   employment              1000 non-null   object \n",
      " 7   installment_commitment  1000 non-null   int64  \n",
      " 8   personal_status         1000 non-null   object \n",
      " 9   other_parties           1000 non-null   object \n",
      " 10  residence_since         1000 non-null   int64  \n",
      " 11  property_magnitude      1000 non-null   object \n",
      " 12  age                     999 non-null    float64\n",
      " 13  other_payment_plans     1000 non-null   object \n",
      " 14  housing                 1000 non-null   object \n",
      " 15  existing_credits        1000 non-null   int64  \n",
      " 16  job                     1000 non-null   object \n",
      " 17  num_dependents          1000 non-null   int64  \n",
      " 18  own_telephone           1000 non-null   object \n",
      " 19  foreign_worker          1000 non-null   object \n",
      " 20  class                   1000 non-null   object \n",
      "dtypes: float64(1), int64(6), object(14)\n",
      "memory usage: 171.9+ KB\n"
     ]
    }
   ],
   "source": [
    "df.info()"
   ]
  },
  {
   "cell_type": "markdown",
   "metadata": {},
   "source": [
    "# Data Cleaning"
   ]
  },
  {
   "cell_type": "markdown",
   "metadata": {},
   "source": [
    "The main idea of data cleaning is to \"clean\" data by filling in missing values, smoothing noisy data, smoothing or removing outliers, and resolving data inconsistencies. If customers think the data is dirty, they are less likely to trust the results based on this data i.e., the output is unreliable§."
   ]
  },
  {
   "cell_type": "markdown",
   "metadata": {},
   "source": [
    "## Categorical features\n",
    "Many popular models can't handle character feature, e.g., neural network\n",
    "\n",
    "To handle these attributes, we generally convert the character data into numeric data via:\n",
    "-  <a href = 'https://scikit-learn.org/stable/modules/generated/sklearn.preprocessing.LabelEncoder.html'>LabelEncoder</a> or \n",
    "- <a href= 'https://scikit-learn.org/stable/modules/generated/sklearn.preprocessing.OneHotEncoder.html'>OnehotEncoder</a>\n",
    "\n",
    "From the above example we can see that there are a large number of character features in the data. We show a few examples below:"
   ]
  },
  {
   "cell_type": "code",
   "execution_count": 8,
   "metadata": {
    "ExecuteTime": {
     "end_time": "2021-07-15T08:18:46.906285Z",
     "start_time": "2021-07-15T08:18:43.596329Z"
    },
    "scrolled": true
   },
   "outputs": [
    {
     "data": {
      "image/png": "[encoded data removed]",
      "text/plain": [
       "<Figure size 1440x432 with 1 Axes>"
      ]
     },
     "metadata": {
      "needs_background": "light"
     },
     "output_type": "display_data"
    },
    {
     "data": {
      "image/png": "[encoded data removed]",
      "text/plain": [
       "<Figure size 1440x432 with 1 Axes>"
      ]
     },
     "metadata": {
      "needs_background": "light"
     },
     "output_type": "display_data"
    },
    {
     "data": {
      "image/png": "[encoded data removed]",
      "text/plain": [
       "<Figure size 1440x432 with 1 Axes>"
      ]
     },
     "metadata": {
      "needs_background": "light"
     },
     "output_type": "display_data"
    },
    {
     "data": {
      "image/png": "[encoded data removed]",
      "text/plain": [
       "<Figure size 1440x432 with 1 Axes>"
      ]
     },
     "metadata": {
      "needs_background": "light"
     },
     "output_type": "display_data"
    },
    {
     "data": {
      "image/png": "[encoded data removed]",
      "text/plain": [
       "<Figure size 1440x432 with 1 Axes>"
      ]
     },
     "metadata": {
      "needs_background": "light"
     },
     "output_type": "display_data"
    },
    {
     "data": {
      "image/png": "[encoded data removed]",
      "text/plain": [
       "<Figure size 1440x432 with 1 Axes>"
      ]
     },
     "metadata": {
      "needs_background": "light"
     },
     "output_type": "display_data"
    },
    {
     "data": {
      "image/png": "[encoded data removed]",
      "text/plain": [
       "<Figure size 1440x432 with 1 Axes>"
      ]
     },
     "metadata": {
      "needs_background": "light"
     },
     "output_type": "display_data"
    },
    {
     "data": {
      "image/png": "[encoded data removed]",
      "text/plain": [
       "<Figure size 1440x432 with 1 Axes>"
      ]
     },
     "metadata": {
      "needs_background": "light"
     },
     "output_type": "display_data"
    },
    {
     "data": {
      "image/png": "[encoded data removed]",
      "text/plain": [
       "<Figure size 1440x432 with 1 Axes>"
      ]
     },
     "metadata": {
      "needs_background": "light"
     },
     "output_type": "display_data"
    },
    {
     "data": {
      "image/png": "[encoded data removed]",
      "text/plain": [
       "<Figure size 1440x432 with 1 Axes>"
      ]
     },
     "metadata": {
      "needs_background": "light"
     },
     "output_type": "display_data"
    },
    {
     "data": {
      "image/png": "[encoded data removed]",
      "text/plain": [
       "<Figure size 1440x432 with 1 Axes>"
      ]
     },
     "metadata": {
      "needs_background": "light"
     },
     "output_type": "display_data"
    },
    {
     "data": {
      "image/png": "[encoded data removed]",
      "text/plain": [
       "<Figure size 1440x432 with 1 Axes>"
      ]
     },
     "metadata": {
      "needs_background": "light"
     },
     "output_type": "display_data"
    },
    {
     "data": {
      "image/png": "[encoded data removed]",
      "text/plain": [
       "<Figure size 1440x432 with 1 Axes>"
      ]
     },
     "metadata": {
      "needs_background": "light"
     },
     "output_type": "display_data"
    },
    {
     "data": {
      "image/png": "[encoded data removed]",
      "text/plain": [
       "<Figure size 1440x432 with 1 Axes>"
      ]
     },
     "metadata": {
      "needs_background": "light"
     },
     "output_type": "display_data"
    }
   ],
   "source": [
    "cols_cha = ['checking_status', 'credit_history', 'purpose', 'savings_status', 'employment', \n",
    "            'personal_status', 'other_parties', 'property_magnitude', 'other_payment_plans', 'housing',\n",
    "            'job', 'own_telephone', 'foreign_worker', 'class']\n",
    "for i in cols_cha:\n",
    "    plt.figure(figsize=(20,6))\n",
    "    plt.tick_params(axis='x',labelsize=18)\n",
    "    plt.tick_params(axis='y',labelsize=18)\n",
    "    plt.title(i)\n",
    "    df[i].value_counts().plot(kind = 'bar')"
   ]
  },
  {
   "cell_type": "markdown",
   "metadata": {
    "ExecuteTime": {
     "end_time": "2021-07-14T09:03:48.796008Z",
     "start_time": "2021-07-14T09:03:48.532880Z"
    }
   },
   "source": [
    "Depending on the features, the corresponding processing methods are different. For example, \n",
    "- for the 'Personal status' feature, there is no obvious relationship between its values, and the amount of different unique feature values is relatively small, so the onehot method is recommended. \n",
    "- As for the feature 'purpose', the amount of unique feature values is relatively large, so using onehot is likely to lead to a sparse data set, therefore, it is recommended to use labelencoding or other methods for processing. \n",
    "- For features like 'saving status', there is a clear sequential relationship, although there are only 5 different attribute values, it is still recommended to use labelencoding.\n",
    "\n",
    "The DataFactory provides methods 'categorical_feature_encoding' to automate the conversion, however, because it is difficult to identify whether a character property has a sequential relationship, the methods provided simply determine which conversion method to use based on the number of property values.\n",
    "\n",
    "This method take three parameters as input, which is:\n",
    "- dat_x: pd.DataFrame is the feature of the dataset\n",
    "- dat_y: pd.Series (optional) is the target of the dataset\n",
    "- kterm: bool (optional) determines whether to create the kterm feature of each categorical feature or not"
   ]
  },
  {
   "cell_type": "code",
   "execution_count": 9,
   "metadata": {
    "ExecuteTime": {
     "end_time": "2021-07-15T08:18:46.924466Z",
     "start_time": "2021-07-15T08:18:46.916570Z"
    }
   },
   "outputs": [],
   "source": [
    "datafactory = DataFactory()"
   ]
  },
  {
   "cell_type": "code",
   "execution_count": 10,
   "metadata": {
    "ExecuteTime": {
     "end_time": "2021-07-15T08:18:47.388004Z",
     "start_time": "2021-07-15T08:18:46.934391Z"
    }
   },
   "outputs": [
    {
     "name": "stderr",
     "output_type": "stream",
     "text": [
      "2021-07-15 10:18:46,936 - DataFactory - INFO - + Start to transform the categorical columns\n",
      "2021-07-15 10:18:46,939 - DataFactory - INFO -     Target given and is object, apply Label encoding to the target\n",
      "2021-07-15 10:18:46,944 - DataFactory - INFO -     End with Target encoding\n",
      "2021-07-15 10:18:46,960 - DataFactory - INFO -     K-term function is activated, try to extract the k-term for each object columns\n",
      "2021-07-15 10:18:47,286 - DataFactory - INFO -     End with k-term feature extraction\n",
      "2021-07-15 10:18:47,298 - DataFactory - INFO -     Start to do onehot to the following categoric features: ['checking_status', 'credit_history', 'savings_status', 'employment', 'personal_status', 'other_parties', 'property_magnitude', 'other_payment_plans', 'housing', 'job', 'own_telephone', 'foreign_worker']\n",
      "2021-07-15 10:18:47,322 - DataFactory - INFO -     End with onehot encoding\n",
      "2021-07-15 10:18:47,324 - DataFactory - INFO -     Start to do label encoding to the following categoric features: ['purpose']\n",
      "2021-07-15 10:18:47,348 - DataFactory - INFO -     End with label encoding\n",
      "2021-07-15 10:18:47,376 - DataFactory - INFO - - End with categorical feature transformation\n"
     ]
    }
   ],
   "source": [
    "dfx, dfy = datafactory.categorical_feature_encoding(dfx, dfy, )"
   ]
  },
  {
   "cell_type": "code",
   "execution_count": 11,
   "metadata": {
    "ExecuteTime": {
     "end_time": "2021-07-15T08:18:47.469869Z",
     "start_time": "2021-07-15T08:18:47.392830Z"
    }
   },
   "outputs": [
    {
     "data": {
      "text/html": [
       "<div>\n",
       "<style scoped>\n",
       "    .dataframe tbody tr th:only-of-type {\n",
       "        vertical-align: middle;\n",
       "    }\n",
       "\n",
       "    .dataframe tbody tr th {\n",
       "        vertical-align: top;\n",
       "    }\n",
       "\n",
       "    .dataframe thead th {\n",
       "        text-align: right;\n",
       "    }\n",
       "</style>\n",
       "<table border=\"1\" class=\"dataframe\">\n",
       "  <thead>\n",
       "    <tr style=\"text-align: right;\">\n",
       "      <th></th>\n",
       "      <th>duration</th>\n",
       "      <th>credit_amount</th>\n",
       "      <th>installment_commitment</th>\n",
       "      <th>residence_since</th>\n",
       "      <th>age</th>\n",
       "      <th>existing_credits</th>\n",
       "      <th>num_dependents</th>\n",
       "      <th>checking_status_'&lt;0'</th>\n",
       "      <th>checking_status_'&gt;=200'</th>\n",
       "      <th>checking_status_'no checking'</th>\n",
       "      <th>...</th>\n",
       "      <th>savings_status_kterm</th>\n",
       "      <th>employment_kterm</th>\n",
       "      <th>personal_status_kterm</th>\n",
       "      <th>other_parties_kterm</th>\n",
       "      <th>property_magnitude_kterm</th>\n",
       "      <th>other_payment_plans_kterm</th>\n",
       "      <th>housing_kterm</th>\n",
       "      <th>job_kterm</th>\n",
       "      <th>own_telephone_kterm</th>\n",
       "      <th>foreign_worker_kterm</th>\n",
       "    </tr>\n",
       "  </thead>\n",
       "  <tbody>\n",
       "    <tr>\n",
       "      <th>0</th>\n",
       "      <td>6</td>\n",
       "      <td>1169</td>\n",
       "      <td>4</td>\n",
       "      <td>4</td>\n",
       "      <td>67.0</td>\n",
       "      <td>2</td>\n",
       "      <td>1</td>\n",
       "      <td>1.0</td>\n",
       "      <td>0.0</td>\n",
       "      <td>0.0</td>\n",
       "      <td>...</td>\n",
       "      <td>183</td>\n",
       "      <td>253</td>\n",
       "      <td>548</td>\n",
       "      <td>907</td>\n",
       "      <td>282</td>\n",
       "      <td>814</td>\n",
       "      <td>713</td>\n",
       "      <td>630</td>\n",
       "      <td>404</td>\n",
       "      <td>963</td>\n",
       "    </tr>\n",
       "    <tr>\n",
       "      <th>1</th>\n",
       "      <td>48</td>\n",
       "      <td>5951</td>\n",
       "      <td>2</td>\n",
       "      <td>2</td>\n",
       "      <td>22.0</td>\n",
       "      <td>1</td>\n",
       "      <td>1</td>\n",
       "      <td>0.0</td>\n",
       "      <td>0.0</td>\n",
       "      <td>0.0</td>\n",
       "      <td>...</td>\n",
       "      <td>603</td>\n",
       "      <td>339</td>\n",
       "      <td>310</td>\n",
       "      <td>907</td>\n",
       "      <td>282</td>\n",
       "      <td>814</td>\n",
       "      <td>713</td>\n",
       "      <td>630</td>\n",
       "      <td>596</td>\n",
       "      <td>963</td>\n",
       "    </tr>\n",
       "    <tr>\n",
       "      <th>2</th>\n",
       "      <td>12</td>\n",
       "      <td>2096</td>\n",
       "      <td>2</td>\n",
       "      <td>3</td>\n",
       "      <td>49.0</td>\n",
       "      <td>1</td>\n",
       "      <td>2</td>\n",
       "      <td>0.0</td>\n",
       "      <td>0.0</td>\n",
       "      <td>1.0</td>\n",
       "      <td>...</td>\n",
       "      <td>603</td>\n",
       "      <td>174</td>\n",
       "      <td>548</td>\n",
       "      <td>907</td>\n",
       "      <td>282</td>\n",
       "      <td>814</td>\n",
       "      <td>713</td>\n",
       "      <td>200</td>\n",
       "      <td>596</td>\n",
       "      <td>963</td>\n",
       "    </tr>\n",
       "    <tr>\n",
       "      <th>3</th>\n",
       "      <td>42</td>\n",
       "      <td>7882</td>\n",
       "      <td>2</td>\n",
       "      <td>4</td>\n",
       "      <td>45.0</td>\n",
       "      <td>1</td>\n",
       "      <td>2</td>\n",
       "      <td>1.0</td>\n",
       "      <td>0.0</td>\n",
       "      <td>0.0</td>\n",
       "      <td>...</td>\n",
       "      <td>603</td>\n",
       "      <td>174</td>\n",
       "      <td>548</td>\n",
       "      <td>52</td>\n",
       "      <td>232</td>\n",
       "      <td>814</td>\n",
       "      <td>108</td>\n",
       "      <td>630</td>\n",
       "      <td>596</td>\n",
       "      <td>963</td>\n",
       "    </tr>\n",
       "    <tr>\n",
       "      <th>4</th>\n",
       "      <td>24</td>\n",
       "      <td>4870</td>\n",
       "      <td>3</td>\n",
       "      <td>4</td>\n",
       "      <td>53.0</td>\n",
       "      <td>2</td>\n",
       "      <td>2</td>\n",
       "      <td>1.0</td>\n",
       "      <td>0.0</td>\n",
       "      <td>0.0</td>\n",
       "      <td>...</td>\n",
       "      <td>603</td>\n",
       "      <td>339</td>\n",
       "      <td>548</td>\n",
       "      <td>907</td>\n",
       "      <td>154</td>\n",
       "      <td>814</td>\n",
       "      <td>108</td>\n",
       "      <td>630</td>\n",
       "      <td>596</td>\n",
       "      <td>963</td>\n",
       "    </tr>\n",
       "  </tbody>\n",
       "</table>\n",
       "<p>5 rows × 53 columns</p>\n",
       "</div>"
      ],
      "text/plain": [
       "   duration  credit_amount  installment_commitment  residence_since   age  \\\n",
       "0         6           1169                       4                4  67.0   \n",
       "1        48           5951                       2                2  22.0   \n",
       "2        12           2096                       2                3  49.0   \n",
       "3        42           7882                       2                4  45.0   \n",
       "4        24           4870                       3                4  53.0   \n",
       "\n",
       "   existing_credits  num_dependents  checking_status_'<0'  \\\n",
       "0                 2               1                   1.0   \n",
       "1                 1               1                   0.0   \n",
       "2                 1               2                   0.0   \n",
       "3                 1               2                   1.0   \n",
       "4                 2               2                   1.0   \n",
       "\n",
       "   checking_status_'>=200'  checking_status_'no checking'  ...  \\\n",
       "0                      0.0                            0.0  ...   \n",
       "1                      0.0                            0.0  ...   \n",
       "2                      0.0                            1.0  ...   \n",
       "3                      0.0                            0.0  ...   \n",
       "4                      0.0                            0.0  ...   \n",
       "\n",
       "   savings_status_kterm  employment_kterm  personal_status_kterm  \\\n",
       "0                   183               253                    548   \n",
       "1                   603               339                    310   \n",
       "2                   603               174                    548   \n",
       "3                   603               174                    548   \n",
       "4                   603               339                    548   \n",
       "\n",
       "   other_parties_kterm  property_magnitude_kterm  other_payment_plans_kterm  \\\n",
       "0                  907                       282                        814   \n",
       "1                  907                       282                        814   \n",
       "2                  907                       282                        814   \n",
       "3                   52                       232                        814   \n",
       "4                  907                       154                        814   \n",
       "\n",
       "   housing_kterm  job_kterm  own_telephone_kterm  foreign_worker_kterm  \n",
       "0            713        630                  404                   963  \n",
       "1            713        630                  596                   963  \n",
       "2            713        200                  596                   963  \n",
       "3            108        630                  596                   963  \n",
       "4            108        630                  596                   963  \n",
       "\n",
       "[5 rows x 53 columns]"
      ]
     },
     "execution_count": 11,
     "metadata": {},
     "output_type": "execute_result"
    }
   ],
   "source": [
    "dfx.head()"
   ]
  },
  {
   "cell_type": "code",
   "execution_count": 12,
   "metadata": {
    "ExecuteTime": {
     "end_time": "2021-07-15T08:18:47.508963Z",
     "start_time": "2021-07-15T08:18:47.477443Z"
    }
   },
   "outputs": [
    {
     "data": {
      "text/plain": [
       "0    1\n",
       "1    0\n",
       "2    1\n",
       "3    1\n",
       "4    0\n",
       "dtype: int64"
      ]
     },
     "execution_count": 12,
     "metadata": {},
     "output_type": "execute_result"
    }
   ],
   "source": [
    "dfy.head()"
   ]
  },
  {
   "cell_type": "markdown",
   "metadata": {},
   "source": [
    "## Datetime\n",
    "Date data is usually defaulted to object type when the data is read. Direct encoding will mask the time information. DataFactory has implemented a method to extract these information. It take the target columns as input and output a dataframe containing all the information hide in this columns.\n"
   ]
  },
  {
   "cell_type": "code",
   "execution_count": 13,
   "metadata": {
    "ExecuteTime": {
     "end_time": "2021-07-15T08:18:47.530003Z",
     "start_time": "2021-07-15T08:18:47.515440Z"
    }
   },
   "outputs": [],
   "source": [
    "df_dt = pd.read_csv('../data/raw_run.csv', sep = ';')"
   ]
  },
  {
   "cell_type": "code",
   "execution_count": 14,
   "metadata": {
    "ExecuteTime": {
     "end_time": "2021-07-15T08:18:47.557539Z",
     "start_time": "2021-07-15T08:18:47.536538Z"
    }
   },
   "outputs": [
    {
     "data": {
      "text/html": [
       "<div>\n",
       "<style scoped>\n",
       "    .dataframe tbody tr th:only-of-type {\n",
       "        vertical-align: middle;\n",
       "    }\n",
       "\n",
       "    .dataframe tbody tr th {\n",
       "        vertical-align: top;\n",
       "    }\n",
       "\n",
       "    .dataframe thead th {\n",
       "        text-align: right;\n",
       "    }\n",
       "</style>\n",
       "<table border=\"1\" class=\"dataframe\">\n",
       "  <thead>\n",
       "    <tr style=\"text-align: right;\">\n",
       "      <th></th>\n",
       "      <th>id</th>\n",
       "      <th>artm</th>\n",
       "      <th>start_time</th>\n",
       "      <th>end_time</th>\n",
       "      <th>result</th>\n",
       "      <th>project</th>\n",
       "    </tr>\n",
       "  </thead>\n",
       "  <tbody>\n",
       "    <tr>\n",
       "      <th>0</th>\n",
       "      <td>0</td>\n",
       "      <td>NaN</td>\n",
       "      <td>2017-05-30 09:21:05.000</td>\n",
       "      <td>2017-05-30 09:22:41.607</td>\n",
       "      <td>End of loop</td>\n",
       "      <td>PCB Assembly: Baseline (4 Resistors, no offset...</td>\n",
       "    </tr>\n",
       "    <tr>\n",
       "      <th>1</th>\n",
       "      <td>1</td>\n",
       "      <td>NaN</td>\n",
       "      <td>2017-05-30 09:22:42.000</td>\n",
       "      <td>2017-05-30 09:24:15.538</td>\n",
       "      <td>End of loop</td>\n",
       "      <td>PCB Assembly: Baseline (4 Resistors, no offset...</td>\n",
       "    </tr>\n",
       "    <tr>\n",
       "      <th>2</th>\n",
       "      <td>2</td>\n",
       "      <td>NaN</td>\n",
       "      <td>2017-05-30 09:24:15.000</td>\n",
       "      <td>2017-05-30 09:25:49.391</td>\n",
       "      <td>End of loop</td>\n",
       "      <td>PCB Assembly: Baseline (4 Resistors, no offset...</td>\n",
       "    </tr>\n",
       "    <tr>\n",
       "      <th>3</th>\n",
       "      <td>3</td>\n",
       "      <td>NaN</td>\n",
       "      <td>2017-05-30 09:25:49.000</td>\n",
       "      <td>2017-05-30 09:27:23.323</td>\n",
       "      <td>End of loop</td>\n",
       "      <td>PCB Assembly: Baseline (4 Resistors, no offset...</td>\n",
       "    </tr>\n",
       "    <tr>\n",
       "      <th>4</th>\n",
       "      <td>4</td>\n",
       "      <td>NaN</td>\n",
       "      <td>2017-05-30 09:27:23.000</td>\n",
       "      <td>2017-05-30 09:28:57.082</td>\n",
       "      <td>End of loop</td>\n",
       "      <td>PCB Assembly: Baseline (4 Resistors, no offset...</td>\n",
       "    </tr>\n",
       "  </tbody>\n",
       "</table>\n",
       "</div>"
      ],
      "text/plain": [
       "   id  artm               start_time                 end_time        result  \\\n",
       "0   0   NaN  2017-05-30 09:21:05.000  2017-05-30 09:22:41.607  End of loop    \n",
       "1   1   NaN  2017-05-30 09:22:42.000  2017-05-30 09:24:15.538  End of loop    \n",
       "2   2   NaN  2017-05-30 09:24:15.000  2017-05-30 09:25:49.391  End of loop    \n",
       "3   3   NaN  2017-05-30 09:25:49.000  2017-05-30 09:27:23.323  End of loop    \n",
       "4   4   NaN  2017-05-30 09:27:23.000  2017-05-30 09:28:57.082  End of loop    \n",
       "\n",
       "                                             project  \n",
       "0  PCB Assembly: Baseline (4 Resistors, no offset...  \n",
       "1  PCB Assembly: Baseline (4 Resistors, no offset...  \n",
       "2  PCB Assembly: Baseline (4 Resistors, no offset...  \n",
       "3  PCB Assembly: Baseline (4 Resistors, no offset...  \n",
       "4  PCB Assembly: Baseline (4 Resistors, no offset...  "
      ]
     },
     "execution_count": 14,
     "metadata": {},
     "output_type": "execute_result"
    }
   ],
   "source": [
    "df_dt.head()"
   ]
  },
  {
   "cell_type": "code",
   "execution_count": 15,
   "metadata": {
    "ExecuteTime": {
     "end_time": "2021-07-15T08:18:47.578043Z",
     "start_time": "2021-07-15T08:18:47.562549Z"
    }
   },
   "outputs": [
    {
     "name": "stdout",
     "output_type": "stream",
     "text": [
      "<class 'pandas.core.frame.DataFrame'>\n",
      "RangeIndex: 127 entries, 0 to 126\n",
      "Data columns (total 6 columns):\n",
      " #   Column      Non-Null Count  Dtype  \n",
      "---  ------      --------------  -----  \n",
      " 0   id          127 non-null    int64  \n",
      " 1   artm        0 non-null      float64\n",
      " 2   start_time  127 non-null    object \n",
      " 3   end_time    127 non-null    object \n",
      " 4   result      126 non-null    object \n",
      " 5   project     127 non-null    object \n",
      "dtypes: float64(1), int64(1), object(4)\n",
      "memory usage: 6.1+ KB\n"
     ]
    }
   ],
   "source": [
    "df_dt.info()"
   ]
  },
  {
   "cell_type": "markdown",
   "metadata": {
    "ExecuteTime": {
     "end_time": "2021-07-14T15:02:52.073218Z",
     "start_time": "2021-07-14T15:02:52.048745Z"
    }
   },
   "source": [
    "We find that the start_time and end_time are recognized as object here. To extract its inforation, we apply the method below:"
   ]
  },
  {
   "cell_type": "code",
   "execution_count": 16,
   "metadata": {
    "ExecuteTime": {
     "end_time": "2021-07-15T08:18:47.730145Z",
     "start_time": "2021-07-15T08:18:47.585334Z"
    }
   },
   "outputs": [
    {
     "name": "stderr",
     "output_type": "stream",
     "text": [
      "2021-07-15 10:18:47,587 - DataFactory - INFO - + Start to extract datetime information from: start_time\n",
      "2021-07-15 10:18:47,713 - DataFactory - INFO - - End with date time information extraction\n"
     ]
    },
    {
     "data": {
      "text/html": [
       "<div>\n",
       "<style scoped>\n",
       "    .dataframe tbody tr th:only-of-type {\n",
       "        vertical-align: middle;\n",
       "    }\n",
       "\n",
       "    .dataframe tbody tr th {\n",
       "        vertical-align: top;\n",
       "    }\n",
       "\n",
       "    .dataframe thead th {\n",
       "        text-align: right;\n",
       "    }\n",
       "</style>\n",
       "<table border=\"1\" class=\"dataframe\">\n",
       "  <thead>\n",
       "    <tr style=\"text-align: right;\">\n",
       "      <th></th>\n",
       "      <th>start_time_year</th>\n",
       "      <th>start_time_month</th>\n",
       "      <th>start_time_day</th>\n",
       "      <th>start_time_dayofyear</th>\n",
       "      <th>start_time_dayofweek</th>\n",
       "      <th>start_time_hour</th>\n",
       "      <th>start_time_minute</th>\n",
       "      <th>start_time_second</th>\n",
       "      <th>start_time_microsecond</th>\n",
       "    </tr>\n",
       "  </thead>\n",
       "  <tbody>\n",
       "    <tr>\n",
       "      <th>0</th>\n",
       "      <td>2017</td>\n",
       "      <td>5</td>\n",
       "      <td>30</td>\n",
       "      <td>150</td>\n",
       "      <td>1</td>\n",
       "      <td>9</td>\n",
       "      <td>21</td>\n",
       "      <td>5</td>\n",
       "      <td>0</td>\n",
       "    </tr>\n",
       "    <tr>\n",
       "      <th>1</th>\n",
       "      <td>2017</td>\n",
       "      <td>5</td>\n",
       "      <td>30</td>\n",
       "      <td>150</td>\n",
       "      <td>1</td>\n",
       "      <td>9</td>\n",
       "      <td>22</td>\n",
       "      <td>42</td>\n",
       "      <td>0</td>\n",
       "    </tr>\n",
       "    <tr>\n",
       "      <th>2</th>\n",
       "      <td>2017</td>\n",
       "      <td>5</td>\n",
       "      <td>30</td>\n",
       "      <td>150</td>\n",
       "      <td>1</td>\n",
       "      <td>9</td>\n",
       "      <td>24</td>\n",
       "      <td>15</td>\n",
       "      <td>0</td>\n",
       "    </tr>\n",
       "    <tr>\n",
       "      <th>3</th>\n",
       "      <td>2017</td>\n",
       "      <td>5</td>\n",
       "      <td>30</td>\n",
       "      <td>150</td>\n",
       "      <td>1</td>\n",
       "      <td>9</td>\n",
       "      <td>25</td>\n",
       "      <td>49</td>\n",
       "      <td>0</td>\n",
       "    </tr>\n",
       "    <tr>\n",
       "      <th>4</th>\n",
       "      <td>2017</td>\n",
       "      <td>5</td>\n",
       "      <td>30</td>\n",
       "      <td>150</td>\n",
       "      <td>1</td>\n",
       "      <td>9</td>\n",
       "      <td>27</td>\n",
       "      <td>23</td>\n",
       "      <td>0</td>\n",
       "    </tr>\n",
       "    <tr>\n",
       "      <th>...</th>\n",
       "      <td>...</td>\n",
       "      <td>...</td>\n",
       "      <td>...</td>\n",
       "      <td>...</td>\n",
       "      <td>...</td>\n",
       "      <td>...</td>\n",
       "      <td>...</td>\n",
       "      <td>...</td>\n",
       "      <td>...</td>\n",
       "    </tr>\n",
       "    <tr>\n",
       "      <th>122</th>\n",
       "      <td>2017</td>\n",
       "      <td>6</td>\n",
       "      <td>2</td>\n",
       "      <td>153</td>\n",
       "      <td>4</td>\n",
       "      <td>12</td>\n",
       "      <td>15</td>\n",
       "      <td>30</td>\n",
       "      <td>0</td>\n",
       "    </tr>\n",
       "    <tr>\n",
       "      <th>123</th>\n",
       "      <td>2017</td>\n",
       "      <td>6</td>\n",
       "      <td>2</td>\n",
       "      <td>153</td>\n",
       "      <td>4</td>\n",
       "      <td>12</td>\n",
       "      <td>15</td>\n",
       "      <td>59</td>\n",
       "      <td>0</td>\n",
       "    </tr>\n",
       "    <tr>\n",
       "      <th>124</th>\n",
       "      <td>2017</td>\n",
       "      <td>6</td>\n",
       "      <td>2</td>\n",
       "      <td>153</td>\n",
       "      <td>4</td>\n",
       "      <td>12</td>\n",
       "      <td>35</td>\n",
       "      <td>39</td>\n",
       "      <td>0</td>\n",
       "    </tr>\n",
       "    <tr>\n",
       "      <th>125</th>\n",
       "      <td>2017</td>\n",
       "      <td>6</td>\n",
       "      <td>2</td>\n",
       "      <td>153</td>\n",
       "      <td>4</td>\n",
       "      <td>12</td>\n",
       "      <td>38</td>\n",
       "      <td>58</td>\n",
       "      <td>0</td>\n",
       "    </tr>\n",
       "    <tr>\n",
       "      <th>126</th>\n",
       "      <td>2017</td>\n",
       "      <td>6</td>\n",
       "      <td>2</td>\n",
       "      <td>153</td>\n",
       "      <td>4</td>\n",
       "      <td>16</td>\n",
       "      <td>13</td>\n",
       "      <td>23</td>\n",
       "      <td>0</td>\n",
       "    </tr>\n",
       "  </tbody>\n",
       "</table>\n",
       "<p>127 rows × 9 columns</p>\n",
       "</div>"
      ],
      "text/plain": [
       "     start_time_year  start_time_month  start_time_day  start_time_dayofyear  \\\n",
       "0               2017                 5              30                   150   \n",
       "1               2017                 5              30                   150   \n",
       "2               2017                 5              30                   150   \n",
       "3               2017                 5              30                   150   \n",
       "4               2017                 5              30                   150   \n",
       "..               ...               ...             ...                   ...   \n",
       "122             2017                 6               2                   153   \n",
       "123             2017                 6               2                   153   \n",
       "124             2017                 6               2                   153   \n",
       "125             2017                 6               2                   153   \n",
       "126             2017                 6               2                   153   \n",
       "\n",
       "     start_time_dayofweek  start_time_hour  start_time_minute  \\\n",
       "0                       1                9                 21   \n",
       "1                       1                9                 22   \n",
       "2                       1                9                 24   \n",
       "3                       1                9                 25   \n",
       "4                       1                9                 27   \n",
       "..                    ...              ...                ...   \n",
       "122                     4               12                 15   \n",
       "123                     4               12                 15   \n",
       "124                     4               12                 35   \n",
       "125                     4               12                 38   \n",
       "126                     4               16                 13   \n",
       "\n",
       "     start_time_second  start_time_microsecond  \n",
       "0                    5                       0  \n",
       "1                   42                       0  \n",
       "2                   15                       0  \n",
       "3                   49                       0  \n",
       "4                   23                       0  \n",
       "..                 ...                     ...  \n",
       "122                 30                       0  \n",
       "123                 59                       0  \n",
       "124                 39                       0  \n",
       "125                 58                       0  \n",
       "126                 23                       0  \n",
       "\n",
       "[127 rows x 9 columns]"
      ]
     },
     "execution_count": 16,
     "metadata": {},
     "output_type": "execute_result"
    }
   ],
   "source": [
    "datafactory = DataFactory()\n",
    "datafactory.extract_date_information(df_dt['start_time'])"
   ]
  },
  {
   "cell_type": "markdown",
   "metadata": {},
   "source": [
    "## NA value\n",
    "NA value, or missing value is the missing value in the data. When the data with messing value is loaded, the missing value generally appears as NA. Missing values in general can be classified as follows：\n",
    "- MAR(Missing at random): Random missing means that the probability of missing data is not related to the missing data itself, but only to the partially observed data. That is, the missing data is not completely random and the missing data of that type depends on other complete variables\n",
    "- MCAR(Missing complete at random): Missing data is completely random\n",
    "- MNAR(Missing not at random): Missing data is related to the value of the incomplete variable itself, e.g.,Women usually do not want to reveal their age.\n",
    "\n",
    "There are many reasons for missing values, some of the more classic ones include:\n",
    "- Information is temporarily unavailable\n",
    "- Data is not recorded, omitted or lost due to human factors, this is the main reason for missing data\n",
    "- Data loss due to failure of data acquisition equipment, storage media, transmission media failure\n",
    "- The cost of obtaining this information is too high\n",
    "- Some objects have one or more attributes that are not available, e.g., the name of the spouse of an unmarried person\n",
    "\n",
    "The best way to handle NA value is to analyze the cause of generation and deal with them one by one according to the cause. However, this method is time consuming when the amount of missing values is large, and as an alternative, the following methods are generally used to handle missing values.\n",
    "- delete feature: If a feature has a relatively high missing rate (80%) and is of low importance, you can simply delete the feature.\n",
    "- delete record: Not recommended, unless most of the values of the record are na\n",
    "- filling:\n",
    "  - filling manually\n",
    "  - filling dummy: Filling with special value, e.g., 0, 'other'\n",
    "  - filling statistically: Filling in missing values with statistical values, e.g., mean, max, min, mode \n",
    "  - filling interpolation: including random interpolation, multiple differential interpolation, thermal platform interpolation, Lagrangian interpolation, Newton interpolation, etc.\n",
    "  - filling model: Prediction of missing data using models such as K-nearest neighbor, regression, Bayesian, random forest, and decision tree. \n",
    "\n",
    "DataFactory currently implements a method 'clean_dat' with two strategy to fill the na value, i.e., using statistics to fill up and using models to fill up. The first one the least time consuming and the second one is the most accurate.\n",
    "\n",
    "A noteworthy point is that since most models have requirements for the format of the data, the method converts the data type to float32 and disposes of all inf values, in addition to filling in the na values.\n",
    "\n",
    "'clean_dat' method takes a dataframe and a string as input and output the dataframe without na:\n",
    "- dat: pd.DataFrame \n",
    "- strategy: string. there are 5 strategies to be selected ['model', 'mean', 'median', 'most_frequent', 'constant']]\n",
    "\n",
    "First we check how many na values are present in the data."
   ]
  },
  {
   "cell_type": "code",
   "execution_count": 17,
   "metadata": {
    "ExecuteTime": {
     "end_time": "2021-07-15T08:18:47.770604Z",
     "start_time": "2021-07-15T08:18:47.735881Z"
    },
    "scrolled": true
   },
   "outputs": [
    {
     "data": {
      "text/plain": [
       "duration                                           0\n",
       "credit_amount                                      0\n",
       "installment_commitment                             0\n",
       "residence_since                                    0\n",
       "age                                                1\n",
       "existing_credits                                   0\n",
       "num_dependents                                     0\n",
       "checking_status_'<0'                               0\n",
       "checking_status_'>=200'                            0\n",
       "checking_status_'no checking'                      0\n",
       "credit_history_'critical/other existing credit'    0\n",
       "credit_history_'delayed previously'                0\n",
       "credit_history_'existing paid'                     0\n",
       "credit_history_'no credits/all paid'               0\n",
       "savings_status_'500<=X<1000'                       0\n",
       "savings_status_'<100'                              0\n",
       "savings_status_'>=1000'                            0\n",
       "savings_status_'no known savings'                  0\n",
       "employment_'4<=X<7'                                0\n",
       "employment_'<1'                                    0\n",
       "employment_'>=7'                                   0\n",
       "employment_unemployed                              0\n",
       "personal_status_'male div/sep'                     0\n",
       "personal_status_'male mar/wid'                     0\n",
       "personal_status_'male single'                      0\n",
       "other_parties_guarantor                            0\n",
       "other_parties_none                                 0\n",
       "property_magnitude_'no known property'             0\n",
       "property_magnitude_'real estate'                   0\n",
       "property_magnitude_car                             0\n",
       "other_payment_plans_none                           0\n",
       "other_payment_plans_stores                         0\n",
       "housing_own                                        0\n",
       "housing_rent                                       0\n",
       "job_'unemp/unskilled non res'                      0\n",
       "job_'unskilled resident'                           0\n",
       "job_skilled                                        0\n",
       "own_telephone_yes                                  0\n",
       "foreign_worker_yes                                 0\n",
       "purpose                                            0\n",
       "checking_status_kterm                              0\n",
       "credit_history_kterm                               0\n",
       "purpose_kterm                                      0\n",
       "savings_status_kterm                               0\n",
       "employment_kterm                                   0\n",
       "personal_status_kterm                              0\n",
       "other_parties_kterm                                0\n",
       "property_magnitude_kterm                           0\n",
       "other_payment_plans_kterm                          0\n",
       "housing_kterm                                      0\n",
       "job_kterm                                          0\n",
       "own_telephone_kterm                                0\n",
       "foreign_worker_kterm                               0\n",
       "dtype: int64"
      ]
     },
     "execution_count": 17,
     "metadata": {},
     "output_type": "execute_result"
    }
   ],
   "source": [
    "dfx.isna().sum()"
   ]
  },
  {
   "cell_type": "code",
   "execution_count": 18,
   "metadata": {
    "ExecuteTime": {
     "end_time": "2021-07-15T08:18:47.858471Z",
     "start_time": "2021-07-15T08:18:47.781093Z"
    }
   },
   "outputs": [
    {
     "data": {
      "text/html": [
       "<div>\n",
       "<style scoped>\n",
       "    .dataframe tbody tr th:only-of-type {\n",
       "        vertical-align: middle;\n",
       "    }\n",
       "\n",
       "    .dataframe tbody tr th {\n",
       "        vertical-align: top;\n",
       "    }\n",
       "\n",
       "    .dataframe thead th {\n",
       "        text-align: right;\n",
       "    }\n",
       "</style>\n",
       "<table border=\"1\" class=\"dataframe\">\n",
       "  <thead>\n",
       "    <tr style=\"text-align: right;\">\n",
       "      <th></th>\n",
       "      <th>duration</th>\n",
       "      <th>credit_amount</th>\n",
       "      <th>installment_commitment</th>\n",
       "      <th>residence_since</th>\n",
       "      <th>age</th>\n",
       "      <th>existing_credits</th>\n",
       "      <th>num_dependents</th>\n",
       "      <th>checking_status_'&lt;0'</th>\n",
       "      <th>checking_status_'&gt;=200'</th>\n",
       "      <th>checking_status_'no checking'</th>\n",
       "      <th>...</th>\n",
       "      <th>savings_status_kterm</th>\n",
       "      <th>employment_kterm</th>\n",
       "      <th>personal_status_kterm</th>\n",
       "      <th>other_parties_kterm</th>\n",
       "      <th>property_magnitude_kterm</th>\n",
       "      <th>other_payment_plans_kterm</th>\n",
       "      <th>housing_kterm</th>\n",
       "      <th>job_kterm</th>\n",
       "      <th>own_telephone_kterm</th>\n",
       "      <th>foreign_worker_kterm</th>\n",
       "    </tr>\n",
       "  </thead>\n",
       "  <tbody>\n",
       "    <tr>\n",
       "      <th>10</th>\n",
       "      <td>12</td>\n",
       "      <td>1295</td>\n",
       "      <td>3</td>\n",
       "      <td>1</td>\n",
       "      <td>NaN</td>\n",
       "      <td>1</td>\n",
       "      <td>1</td>\n",
       "      <td>0.0</td>\n",
       "      <td>0.0</td>\n",
       "      <td>0.0</td>\n",
       "      <td>...</td>\n",
       "      <td>603</td>\n",
       "      <td>172</td>\n",
       "      <td>310</td>\n",
       "      <td>907</td>\n",
       "      <td>332</td>\n",
       "      <td>814</td>\n",
       "      <td>179</td>\n",
       "      <td>630</td>\n",
       "      <td>596</td>\n",
       "      <td>963</td>\n",
       "    </tr>\n",
       "  </tbody>\n",
       "</table>\n",
       "<p>1 rows × 53 columns</p>\n",
       "</div>"
      ],
      "text/plain": [
       "    duration  credit_amount  installment_commitment  residence_since  age  \\\n",
       "10        12           1295                       3                1  NaN   \n",
       "\n",
       "    existing_credits  num_dependents  checking_status_'<0'  \\\n",
       "10                 1               1                   0.0   \n",
       "\n",
       "    checking_status_'>=200'  checking_status_'no checking'  ...  \\\n",
       "10                      0.0                            0.0  ...   \n",
       "\n",
       "    savings_status_kterm  employment_kterm  personal_status_kterm  \\\n",
       "10                   603               172                    310   \n",
       "\n",
       "    other_parties_kterm  property_magnitude_kterm  other_payment_plans_kterm  \\\n",
       "10                  907                       332                        814   \n",
       "\n",
       "    housing_kterm  job_kterm  own_telephone_kterm  foreign_worker_kterm  \n",
       "10            179        630                  596                   963  \n",
       "\n",
       "[1 rows x 53 columns]"
      ]
     },
     "execution_count": 18,
     "metadata": {},
     "output_type": "execute_result"
    }
   ],
   "source": [
    "dfx[dfx['age'].isna()]"
   ]
  },
  {
   "cell_type": "markdown",
   "metadata": {},
   "source": [
    "Only in the age feature exists a na-value, next we show the results of different filling methods"
   ]
  },
  {
   "cell_type": "code",
   "execution_count": 19,
   "metadata": {
    "ExecuteTime": {
     "end_time": "2021-07-15T08:18:47.871528Z",
     "start_time": "2021-07-15T08:18:47.863402Z"
    }
   },
   "outputs": [],
   "source": [
    "datafactory = DataFactory()"
   ]
  },
  {
   "cell_type": "code",
   "execution_count": 20,
   "metadata": {
    "ExecuteTime": {
     "end_time": "2021-07-15T08:18:48.497306Z",
     "start_time": "2021-07-15T08:18:47.876966Z"
    }
   },
   "outputs": [
    {
     "name": "stderr",
     "output_type": "stream",
     "text": [
      "2021-07-15 10:18:47,879 - DataFactory - INFO - + Start to clean the given dataframe\n",
      "2021-07-15 10:18:47,886 - DataFactory - INFO -     number of inf and nan are for dataset: (0, 1)\n",
      "2021-07-15 10:18:47,888 - DataFactory - INFO -     set type to float32 at first && deal with inf.\n",
      "2021-07-15 10:18:47,894 - DataFactory - INFO -     remove columns with half of nan\n",
      "2021-07-15 10:18:47,900 - DataFactory - INFO -     remove costant columns\n",
      "2021-07-15 10:18:47,919 - DataFactory - INFO -    start to fill the columns with nan\n",
      "2021-07-15 10:18:48,490 - DataFactory - INFO - - Finish with Data cleaning, number of inf and nan now are: (0, 0)\n"
     ]
    },
    {
     "data": {
      "text/plain": [
       "duration                    12.000000\n",
       "credit_amount             1295.000000\n",
       "installment_commitment       3.000000\n",
       "residence_since              1.000000\n",
       "age                         21.437548\n",
       "existing_credits             1.000000\n",
       "num_dependents               1.000000\n",
       "checking_status_'<0'         0.000000\n",
       "Name: 10, dtype: float32"
      ]
     },
     "execution_count": 20,
     "metadata": {},
     "output_type": "execute_result"
    }
   ],
   "source": [
    "tmp = datafactory.clean_dat(dfx, 'model')\n",
    "tmp.iloc[10,:8]"
   ]
  },
  {
   "cell_type": "code",
   "execution_count": 21,
   "metadata": {
    "ExecuteTime": {
     "end_time": "2021-07-15T08:18:48.688567Z",
     "start_time": "2021-07-15T08:18:48.502167Z"
    }
   },
   "outputs": [
    {
     "name": "stderr",
     "output_type": "stream",
     "text": [
      "2021-07-15 10:18:48,504 - DataFactory - INFO - + Start to clean the given dataframe\n",
      "2021-07-15 10:18:48,517 - DataFactory - INFO -     number of inf and nan are for dataset: (0, 1)\n",
      "2021-07-15 10:18:48,519 - DataFactory - INFO -     set type to float32 at first && deal with inf.\n",
      "2021-07-15 10:18:48,526 - DataFactory - INFO -     remove columns with half of nan\n",
      "2021-07-15 10:18:48,544 - DataFactory - INFO -     remove costant columns\n",
      "2021-07-15 10:18:48,618 - DataFactory - INFO -    start to fill the columns with nan\n",
      "2021-07-15 10:18:48,652 - DataFactory - INFO - - Finish with Data cleaning, number of inf and nan now are: (0, 0)\n"
     ]
    },
    {
     "data": {
      "text/plain": [
       "duration                    12.000000\n",
       "credit_amount             1295.000000\n",
       "installment_commitment       3.000000\n",
       "residence_since              1.000000\n",
       "age                         35.556557\n",
       "existing_credits             1.000000\n",
       "num_dependents               1.000000\n",
       "checking_status_'<0'         0.000000\n",
       "Name: 10, dtype: float32"
      ]
     },
     "execution_count": 21,
     "metadata": {},
     "output_type": "execute_result"
    }
   ],
   "source": [
    "tmp = datafactory.clean_dat(dfx, 'mean')\n",
    "tmp.iloc[10,:8]"
   ]
  },
  {
   "cell_type": "code",
   "execution_count": 22,
   "metadata": {
    "ExecuteTime": {
     "end_time": "2021-07-15T08:18:48.861853Z",
     "start_time": "2021-07-15T08:18:48.700994Z"
    }
   },
   "outputs": [
    {
     "name": "stderr",
     "output_type": "stream",
     "text": [
      "2021-07-15 10:18:48,710 - DataFactory - INFO - + Start to clean the given dataframe\n",
      "2021-07-15 10:18:48,727 - DataFactory - INFO -     number of inf and nan are for dataset: (0, 1)\n",
      "2021-07-15 10:18:48,728 - DataFactory - INFO -     set type to float32 at first && deal with inf.\n",
      "2021-07-15 10:18:48,736 - DataFactory - INFO -     remove columns with half of nan\n",
      "2021-07-15 10:18:48,743 - DataFactory - INFO -     remove costant columns\n",
      "2021-07-15 10:18:48,807 - DataFactory - INFO -    start to fill the columns with nan\n",
      "2021-07-15 10:18:48,836 - DataFactory - INFO - - Finish with Data cleaning, number of inf and nan now are: (0, 0)\n"
     ]
    },
    {
     "data": {
      "text/plain": [
       "duration                    12.0\n",
       "credit_amount             1295.0\n",
       "installment_commitment       3.0\n",
       "residence_since              1.0\n",
       "age                         33.0\n",
       "existing_credits             1.0\n",
       "num_dependents               1.0\n",
       "checking_status_'<0'         0.0\n",
       "Name: 10, dtype: float32"
      ]
     },
     "execution_count": 22,
     "metadata": {},
     "output_type": "execute_result"
    }
   ],
   "source": [
    "tmp = datafactory.clean_dat(dfx, 'median')\n",
    "tmp.iloc[10,:8]"
   ]
  },
  {
   "cell_type": "code",
   "execution_count": 23,
   "metadata": {
    "ExecuteTime": {
     "end_time": "2021-07-15T08:18:49.100281Z",
     "start_time": "2021-07-15T08:18:48.869826Z"
    }
   },
   "outputs": [
    {
     "name": "stderr",
     "output_type": "stream",
     "text": [
      "2021-07-15 10:18:48,879 - DataFactory - INFO - + Start to clean the given dataframe\n",
      "2021-07-15 10:18:48,943 - DataFactory - INFO -     number of inf and nan are for dataset: (0, 1)\n",
      "2021-07-15 10:18:48,959 - DataFactory - INFO -     set type to float32 at first && deal with inf.\n",
      "2021-07-15 10:18:48,975 - DataFactory - INFO -     remove columns with half of nan\n",
      "2021-07-15 10:18:48,981 - DataFactory - INFO -     remove costant columns\n",
      "2021-07-15 10:18:49,026 - DataFactory - INFO -    start to fill the columns with nan\n",
      "2021-07-15 10:18:49,075 - DataFactory - INFO - - Finish with Data cleaning, number of inf and nan now are: (0, 0)\n"
     ]
    },
    {
     "data": {
      "text/plain": [
       "duration                    12.0\n",
       "credit_amount             1295.0\n",
       "installment_commitment       3.0\n",
       "residence_since              1.0\n",
       "age                         27.0\n",
       "existing_credits             1.0\n",
       "num_dependents               1.0\n",
       "checking_status_'<0'         0.0\n",
       "Name: 10, dtype: float32"
      ]
     },
     "execution_count": 23,
     "metadata": {},
     "output_type": "execute_result"
    }
   ],
   "source": [
    "tmp = datafactory.clean_dat(dfx, 'most_frequent')\n",
    "tmp.iloc[10,:8]"
   ]
  },
  {
   "cell_type": "code",
   "execution_count": 24,
   "metadata": {
    "ExecuteTime": {
     "end_time": "2021-07-15T08:18:49.218277Z",
     "start_time": "2021-07-15T08:18:49.114424Z"
    }
   },
   "outputs": [
    {
     "name": "stderr",
     "output_type": "stream",
     "text": [
      "2021-07-15 10:18:49,116 - DataFactory - INFO - + Start to clean the given dataframe\n",
      "2021-07-15 10:18:49,125 - DataFactory - INFO -     number of inf and nan are for dataset: (0, 1)\n",
      "2021-07-15 10:18:49,127 - DataFactory - INFO -     set type to float32 at first && deal with inf.\n",
      "2021-07-15 10:18:49,140 - DataFactory - INFO -     remove columns with half of nan\n",
      "2021-07-15 10:18:49,155 - DataFactory - INFO -     remove costant columns\n",
      "2021-07-15 10:18:49,192 - DataFactory - INFO -    start to fill the columns with nan\n",
      "2021-07-15 10:18:49,206 - DataFactory - INFO - - Finish with Data cleaning, number of inf and nan now are: (0, 0)\n"
     ]
    },
    {
     "data": {
      "text/plain": [
       "duration                    12.0\n",
       "credit_amount             1295.0\n",
       "installment_commitment       3.0\n",
       "residence_since              1.0\n",
       "age                          0.0\n",
       "existing_credits             1.0\n",
       "num_dependents               1.0\n",
       "checking_status_'<0'         0.0\n",
       "Name: 10, dtype: float32"
      ]
     },
     "execution_count": 24,
     "metadata": {},
     "output_type": "execute_result"
    }
   ],
   "source": [
    "tmp = datafactory.clean_dat(dfx, 'constant')\n",
    "tmp.iloc[10,:8]"
   ]
  },
  {
   "cell_type": "markdown",
   "metadata": {},
   "source": [
    "As we know from the above demonstration, the final fill value differs greatly with different fill methods, so you should think carefully about the fill strategy before proceeding with the fill"
   ]
  },
  {
   "cell_type": "code",
   "execution_count": null,
   "metadata": {},
   "outputs": [],
   "source": []
  }
 ],
 "metadata": {
  "kernelspec": {
   "display_name": "work",
   "language": "python",
   "name": "work"
  },
  "language_info": {
   "codemirror_mode": {
    "name": "ipython",
    "version": 3
   },
   "file_extension": ".py",
   "mimetype": "text/x-python",
   "name": "python",
   "nbconvert_exporter": "python",
   "pygments_lexer": "ipython3",
   "version": "3.7.7"
  },
  "toc": {
   "base_numbering": 1,
   "nav_menu": {},
   "number_sections": true,
   "sideBar": true,
   "skip_h1_title": false,
   "title_cell": "Table of Contents",
   "title_sidebar": "Contents",
   "toc_cell": false,
   "toc_position": {},
   "toc_section_display": true,
   "toc_window_display": false
  }
 },
 "nbformat": 4,
 "nbformat_minor": 4
}
