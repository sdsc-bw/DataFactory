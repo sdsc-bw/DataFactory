{
 "cells": [
  {
   "cell_type": "markdown",
   "id": "38e4cdb8",
   "metadata": {},
   "source": [
    "<a href=\"https://colab.research.google.com/github/sdsc-bw/DataFactory/blob/develop/model_selection/Demo.ipynb\" target=\"_parent\"><img src=\"https://colab.research.google.com/assets/colab-badge.svg\" alt=\"Open In Colab\"/></a>"
   ]
  },
  {
   "cell_type": "markdown",
   "id": "b807f0b1",
   "metadata": {},
   "source": [
    "# Model selection"
   ]
  },
  {
   "cell_type": "markdown",
   "id": "c00f1464",
   "metadata": {},
   "source": [
    "There is a variety of models that can be used in machine learning like decision trees, random forests, neural networks...\n",
    "According to the problem, some models fit better than others. For example, for a simple problem it makes sense to use a more simple model like a decision tree, because more complex models like neural networks can lead to overfitting. Whereas these complexe models perform better at non-linear problems."
   ]
  },
  {
   "cell_type": "markdown",
   "id": "913adc23",
   "metadata": {},
   "source": [
    "## Import packages"
   ]
  },
  {
   "cell_type": "code",
   "execution_count": 1,
   "id": "54962dea",
   "metadata": {},
   "outputs": [],
   "source": [
    "root = '../'"
   ]
  },
  {
   "cell_type": "code",
   "execution_count": 15,
   "id": "1ebd2283",
   "metadata": {},
   "outputs": [],
   "source": [
    "import pandas as pd\n",
    "import sys\n",
    "from sklearn import tree\n",
    "from sklearn.ensemble import RandomForestClassifier\n",
    "from sklearn.metrics import f1_score\n",
    "sys.path.insert(0, root + \"codes\")\n",
    "\n",
    "from DataFactory import DataFactory"
   ]
  },
  {
   "cell_type": "markdown",
   "id": "9f40fdc5",
   "metadata": {},
   "source": [
    "## Load dataset: titanic dataset"
   ]
  },
  {
   "cell_type": "markdown",
   "id": "6116cd79",
   "metadata": {},
   "source": [
    "For this demo we use the [titanic dataset](https://www.kaggle.com/c/titanic-dataset/data) from kaggle. It contains the follwing information:\n",
    "- __passenger_id__ unique identifier for each passenger\n",
    "- __pclass__ class of the passenger  (1 = 1st; 2 = 2nd; 3 = 3rd)\n",
    "- __name__ name of the passenger\n",
    "- __sex__ sex of the passenger\n",
    "- __age__ age of the passenger in years\n",
    "- __sibsp__ number of siblings/souses aboard\n",
    "- __parch__ number of parents/children aboard\n",
    "- __ticket__ number of the ticket\n",
    "- __fare__ passenger fare in British pound\n",
    "- __cabin__ cabin of the passenger\n",
    "- __embarked__ port of embarkation (C = Cherbourg; Q = Queenstown; S = Southampton)\n",
    "- __boat__ Lifeboat\n",
    "- __body__ body identification number\n",
    "- __home.dest__ Home/Destination"
   ]
  },
  {
   "cell_type": "code",
   "execution_count": 3,
   "id": "9a4bcf14",
   "metadata": {},
   "outputs": [],
   "source": [
    "df = pd.read_csv('../data/titanic.csv')"
   ]
  },
  {
   "cell_type": "code",
   "execution_count": 4,
   "id": "28960896",
   "metadata": {},
   "outputs": [
    {
     "data": {
      "text/html": [
       "<div>\n",
       "<style scoped>\n",
       "    .dataframe tbody tr th:only-of-type {\n",
       "        vertical-align: middle;\n",
       "    }\n",
       "\n",
       "    .dataframe tbody tr th {\n",
       "        vertical-align: top;\n",
       "    }\n",
       "\n",
       "    .dataframe thead th {\n",
       "        text-align: right;\n",
       "    }\n",
       "</style>\n",
       "<table border=\"1\" class=\"dataframe\">\n",
       "  <thead>\n",
       "    <tr style=\"text-align: right;\">\n",
       "      <th></th>\n",
       "      <th>passenger_id</th>\n",
       "      <th>pclass</th>\n",
       "      <th>name</th>\n",
       "      <th>sex</th>\n",
       "      <th>age</th>\n",
       "      <th>sibsp</th>\n",
       "      <th>parch</th>\n",
       "      <th>ticket</th>\n",
       "      <th>fare</th>\n",
       "      <th>cabin</th>\n",
       "      <th>embarked</th>\n",
       "      <th>boat</th>\n",
       "      <th>body</th>\n",
       "      <th>home.dest</th>\n",
       "      <th>survived</th>\n",
       "    </tr>\n",
       "  </thead>\n",
       "  <tbody>\n",
       "    <tr>\n",
       "      <th>0</th>\n",
       "      <td>1216</td>\n",
       "      <td>3</td>\n",
       "      <td>Smyth, Miss. Julia</td>\n",
       "      <td>female</td>\n",
       "      <td>NaN</td>\n",
       "      <td>0</td>\n",
       "      <td>0</td>\n",
       "      <td>335432</td>\n",
       "      <td>7.7333</td>\n",
       "      <td>NaN</td>\n",
       "      <td>Q</td>\n",
       "      <td>13</td>\n",
       "      <td>NaN</td>\n",
       "      <td>NaN</td>\n",
       "      <td>1.0</td>\n",
       "    </tr>\n",
       "    <tr>\n",
       "      <th>1</th>\n",
       "      <td>699</td>\n",
       "      <td>3</td>\n",
       "      <td>Cacic, Mr. Luka</td>\n",
       "      <td>male</td>\n",
       "      <td>38.0</td>\n",
       "      <td>0</td>\n",
       "      <td>0</td>\n",
       "      <td>315089</td>\n",
       "      <td>8.6625</td>\n",
       "      <td>NaN</td>\n",
       "      <td>S</td>\n",
       "      <td>NaN</td>\n",
       "      <td>NaN</td>\n",
       "      <td>Croatia</td>\n",
       "      <td>0.0</td>\n",
       "    </tr>\n",
       "    <tr>\n",
       "      <th>2</th>\n",
       "      <td>1267</td>\n",
       "      <td>3</td>\n",
       "      <td>Van Impe, Mrs. Jean Baptiste (Rosalie Paula Go...</td>\n",
       "      <td>female</td>\n",
       "      <td>30.0</td>\n",
       "      <td>1</td>\n",
       "      <td>1</td>\n",
       "      <td>345773</td>\n",
       "      <td>24.1500</td>\n",
       "      <td>NaN</td>\n",
       "      <td>S</td>\n",
       "      <td>NaN</td>\n",
       "      <td>NaN</td>\n",
       "      <td>NaN</td>\n",
       "      <td>0.0</td>\n",
       "    </tr>\n",
       "    <tr>\n",
       "      <th>3</th>\n",
       "      <td>449</td>\n",
       "      <td>2</td>\n",
       "      <td>Hocking, Mrs. Elizabeth (Eliza Needs)</td>\n",
       "      <td>female</td>\n",
       "      <td>54.0</td>\n",
       "      <td>1</td>\n",
       "      <td>3</td>\n",
       "      <td>29105</td>\n",
       "      <td>23.0000</td>\n",
       "      <td>NaN</td>\n",
       "      <td>S</td>\n",
       "      <td>4</td>\n",
       "      <td>NaN</td>\n",
       "      <td>Cornwall / Akron, OH</td>\n",
       "      <td>1.0</td>\n",
       "    </tr>\n",
       "    <tr>\n",
       "      <th>4</th>\n",
       "      <td>576</td>\n",
       "      <td>2</td>\n",
       "      <td>Veal, Mr. James</td>\n",
       "      <td>male</td>\n",
       "      <td>40.0</td>\n",
       "      <td>0</td>\n",
       "      <td>0</td>\n",
       "      <td>28221</td>\n",
       "      <td>13.0000</td>\n",
       "      <td>NaN</td>\n",
       "      <td>S</td>\n",
       "      <td>NaN</td>\n",
       "      <td>NaN</td>\n",
       "      <td>Barre, Co Washington, VT</td>\n",
       "      <td>0.0</td>\n",
       "    </tr>\n",
       "  </tbody>\n",
       "</table>\n",
       "</div>"
      ],
      "text/plain": [
       "   passenger_id  pclass                                               name  \\\n",
       "0          1216       3                                 Smyth, Miss. Julia   \n",
       "1           699       3                                    Cacic, Mr. Luka   \n",
       "2          1267       3  Van Impe, Mrs. Jean Baptiste (Rosalie Paula Go...   \n",
       "3           449       2              Hocking, Mrs. Elizabeth (Eliza Needs)   \n",
       "4           576       2                                    Veal, Mr. James   \n",
       "\n",
       "      sex   age  sibsp  parch  ticket     fare cabin embarked boat  body  \\\n",
       "0  female   NaN      0      0  335432   7.7333   NaN        Q   13   NaN   \n",
       "1    male  38.0      0      0  315089   8.6625   NaN        S  NaN   NaN   \n",
       "2  female  30.0      1      1  345773  24.1500   NaN        S  NaN   NaN   \n",
       "3  female  54.0      1      3   29105  23.0000   NaN        S    4   NaN   \n",
       "4    male  40.0      0      0   28221  13.0000   NaN        S  NaN   NaN   \n",
       "\n",
       "                  home.dest  survived  \n",
       "0                       NaN       1.0  \n",
       "1                   Croatia       0.0  \n",
       "2                       NaN       0.0  \n",
       "3      Cornwall / Akron, OH       1.0  \n",
       "4  Barre, Co Washington, VT       0.0  "
      ]
     },
     "execution_count": 4,
     "metadata": {},
     "output_type": "execute_result"
    }
   ],
   "source": [
    "df.head()"
   ]
  },
  {
   "cell_type": "code",
   "execution_count": 5,
   "id": "f7edd935",
   "metadata": {
    "scrolled": true
   },
   "outputs": [
    {
     "name": "stdout",
     "output_type": "stream",
     "text": [
      "<class 'pandas.core.frame.DataFrame'>\n",
      "RangeIndex: 1309 entries, 0 to 1308\n",
      "Data columns (total 15 columns):\n",
      " #   Column        Non-Null Count  Dtype  \n",
      "---  ------        --------------  -----  \n",
      " 0   passenger_id  1309 non-null   int64  \n",
      " 1   pclass        1309 non-null   int64  \n",
      " 2   name          1309 non-null   object \n",
      " 3   sex           1309 non-null   object \n",
      " 4   age           1046 non-null   float64\n",
      " 5   sibsp         1309 non-null   int64  \n",
      " 6   parch         1309 non-null   int64  \n",
      " 7   ticket        1309 non-null   object \n",
      " 8   fare          1308 non-null   float64\n",
      " 9   cabin         295 non-null    object \n",
      " 10  embarked      1307 non-null   object \n",
      " 11  boat          486 non-null    object \n",
      " 12  body          121 non-null    float64\n",
      " 13  home.dest     745 non-null    object \n",
      " 14  survived      850 non-null    float64\n",
      "dtypes: float64(4), int64(4), object(7)\n",
      "memory usage: 153.5+ KB\n"
     ]
    }
   ],
   "source": [
    "df.info()"
   ]
  },
  {
   "cell_type": "markdown",
   "id": "9e7816de",
   "metadata": {},
   "source": [
    "There we can see that there are many attributes with many missing values. As in the demo before, we have to preprocess the data."
   ]
  },
  {
   "cell_type": "code",
   "execution_count": 6,
   "id": "4c973a12",
   "metadata": {},
   "outputs": [],
   "source": [
    "datafactory = DataFactory()"
   ]
  },
  {
   "cell_type": "code",
   "execution_count": 7,
   "id": "30d7d17e",
   "metadata": {
    "scrolled": false
   },
   "outputs": [
    {
     "name": "stderr",
     "output_type": "stream",
     "text": [
      "2021-11-02 18:20:20,947 - DataFactory - INFO - Remove columns with na values of target feature survived\n",
      "2021-11-02 18:20:20,950 - DataFactory - INFO - + Start to transform the categorical columns\n",
      "2021-11-02 18:20:20,957 - DataFactory - INFO -     Start to do onehot to the following categoric features: ['sex', 'embarked']\n",
      "C:\\Users\\Nisch\\anaconda3\\envs\\datafactory\\lib\\site-packages\\sklearn\\utils\\deprecation.py:87: FutureWarning: Function get_feature_names is deprecated; get_feature_names is deprecated in 1.0 and will be removed in 1.2. Please use get_feature_names_out instead.\n",
      "  warnings.warn(msg, category=FutureWarning)\n",
      "2021-11-02 18:20:20,960 - DataFactory - INFO -     End with onehot encoding\n",
      "2021-11-02 18:20:20,961 - DataFactory - INFO -     Start to do label encoding to the following categoric features: ['name', 'ticket', 'cabin', 'boat', 'home.dest']\n",
      "2021-11-02 18:20:20,969 - DataFactory - INFO -     End with label encoding\n",
      "2021-11-02 18:20:20,972 - DataFactory - INFO - - End with categorical feature transformation\n",
      "2021-11-02 18:20:20,973 - DataFactory - INFO - + Start to clean the given dataframe\n",
      "2021-11-02 18:20:20,977 - DataFactory - INFO -     number of inf and nan are for dataset: (0, 952)\n",
      "2021-11-02 18:20:20,978 - DataFactory - INFO -     set type to float32 at first && deal with inf.\n",
      "2021-11-02 18:20:20,979 - DataFactory - INFO -     remove columns with half of nan\n",
      "2021-11-02 18:20:20,981 - DataFactory - INFO -     remove costant columns\n",
      "2021-11-02 18:20:20,984 - DataFactory - INFO -    start to fill the columns with nan\n",
      "2021-11-02 18:20:21,107 - DataFactory - INFO - - Finish with Data cleaning, number of inf and nan now are: (0, 0)\n"
     ]
    }
   ],
   "source": [
    "X_train, X_test, y_train, y_test = datafactory.preprocess_and_split(df, y_col='survived')"
   ]
  },
  {
   "cell_type": "markdown",
   "id": "7b60b9b8",
   "metadata": {},
   "source": [
    "## Models"
   ]
  },
  {
   "cell_type": "markdown",
   "id": "91547430",
   "metadata": {},
   "source": [
    "There are a variety of machine learning models. Now we want to present the most common models."
   ]
  },
  {
   "cell_type": "markdown",
   "id": "bbdc17b9",
   "metadata": {},
   "source": [
    "### Decision tree"
   ]
  },
  {
   "cell_type": "markdown",
   "id": "82289a3f",
   "metadata": {},
   "source": [
    "A decision tree is one of the most simple models. Every node represents a logical rule (e.g. is feature smaller than a certain value). Depending on the values of the feature of the sample that is used to be classified, we look at the left or right child node. "
   ]
  },
  {
   "cell_type": "markdown",
   "id": "f4bcfcb9",
   "metadata": {},
   "source": [
    "<img src=\"../images/decision_tree2.png\"/>"
   ]
  },
  {
   "cell_type": "code",
   "execution_count": 10,
   "id": "a0b32092",
   "metadata": {},
   "outputs": [],
   "source": [
    "dt = tree.DecisionTreeClassifier()\n",
    "dt = dt.fit(X_train, y_train)"
   ]
  },
  {
   "cell_type": "code",
   "execution_count": 13,
   "id": "75a90af0",
   "metadata": {},
   "outputs": [],
   "source": [
    "predict = dt.predict(X_test)\n",
    "score = f1_score(y_test, predict)"
   ]
  },
  {
   "cell_type": "code",
   "execution_count": 14,
   "id": "cf008e9b",
   "metadata": {},
   "outputs": [
    {
     "data": {
      "text/plain": [
       "0.9358974358974359"
      ]
     },
     "execution_count": 14,
     "metadata": {},
     "output_type": "execute_result"
    }
   ],
   "source": [
    "score"
   ]
  },
  {
   "cell_type": "markdown",
   "id": "fd53602b",
   "metadata": {},
   "source": [
    "### Random forest"
   ]
  },
  {
   "cell_type": "markdown",
   "id": "179825fa",
   "metadata": {},
   "source": [
    "A random forest consists of multiple different decision tree. The finale prediction is the average over the prediction of each decision tree."
   ]
  },
  {
   "cell_type": "markdown",
   "id": "3c870bb8",
   "metadata": {},
   "source": [
    "<img src=\"../images/random_forest.png\"/>"
   ]
  },
  {
   "cell_type": "code",
   "execution_count": 18,
   "id": "e5c55e06",
   "metadata": {},
   "outputs": [],
   "source": [
    "rf = RandomForestClassifier()\n",
    "rf = rf.fit(X_train, y_train)"
   ]
  },
  {
   "cell_type": "code",
   "execution_count": 19,
   "id": "ef7dfcbc",
   "metadata": {},
   "outputs": [],
   "source": [
    "predict = rf.predict(X_test)\n",
    "score = f1_score(y_test, predict)"
   ]
  },
  {
   "cell_type": "code",
   "execution_count": 20,
   "id": "0a43c7d4",
   "metadata": {},
   "outputs": [
    {
     "data": {
      "text/plain": [
       "0.9610389610389611"
      ]
     },
     "execution_count": 20,
     "metadata": {},
     "output_type": "execute_result"
    }
   ],
   "source": [
    "score"
   ]
  },
  {
   "cell_type": "markdown",
   "id": "1e22dcab",
   "metadata": {},
   "source": [
    "### Neural Network"
   ]
  },
  {
   "cell_type": "markdown",
   "id": "53e9e68c",
   "metadata": {},
   "source": [
    "<img src=\"../images/neural_network.png\"/>"
   ]
  },
  {
   "cell_type": "code",
   "execution_count": null,
   "id": "598087e0",
   "metadata": {},
   "outputs": [],
   "source": []
  },
  {
   "cell_type": "code",
   "execution_count": null,
   "id": "9f861e8d",
   "metadata": {},
   "outputs": [],
   "source": []
  }
 ],
 "metadata": {
  "kernelspec": {
   "display_name": "datafactory",
   "language": "python",
   "name": "datafactory"
  },
  "language_info": {
   "codemirror_mode": {
    "name": "ipython",
    "version": 3
   },
   "file_extension": ".py",
   "mimetype": "text/x-python",
   "name": "python",
   "nbconvert_exporter": "python",
   "pygments_lexer": "ipython3",
   "version": "3.8.12"
  }
 },
 "nbformat": 4,
 "nbformat_minor": 5
}
