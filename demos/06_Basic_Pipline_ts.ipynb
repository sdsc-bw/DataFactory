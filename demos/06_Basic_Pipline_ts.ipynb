{
 "cells": [
  {
   "cell_type": "markdown",
   "id": "7f6e90f4",
   "metadata": {},
   "source": [
    "<a href=\"https://colab.research.google.com/github/sdsc-bw/DataFactory/blob/develop/demos/06_Basic_Pipline.ipynb\" target=\"_parent\"><img src=\"https://colab.research.google.com/assets/colab-badge.svg\" alt=\"Open In Colab\"/></a>"
   ]
  },
  {
   "cell_type": "code",
   "execution_count": 1,
   "id": "60bde7a9",
   "metadata": {},
   "outputs": [],
   "source": [
    "# if running in colab\n",
    "import sys\n",
    "if 'google.colab' in sys.modules:\n",
    "    !git clone https://github.com/sdsc-bw/DataFactory.git # clone repository for colab\n",
    "    !ls\n",
    "    \n",
    "    !pip install cloudpickle==1.6.0\n",
    "    !pip install imgaug==0.2.6\n",
    "    !pip install scipy==1.7.3 # install scipy to use hyperopt, RESTART RUNTIME AFTER THAT\n",
    "    \n",
    "    !pip install mlflow # install mlflow to use hyperopt\n",
    "    !pip install dtreeviz \n",
    "    !pip install dash \n",
    "    !pip install dash-interactive-graphviz \n",
    "    !pip install -U kaleido \n",
    "    !pip install pytorchcv \n",
    "    \n",
    "    # install auto-sklearn\n",
    "    !sudo apt-get install build-essential swig\n",
    "    !curl https://raw.githubusercontent.com/automl/auto-sklearn/master/requirements.txt | xargs -n 1 -L 1 pip install\n",
    "    \n",
    "    !pip install tsai # install tsai"
   ]
  },
  {
   "cell_type": "code",
   "execution_count": 2,
   "id": "e679097c",
   "metadata": {},
   "outputs": [],
   "source": [
    "import warnings # igorne irrelevant warnings\n",
    "warnings.filterwarnings('ignore')"
   ]
  },
  {
   "cell_type": "code",
   "execution_count": 3,
   "id": "666004e6",
   "metadata": {},
   "outputs": [
    {
     "name": "stderr",
     "output_type": "stream",
     "text": [
      "2022-08-23 19:37:06,249 - init\n"
     ]
    }
   ],
   "source": [
    "if 'google.colab' in sys.modules:\n",
    "    root = 'DataFactory/'\n",
    "else:\n",
    "    root = '../'\n",
    "sys.path.append(root)\n",
    "\n",
    "from datafactory.ts.pipline.basic import run_pipline"
   ]
  },
  {
   "cell_type": "code",
   "execution_count": null,
   "id": "00595d90",
   "metadata": {},
   "outputs": [
    {
     "name": "stderr",
     "output_type": "stream",
     "text": [
      "100%|████████████████████████████████████████████████████████████████████████████████████| 1/1 [00:00<00:00, 13.74it/s]\n",
      "2022-08-23 19:37:09,561 - Start to transform the categorical columns...\n",
      "2022-08-23 19:37:09,565 - ...End with categorical feature transformation\n"
     ]
    },
    {
     "name": "stdout",
     "output_type": "stream",
     "text": [
      "#### Encoding and categorical features extraction \n",
      "\n",
      "K-term function is activated, try to extract the k-term for each object feature \n",
      "\n",
      "***0*** k-term features are extracted \n",
      "\n",
      "Shape of the given dataframe after encoding is: ***(9357, 13)*** \n",
      "\n",
      "Dash is running on http://127.0.0.1:8050/\n",
      "\n"
     ]
    },
    {
     "name": "stderr",
     "output_type": "stream",
     "text": [
      "2022-08-23 19:37:09,935 - Dash is running on http://127.0.0.1:8050/\n",
      "\n"
     ]
    },
    {
     "name": "stdout",
     "output_type": "stream",
     "text": [
      " * Serving Flask app 'datafactory.ts.pipline.basic' (lazy loading)\n",
      " * Environment: production\n",
      "\u001b[31m   WARNING: This is a development server. Do not use it in a production deployment.\u001b[0m\n",
      "\u001b[2m   Use a production WSGI server instead.\u001b[0m\n",
      " * Debug mode: off\n"
     ]
    },
    {
     "name": "stderr",
     "output_type": "stream",
     "text": [
      "2022-08-23 19:37:09,945 -  * Running on http://127.0.0.1:8050/ (Press CTRL+C to quit)\n",
      "2022-08-23 19:37:12,478 - 127.0.0.1 - - [23/Aug/2022 19:37:12] \"GET / HTTP/1.1\" 200 -\n",
      "2022-08-23 19:37:12,496 - 127.0.0.1 - - [23/Aug/2022 19:37:12] \"\u001b[36mGET /assets/style.css?m=1661257241.8850842 HTTP/1.1\u001b[0m\" 304 -\n",
      "2022-08-23 19:37:13,326 - 127.0.0.1 - - [23/Aug/2022 19:37:13] \"GET /_dash-dependencies HTTP/1.1\" 200 -\n",
      "2022-08-23 19:37:13,334 - 127.0.0.1 - - [23/Aug/2022 19:37:13] \"GET /_dash-layout HTTP/1.1\" 200 -\n",
      "2022-08-23 19:37:13,353 - 127.0.0.1 - - [23/Aug/2022 19:37:13] \"GET /_dash-component-suites/dash/dash_table/async-highlight.js HTTP/1.1\" 200 -\n",
      "2022-08-23 19:37:13,358 - 127.0.0.1 - - [23/Aug/2022 19:37:13] \"GET /_dash-component-suites/dash/dash_table/async-table.js HTTP/1.1\" 200 -\n",
      "2022-08-23 19:37:30,277 - 127.0.0.1 - - [23/Aug/2022 19:37:30] \"GET /_dash-component-suites/dash/dcc/async-dropdown.js HTTP/1.1\" 200 -\n",
      "2022-08-23 19:39:54,740 - 127.0.0.1 - - [23/Aug/2022 19:39:54] \"GET /_dash-component-suites/dash/dcc/async-graph.js HTTP/1.1\" 200 -\n",
      "2022-08-23 19:39:54,749 - 127.0.0.1 - - [23/Aug/2022 19:39:54] \"GET /_dash-component-suites/dash/dcc/async-plotlyjs.js HTTP/1.1\" 200 -\n"
     ]
    }
   ],
   "source": [
    "run_pipline('csv', 'R', '../data/AirQualityUCI/', is_file=False, time_col={'date': 'Date', 'time': 'Time'}, time_format='%d.%m.%Y %H.%M.%S',index_col=None, sep=';')"
   ]
  }
 ],
 "metadata": {
  "kernelspec": {
   "display_name": "dfgpu",
   "language": "python",
   "name": "dfgpu"
  },
  "language_info": {
   "codemirror_mode": {
    "name": "ipython",
    "version": 3
   },
   "file_extension": ".py",
   "mimetype": "text/x-python",
   "name": "python",
   "nbconvert_exporter": "python",
   "pygments_lexer": "ipython3",
   "version": "3.8.12"
  }
 },
 "nbformat": 4,
 "nbformat_minor": 5
}
