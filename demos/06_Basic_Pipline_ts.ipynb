{
 "cells": [
  {
   "cell_type": "markdown",
   "id": "7f6e90f4",
   "metadata": {},
   "source": [
    "<a href=\"https://colab.research.google.com/github/sdsc-bw/DataFactory/blob/develop/demos/06_Basic_Pipline.ipynb\" target=\"_parent\"><img src=\"https://colab.research.google.com/assets/colab-badge.svg\" alt=\"Open In Colab\"/></a>"
   ]
  },
  {
   "cell_type": "code",
   "execution_count": 1,
   "id": "60bde7a9",
   "metadata": {},
   "outputs": [],
   "source": [
    "# if running in colab\n",
    "import sys\n",
    "if 'google.colab' in sys.modules:\n",
    "    !git clone https://github.com/sdsc-bw/DataFactory.git # clone repository for colab\n",
    "    !ls\n",
    "    \n",
    "    !pip install cloudpickle==1.6.0\n",
    "    !pip install imgaug==0.2.6\n",
    "    !pip install scipy==1.7.3 # install scipy to use hyperopt, RESTART RUNTIME AFTER THAT\n",
    "    \n",
    "    !pip install mlflow # install mlflow to use hyperopt\n",
    "    !pip install dtreeviz \n",
    "    !pip install dash \n",
    "    !pip install dash-interactive-graphviz \n",
    "    !pip install -U kaleido \n",
    "    !pip install pytorchcv \n",
    "    \n",
    "    # install auto-sklearn\n",
    "    !sudo apt-get install build-essential swig\n",
    "    !curl https://raw.githubusercontent.com/automl/auto-sklearn/master/requirements.txt | xargs -n 1 -L 1 pip install\n",
    "    \n",
    "    !pip install tsai # install tsai"
   ]
  },
  {
   "cell_type": "code",
   "execution_count": 2,
   "id": "e679097c",
   "metadata": {},
   "outputs": [],
   "source": [
    "import warnings # igorne irrelevant warnings\n",
    "warnings.filterwarnings('ignore')"
   ]
  },
  {
   "cell_type": "code",
   "execution_count": 3,
   "id": "666004e6",
   "metadata": {},
   "outputs": [],
   "source": [
    "if 'google.colab' in sys.modules:\n",
    "    root = 'DataFactory/'\n",
    "else:\n",
    "    root = '../'\n",
    "sys.path.append(root)\n",
    "\n",
    "from datafactory.ts.pipline.basic import run_pipline"
   ]
  },
  {
   "cell_type": "code",
   "execution_count": null,
   "id": "299331d8",
   "metadata": {
    "scrolled": false
   },
   "outputs": [
    {
     "name": "stderr",
     "output_type": "stream",
     "text": [
      "100%|████████████████████████████████████████████████████████████████████████████████████| 1/1 [00:00<00:00,  6.30it/s]\n",
      "2022-08-21 21:43:59,103 - Continue with the given target: CO(GT)\n",
      "2022-08-21 21:43:59,106 - Start to clean the given dataframe...\n",
      "2022-08-21 21:43:59,149 - ...End with Data cleaning, number of INF- and NAN-values are now: (0, 0)\n",
      "2022-08-21 21:43:59,175 - Shape of the dataframe after processing is ***(9357, 12)***\n",
      "2022-08-21 21:43:59,177 - Start to detect outlier for the whole data set...\n"
     ]
    },
    {
     "name": "stdout",
     "output_type": "stream",
     "text": [
      "PT08.S1(CO)      0/9357\n",
      "NMHC(GT)         0/9357\n",
      "C6H6(GT)         0/9357\n",
      "PT08.S2(NMHC)    0/9357\n",
      "NOx(GT)          0/9357\n",
      "PT08.S3(NOx)     0/9357\n",
      "NO2(GT)          0/9357\n",
      "PT08.S4(NO2)     0/9357\n",
      "PT08.S5(O3)      0/9357\n",
      "T                0/9357\n",
      "RH               0/9357\n",
      "AH               0/9357\n",
      "dtype: object\n",
      "##############################\n",
      "Outliear detection\n",
      "##############################\n",
      "Detect outlier with strategy: density\n"
     ]
    },
    {
     "name": "stderr",
     "output_type": "stream",
     "text": [
      "2022-08-21 21:43:59,541 - ...End with outlier detection, \u001b[95m\u001b[1m936\u001b[0m outliers found\n"
     ]
    },
    {
     "name": "stdout",
     "output_type": "stream",
     "text": [
      "\u001b[95m\u001b[1m936\u001b[0m outliers found\n"
     ]
    },
    {
     "name": "stderr",
     "output_type": "stream",
     "text": [
      "  0%|                                                                                            | 0/3 [00:00<?, ?it/s]2022-08-21 21:44:06,041 - Running cross validation for: Baseline...\n",
      "2022-08-21 21:44:06,069 - Running cross validation for: Decision Tree...\n",
      " 67%|████████████████████████████████████████████████████████                            | 2/3 [00:00<00:00,  5.06it/s]2022-08-21 21:44:06,436 - Running cross validation for: Random Forest...\n",
      "100%|████████████████████████████████████████████████████████████████████████████████████| 3/3 [00:17<00:00,  5.79s/it]\n",
      "2022-08-21 21:44:23,568 - Start calculation of feature importance...\n",
      "100%|████████████████████████████████████████████████████████████████████████████████████| 2/2 [00:25<00:00, 12.73s/it]\n"
     ]
    },
    {
     "name": "stdout",
     "output_type": "stream",
     "text": [
      "Dash is running on http://127.0.0.1:8050/\n",
      "\n"
     ]
    },
    {
     "name": "stderr",
     "output_type": "stream",
     "text": [
      "2022-08-21 21:44:49,430 - Dash is running on http://127.0.0.1:8050/\n",
      "\n"
     ]
    },
    {
     "name": "stdout",
     "output_type": "stream",
     "text": [
      " * Serving Flask app 'datafactory.ts.pipline.basic' (lazy loading)\n",
      " * Environment: production\n",
      "\u001b[31m   WARNING: This is a development server. Do not use it in a production deployment.\u001b[0m\n",
      "\u001b[2m   Use a production WSGI server instead.\u001b[0m\n",
      " * Debug mode: off\n"
     ]
    },
    {
     "name": "stderr",
     "output_type": "stream",
     "text": [
      "2022-08-21 21:44:49,447 -  * Running on http://127.0.0.1:8050/ (Press CTRL+C to quit)\n",
      "2022-08-21 21:45:01,044 - 127.0.0.1 - - [21/Aug/2022 21:45:01] \"GET / HTTP/1.1\" 200 -\n",
      "2022-08-21 21:45:01,094 - 127.0.0.1 - - [21/Aug/2022 21:45:01] \"\u001b[36mGET /assets/style.css?m=1661104864.3056462 HTTP/1.1\u001b[0m\" 304 -\n",
      "2022-08-21 21:45:01,577 - 127.0.0.1 - - [21/Aug/2022 21:45:01] \"GET /_dash-layout HTTP/1.1\" 200 -\n",
      "2022-08-21 21:45:01,581 - 127.0.0.1 - - [21/Aug/2022 21:45:01] \"GET /_dash-dependencies HTTP/1.1\" 200 -\n",
      "2022-08-21 21:45:02,070 - 127.0.0.1 - - [21/Aug/2022 21:45:02] \"POST /_dash-update-component HTTP/1.1\" 200 -\n",
      "2022-08-21 21:45:02,268 - 127.0.0.1 - - [21/Aug/2022 21:45:02] \"POST /_dash-update-component HTTP/1.1\" 200 -\n",
      "2022-08-21 21:45:02,379 - 127.0.0.1 - - [21/Aug/2022 21:45:02] \"POST /_dash-update-component HTTP/1.1\" 200 -\n",
      "2022-08-21 21:45:02,422 - 127.0.0.1 - - [21/Aug/2022 21:45:02] \"POST /_dash-update-component HTTP/1.1\" 200 -\n",
      "2022-08-21 21:45:05,070 - 127.0.0.1 - - [21/Aug/2022 21:45:05] \"GET /_dash-component-suites/dash/dcc/async-dropdown.js HTTP/1.1\" 200 -\n",
      "2022-08-21 21:45:06,724 - 127.0.0.1 - - [21/Aug/2022 21:45:06] \"POST /_dash-update-component HTTP/1.1\" 200 -\n",
      "2022-08-21 21:45:11,558 - 127.0.0.1 - - [21/Aug/2022 21:45:11] \"GET /_dash-component-suites/dash/dcc/async-graph.js HTTP/1.1\" 200 -\n",
      "2022-08-21 21:45:11,652 - 127.0.0.1 - - [21/Aug/2022 21:45:11] \"GET /_dash-component-suites/dash/dcc/async-plotlyjs.js HTTP/1.1\" 200 -\n",
      "2022-08-21 21:45:12,819 - 127.0.0.1 - - [21/Aug/2022 21:45:12] \"POST /_dash-update-component HTTP/1.1\" 200 -\n",
      "2022-08-21 21:45:12,928 - 127.0.0.1 - - [21/Aug/2022 21:45:12] \"POST /_dash-update-component HTTP/1.1\" 200 -\n",
      "2022-08-21 21:45:13,055 - 127.0.0.1 - - [21/Aug/2022 21:45:13] \"POST /_dash-update-component HTTP/1.1\" 200 -\n",
      "2022-08-21 21:45:14,102 - 127.0.0.1 - - [21/Aug/2022 21:45:14] \"POST /_dash-update-component HTTP/1.1\" 200 -\n"
     ]
    }
   ],
   "source": [
    "run_pipline('csv', '../data/AirQualityUCI/', is_file=False, target_col='CO(GT)', model_type='R', time_col={'date': 'Date', 'time': 'Time'}, time_format='%d.%m.%Y %H.%M.%S',index_col=None, sep=';')"
   ]
  },
  {
   "cell_type": "code",
   "execution_count": null,
   "id": "00595d90",
   "metadata": {},
   "outputs": [],
   "source": []
  }
 ],
 "metadata": {
  "kernelspec": {
   "display_name": "dfgpu",
   "language": "python",
   "name": "dfgpu"
  },
  "language_info": {
   "codemirror_mode": {
    "name": "ipython",
    "version": 3
   },
   "file_extension": ".py",
   "mimetype": "text/x-python",
   "name": "python",
   "nbconvert_exporter": "python",
   "pygments_lexer": "ipython3",
   "version": "3.8.12"
  }
 },
 "nbformat": 4,
 "nbformat_minor": 5
}
